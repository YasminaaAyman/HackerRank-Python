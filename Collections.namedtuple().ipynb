{
 "cells": [
  {
   "cell_type": "markdown",
   "metadata": {},
   "source": [
    "# Collections.namedtuple()\n",
    "Basically, namedtuples are easy to create, lightweight object types.<br>\n",
    "They turn tuples into convenient containers for simple tasks.<br>\n",
    "With namedtuples, you don’t have to use integer indices for accessing members of a tuple.<br>\n",
    "\n",
    "### Example\n",
    "\n",
    "**Code 01**\n",
    "\n",
    "> `>>> from collections import namedtuple`<br>\n",
    "`>>> Point = namedtuple('Point','x,y')`<br>\n",
    "`>>> pt1 = Point(1,2)`<br>\n",
    "`>>> pt2 = Point(3,4)`<br>\n",
    "`>>> dot_product = ( pt1.x * pt2.x ) +( pt1.y * pt2.y )`<br>\n",
    "`>>> print dot_product`<br>\n",
    "`11`<br>\n",
    "\n",
    "**Code 02**\n",
    "\n",
    "> `>>> from collections import namedtuple`<br>\n",
    "`>>> Car = namedtuple('Car','Price Mileage Colour Class')`<br>\n",
    "`>>> xyz = Car(Price = 100000, Mileage = 30, Colour = 'Cyan', Class = 'Y')`<br>\n",
    "`>>> print xyz`<br>\n",
    "`Car(Price=100000, Mileage=30, Colour='Cyan', Class='Y')`<br>\n",
    "`>>> print xyz.Class`<br>\n",
    "`Y`<br>\n",
    "\n",
    "### Task\n",
    "\n",
    "Dr. John Wesley has a spreadsheet containing a list of student's $ ID's $, $ marks $, $ class $ and $ name $.\n",
    "\n",
    "Your task is to help Dr. Wesley calculate the average marks of the students.\n",
    "\n",
    "&nbsp;&nbsp;&nbsp;&nbsp;&nbsp;&nbsp;&nbsp;&nbsp; $Average = \\frac{sum of all marks}{Total students}$\n",
    "\n",
    "**Note:**\n",
    "1. **Columns can be in any order. IDs, marks, class and name can be written in any order in the spreadsheet.**\n",
    "2. **Column names are** ID, MARKS, CLASS **and** NAME. **(The spelling and case type of these names won't change.)**\n",
    "\n",
    "### Input Format\n",
    "\n",
    "The first line contains an integer $ N $, the total number of students.<br>\n",
    "The second line contains the names of the columns in any order.<br>\n",
    "The next $ N $ lines contains the $ marks $, $ IDs $, $ name $ and $ class $, under their respective column names.<br>\n",
    "\n",
    "### Constraints\n",
    "\n",
    "$ 0 < N ≤ 100 $\n",
    "\n",
    "### Output Format\n",
    "\n",
    "Print the average marks of the list corrected to 2 decimal places."
   ]
  },
  {
   "cell_type": "code",
   "execution_count": 1,
   "metadata": {},
   "outputs": [
    {
     "name": "stdout",
     "output_type": "stream",
     "text": [
      "5\n",
      "MARKS      CLASS      NAME       ID\n",
      "92         2          Calum      1\n",
      "82         5          Scott      2\n",
      "94         2          Jason      3\n",
      "55         8          Glenn      4\n",
      "82         2          Fergus     5\n",
      "81.0\n"
     ]
    }
   ],
   "source": [
    "from collections import namedtuple\n",
    "\n",
    "N = int(input())\n",
    "students_data = namedtuple('Students',input().split())\n",
    "total = 0\n",
    "for i in range(N):\n",
    "    column1, column2, column3, column4 = input().split()\n",
    "    student = students_data(column1, column2, column3, column4)\n",
    "    total += int(student.MARKS)\n",
    "    \n",
    "print(round(total/N,ndigits=2))"
   ]
  }
 ],
 "metadata": {
  "kernelspec": {
   "display_name": "Python 3",
   "language": "python",
   "name": "python3"
  },
  "language_info": {
   "codemirror_mode": {
    "name": "ipython",
    "version": 3
   },
   "file_extension": ".py",
   "mimetype": "text/x-python",
   "name": "python",
   "nbconvert_exporter": "python",
   "pygments_lexer": "ipython3",
   "version": "3.8.5"
  }
 },
 "nbformat": 4,
 "nbformat_minor": 4
}
