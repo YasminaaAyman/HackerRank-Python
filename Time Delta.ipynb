{
 "cells": [
  {
   "cell_type": "markdown",
   "metadata": {},
   "source": [
    "# Time Delta\n",
    "When users post an update on social media,such as a URL, image, status update etc., other users in their network are able to view this new post on their news feed. Users can also see exactly when the post was published, i.e, how many hours, minutes or seconds ago.<br>\n",
    "\n",
    "Since sometimes posts are published and viewed in different time zones, this can be confusing. You are given two timestamps of one such post that a user can see on his newsfeed in the following format:<br>\n",
    "\n",
    "Day dd Mon yyyy hh:mm:ss +xxxx<br>\n",
    "\n",
    "Here +xxxx represents the time zone. Your task is to print the absolute difference (in seconds) between them.<br>\n",
    "\n",
    "### Input Format\n",
    "\n",
    "The first line contains $T$, the number of testcases.\n",
    "Each testcase contains $2$ lines, representing time $t1$ and time $t2$.\n",
    "\n",
    "### Constraints\n",
    "\n",
    "* Input contains only valid timestamps\n",
    "* $year ≤ 3000.$\n",
    "\n",
    "### Output Format\n",
    "\n",
    "Print the absolute difference $(t1 - t2)$ in seconds.\n",
    "\n",
    "### Sample Input 0\n",
    "\n",
    "> `2`<br>\n",
    "`Sun 10 May 2015 13:54:36 -0700`<br>\n",
    "`Sun 10 May 2015 13:54:36 -0000`<br>\n",
    "`Sat 02 May 2015 19:54:36 +0530`<br>\n",
    "`Fri 01 May 2015 13:54:36 -0000`<br>\n",
    "\n",
    "### Sample Output 0\n",
    "\n",
    "> `25200`<br>\n",
    "`88200`<br>\n",
    "\n",
    "### Explanation 0\n",
    "\n",
    "In the first query, when we compare the time in UTC for both the time stamps, we see a difference of 7 hours. which is $7 x 3600$ seconds or $25200$ seconds.<br>\n",
    "\n",
    "Similarly, in the second query, time difference is 5 hours and 30 minutes for time zone adjusting for that we have a difference of 1 day and 30 minutes. Or $24 x 3600 + 30 x 60 = 88200$"
   ]
  },
  {
   "cell_type": "code",
   "execution_count": 1,
   "metadata": {},
   "outputs": [
    {
     "name": "stdout",
     "output_type": "stream",
     "text": [
      "2\n",
      "Sun 10 May 2015 13:54:36 -0700\n",
      "Sun 10 May 2015 13:54:36 -0000\n",
      "25200\n",
      "Sat 02 May 2015 19:54:36 +0530\n",
      "Fri 01 May 2015 13:54:36 -0000\n",
      "88200\n"
     ]
    }
   ],
   "source": [
    "import math\n",
    "from datetime import datetime\n",
    "\n",
    "if __name__ == '__main__':\n",
    "    t = int(input())\n",
    "\n",
    "    for t_itr in range(t):\n",
    "        t1=datetime.strptime(input(),'%a %d %b %Y %H:%M:%S %z')\n",
    "        t2=datetime.strptime(input(),'%a %d %b %Y %H:%M:%S %z')\n",
    "        print (int(abs((t1-t2).total_seconds())))\n"
   ]
  }
 ],
 "metadata": {
  "kernelspec": {
   "display_name": "Python 3",
   "language": "python",
   "name": "python3"
  },
  "language_info": {
   "codemirror_mode": {
    "name": "ipython",
    "version": 3
   },
   "file_extension": ".py",
   "mimetype": "text/x-python",
   "name": "python",
   "nbconvert_exporter": "python",
   "pygments_lexer": "ipython3",
   "version": "3.8.5"
  }
 },
 "nbformat": 4,
 "nbformat_minor": 4
}
