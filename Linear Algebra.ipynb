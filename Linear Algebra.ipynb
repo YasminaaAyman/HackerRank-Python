{
 "cells": [
  {
   "cell_type": "markdown",
   "metadata": {},
   "source": [
    "# Linear Algebra\n",
    "The NumPy module also comes with a number of built-in routines for linear algebra calculations. These can be found in the sub-module linalg.\n",
    "\n",
    "### [linalg.det](https://numpy.org/doc/stable/reference/generated/numpy.linalg.det.html)\n",
    "\n",
    "The linalg.det tool computes the determinant of an array.<br>\n",
    "\n",
    "> `print numpy.linalg.det([[1 , 2], [2, 1]])       #Output : -3.0`<br>\n",
    "***\n",
    "\n",
    "### [linalg.eig](https://numpy.org/doc/stable/reference/generated/numpy.linalg.eig.html)\n",
    "\n",
    "The linalg.eig computes the eigenvalues and right eigenvectors of a square array.<br>\n",
    "\n",
    "> `vals, vecs = numpy.linalg.eig([[1 , 2], [2, 1]])`<br>\n",
    "`print vals                                      #Output : [ 3. -1.]`<br>\n",
    "`print vecs                                      #Output : [[ 0.70710678 -0.70710678]`<br>\n",
    "`                                                #          [ 0.70710678  0.70710678]]`<br>\n",
    "***\n",
    "\n",
    "### [linalg.inv](https://numpy.org/doc/stable/reference/generated/numpy.linalg.inv.html)\n",
    "\n",
    "The linalg.inv tool computes the (multiplicative) inverse of a matrix.<br>\n",
    "\n",
    "> `print numpy.linalg.inv([[1 , 2], [2, 1]])       #Output : [[-0.33333333  0.66666667]`<br>\n",
    "`                                                #          [ 0.66666667 -0.33333333]]`<br>\n",
    "\n",
    "Other routines can be found [here](https://numpy.org/doc/stable/reference/routines.linalg.html)<br>\n",
    "***\n",
    "\n",
    "### Task\n",
    "\n",
    "You are given a square matrix $A$ with dimensions $N$X$N$. Your task is to find the determinant. Note: Round the answer to 2 places after the decimal.\n",
    "\n",
    "### Input Format\n",
    "\n",
    "The first line contains the integer $N$.<br>\n",
    "The next $N$ lines contains the $N$ space separated elements of array $A$.\n",
    "\n",
    "### Output Format\n",
    "\n",
    "Print the determinant of $A$.\n",
    "\n",
    "### Sample Input\n",
    "\n",
    "> `2`<br>\n",
    "`1.1 1.1`<br>\n",
    "`1.1 1.1`\n",
    "\n",
    "### Sample Output\n",
    "\n",
    "> `0.0`"
   ]
  },
  {
   "cell_type": "code",
   "execution_count": 1,
   "metadata": {},
   "outputs": [
    {
     "name": "stdout",
     "output_type": "stream",
     "text": [
      "2\n",
      "1.1 1.1\n",
      "1.1 1.1\n",
      "0.0\n"
     ]
    }
   ],
   "source": [
    "import numpy as np\n",
    "np.set_printoptions(legacy='1.13')\n",
    "\n",
    "n = int(input())\n",
    "A = np.array([input().split() for _ in range(n)], float)\n",
    "print(np.linalg.det(A))"
   ]
  }
 ],
 "metadata": {
  "kernelspec": {
   "display_name": "Python 3",
   "language": "python",
   "name": "python3"
  },
  "language_info": {
   "codemirror_mode": {
    "name": "ipython",
    "version": 3
   },
   "file_extension": ".py",
   "mimetype": "text/x-python",
   "name": "python",
   "nbconvert_exporter": "python",
   "pygments_lexer": "ipython3",
   "version": "3.8.5"
  }
 },
 "nbformat": 4,
 "nbformat_minor": 4
}
