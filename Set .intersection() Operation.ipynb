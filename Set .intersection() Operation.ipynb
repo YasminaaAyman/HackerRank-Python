{
 "cells": [
  {
   "cell_type": "markdown",
   "metadata": {},
   "source": [
    "# Set .intersection() Operation\n",
    "![image](https://s3.amazonaws.com/hr-challenge-images/9419/1437830945-a56a63892c-AB.png)\n",
    "\n",
    "### .intersection()\n",
    "The .intersection() operator returns the intersection of a set and the set of elements in an iterable.<br>\n",
    "Sometimes, the & operator is used in place of the .intersection() operator, but it only operates on the set of elements in set.<br>\n",
    "The set is immutable to the .intersection() operation (or & operation).<br>\n",
    "\n",
    "> `>>> s = set(\"Hacker\")`<br>\n",
    "`>>> print s.intersection(\"Rank\")`<br>\n",
    "`set(['a', 'k'])`<br><br>\n",
    "`>>> print s.intersection(set(['R', 'a', 'n', 'k']))`<br>\n",
    "`set(['a', 'k'])`<br><br>\n",
    "`>>> print s.intersection(['R', 'a', 'n', 'k'])`<br>\n",
    "`set(['a', 'k'])`<br><br>\n",
    "`>>> print s.intersection(enumerate(['R', 'a', 'n', 'k']))`<br>\n",
    "`set([])`<br><br>\n",
    "`>>> print s.intersec<br><br>tion({\"Rank\":1})`<br>\n",
    "`set([])`<br><br>\n",
    "`>>> s & set(\"Rank\")`<br>\n",
    "`set(['a', 'k'])`<br><br>\n",
    "\n",
    "### Task\n",
    "The students of District College have subscriptions to English and French newspapers. Some students have subscribed only to English, some have subscribed only to French, and some have subscribed to both newspapers.<br>\n",
    "\n",
    "You are given two sets of student roll numbers. One set has subscribed to the English newspaper, one set has subscribed to the French newspaper. Your task is to find the total number of students who have subscribed to both newspapers.<br>\n",
    "\n",
    "### Input Format\n",
    "\n",
    "The first line contains **n**, the number of students who have subscribed to the English newspaper.<br>\n",
    "The second line contains **n** space separated roll numbers of those students.<br>\n",
    "The third line contains **b**, the number of students who have subscribed to the French newspaper.<br>\n",
    "The fourth line contains **b** space separated roll numbers of those students.<br>\n",
    "\n",
    "### Constraints\n",
    "$ 0 < Total number of students in college < 1000 $\n",
    "\n",
    "### Output Format\n",
    "\n",
    "Output the total number of students who have subscriptions to **both** English and French newspapers."
   ]
  },
  {
   "cell_type": "code",
   "execution_count": 1,
   "metadata": {},
   "outputs": [
    {
     "name": "stdout",
     "output_type": "stream",
     "text": [
      "9\n",
      "1 2 3 4 5 6 7 8 9\n",
      "9\n",
      "10 1 2 3 11 21 55 6 8\n",
      "5\n"
     ]
    }
   ],
   "source": [
    "if __name__ == '__main__':\n",
    "    n = int(input())\n",
    "    set1 = set(map(int, input().split()))\n",
    "    b = int(input())\n",
    "    set2 = set(map(int, input().split()))\n",
    "    sets_inter = set1.intersection(set2)\n",
    "    print(len(sets_inter))"
   ]
  }
 ],
 "metadata": {
  "kernelspec": {
   "display_name": "Python 3",
   "language": "python",
   "name": "python3"
  },
  "language_info": {
   "codemirror_mode": {
    "name": "ipython",
    "version": 3
   },
   "file_extension": ".py",
   "mimetype": "text/x-python",
   "name": "python",
   "nbconvert_exporter": "python",
   "pygments_lexer": "ipython3",
   "version": "3.8.5"
  }
 },
 "nbformat": 4,
 "nbformat_minor": 4
}
