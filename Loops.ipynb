{
 "cells": [
  {
   "cell_type": "markdown",
   "metadata": {},
   "source": [
    "# Loops\n",
    "### Task\n",
    "The provided code stub reads and integer, `n`, from STDIN. For all non-negative integers $ i < n $, print $ i^2 $.\n",
    "### Example \n",
    "$ n = 3 $\n",
    "The list of non-negative integers that are less than $ n = 3 $ is $ [0,1,2] $. Print the square of each number on a separate line.<br>\n",
    "`0`<br>`1`<br>`4`\n",
    "### Input Format\n",
    "The first and only line contains the integer, `n`.\n",
    "### Constraints\n",
    "$ 1 <= n <= 20 $\n",
    "### Output Format\n",
    "Print `n` lines, one corresponding to each `i`."
   ]
  },
  {
   "cell_type": "code",
   "execution_count": 1,
   "metadata": {},
   "outputs": [
    {
     "name": "stdout",
     "output_type": "stream",
     "text": [
      "3\n",
      "0\n",
      "1\n",
      "4\n"
     ]
    }
   ],
   "source": [
    "if __name__ == '__main__':\n",
    "    n = int(input())\n",
    "    for i in range(n):\n",
    "        print(i**2)"
   ]
  },
  {
   "cell_type": "code",
   "execution_count": null,
   "metadata": {},
   "outputs": [],
   "source": []
  }
 ],
 "metadata": {
  "kernelspec": {
   "display_name": "Python 3",
   "language": "python",
   "name": "python3"
  },
  "language_info": {
   "codemirror_mode": {
    "name": "ipython",
    "version": 3
   },
   "file_extension": ".py",
   "mimetype": "text/x-python",
   "name": "python",
   "nbconvert_exporter": "python",
   "pygments_lexer": "ipython3",
   "version": "3.8.5"
  }
 },
 "nbformat": 4,
 "nbformat_minor": 4
}
