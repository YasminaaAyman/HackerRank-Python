{
 "cells": [
  {
   "cell_type": "markdown",
   "metadata": {},
   "source": [
    "# String Split and Join\n",
    "In Python, a string can be split on a delimiter.\n",
    "### Example\n",
    "`>>> a = \"this is a string\"`<br>\n",
    "`>>> a = a.split(\" \") # a is converted to a list of strings.`<br>\n",
    "`>>> print a`<br>\n",
    "`['this', 'is', 'a', 'string']`<br>\n",
    "Joining a string is simple:<br>\n",
    "`>>> a = \"-\".join(a)`<br>\n",
    "`>>> print a`<br>\n",
    "`this-is-a-string`<br>\n",
    "### Task\n",
    "You are given a string. Split the string on a \" \" (space) delimiter and join using a - hyphen.\n",
    "### Function Description\n",
    "Complete the split_and_join function in the editor below.<br>\n",
    "split_and_join has the following parameters:\n",
    "* string line: a string of space-separated words\n",
    "\n",
    "### Returns\n",
    "* string: the resulting string\n",
    "\n",
    "### Input Format\n",
    "The one line contains a string consisting of space separated words."
   ]
  },
  {
   "cell_type": "code",
   "execution_count": 4,
   "metadata": {},
   "outputs": [
    {
     "name": "stdout",
     "output_type": "stream",
     "text": [
      "this is a string\n",
      "this-is-a-string\n"
     ]
    }
   ],
   "source": [
    "def split_and_join(line):\n",
    "    return line.replace(\" \",\"-\")\n",
    "\n",
    "if __name__ == '__main__':\n",
    "    line = input()\n",
    "    result = split_and_join(line)\n",
    "    print(result)"
   ]
  }
 ],
 "metadata": {
  "kernelspec": {
   "display_name": "Python 3",
   "language": "python",
   "name": "python3"
  },
  "language_info": {
   "codemirror_mode": {
    "name": "ipython",
    "version": 3
   },
   "file_extension": ".py",
   "mimetype": "text/x-python",
   "name": "python",
   "nbconvert_exporter": "python",
   "pygments_lexer": "ipython3",
   "version": "3.8.5"
  }
 },
 "nbformat": 4,
 "nbformat_minor": 4
}
