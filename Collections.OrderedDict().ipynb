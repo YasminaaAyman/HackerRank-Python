{
 "cells": [
  {
   "cell_type": "markdown",
   "metadata": {},
   "source": [
    "# Collections.OrderedDict()\n",
    "An OrderedDict is a dictionary that remembers the order of the keys that were inserted first. If a new entry overwrites an existing entry, the original insertion position is left unchanged.\n",
    "\n",
    "### Example\n",
    "\n",
    "**Code**\n",
    "\n",
    "> `>>> from collections import OrderedDict`<br>\n",
    "`>>> `<br>\n",
    "`>>> ordinary_dictionary = {}`<br>\n",
    "`>>> ordinary_dictionary['a'] = 1`<br>\n",
    "`>>> ordinary_dictionary['b'] = 2`<br>\n",
    "`>>> ordinary_dictionary['c'] = 3`<br>\n",
    "`>>> ordinary_dictionary['d'] = 4`<br>\n",
    "`>>> ordinary_dictionary['e'] = 5`<br>\n",
    "`>>>`<br>\n",
    "`>>> print ordinary_dictionary`<br>\n",
    "`{'a': 1, 'c': 3, 'b': 2, 'e': 5, 'd': 4}`<br>\n",
    "`>>>`<br>\n",
    "`>>> ordered_dictionary = OrderedDict()`<br>\n",
    "`>>> ordered_dictionary['a'] = 1`<br>\n",
    "`>>> ordered_dictionary['b'] = 2`<br>\n",
    "`>>> ordered_dictionary['c'] = 3`<br>\n",
    "`>>> ordered_dictionary['d'] = 4`<br>\n",
    "`>>> ordered_dictionary['e'] = 5`<br>\n",
    "`>>>` <br>\n",
    "`>>> print ordered_dictionary`<br>\n",
    "`OrderedDict([('a', 1), ('b', 2), ('c', 3), ('d', 4), ('e', 5)])`<br>\n",
    "\n",
    "### Task\n",
    "\n",
    "You are the manager of a supermarket.<br>\n",
    "You have a list of $ N $ items together with their prices that consumers bought on a particular day.<br>\n",
    "Your task is to print each item_name and net_price in order of its first occurrence.<br>\n",
    "\n",
    "<font size=\"1\">item_name = Name of the item.<br>\n",
    "net_price = Quantity of the item sold multiplied by the price of each item.</font>\n",
    "\n",
    "### Input Format\n",
    "\n",
    "The first line contains the number of items,  N $.\n",
    "The next  N $ lines contains the item's name and price, separated by a space.\n",
    "\n",
    "### Constraints\n",
    "\n",
    "$ 0 < N ≤ 100 $\n",
    "\n",
    "### Output Format\n",
    "\n",
    "Print the item_name and net_price in order of its first occurrence."
   ]
  },
  {
   "cell_type": "code",
   "execution_count": 1,
   "metadata": {},
   "outputs": [
    {
     "name": "stdout",
     "output_type": "stream",
     "text": [
      "9\n",
      "BANANA FRIES 12\n",
      "POTATO CHIPS 30\n",
      "APPLE JUICE 10\n",
      "CANDY 5\n",
      "APPLE JUICE 10\n",
      "CANDY 5\n",
      "CANDY 5\n",
      "CANDY 5\n",
      "POTATO CHIPS 30\n",
      "BANANA FRIES 12\n",
      "POTATO CHIPS 60\n",
      "APPLE JUICE 20\n",
      "CANDY 20\n"
     ]
    }
   ],
   "source": [
    "from collections import OrderedDict\n",
    "\n",
    "supermarket_basket = OrderedDict()\n",
    "N = int(input())\n",
    "for i in range(N):\n",
    "    items = input().rpartition(\" \")\n",
    "    item_name, net_price = items[0], int(items[-1])\n",
    "    if item_name not in supermarket_basket:\n",
    "        supermarket_basket[item_name] = net_price\n",
    "    else:\n",
    "        supermarket_basket[item_name] += net_price\n",
    "        \n",
    "for item, price in supermarket_basket.items():\n",
    "    print(item, price)"
   ]
  }
 ],
 "metadata": {
  "kernelspec": {
   "display_name": "Python 3",
   "language": "python",
   "name": "python3"
  },
  "language_info": {
   "codemirror_mode": {
    "name": "ipython",
    "version": 3
   },
   "file_extension": ".py",
   "mimetype": "text/x-python",
   "name": "python",
   "nbconvert_exporter": "python",
   "pygments_lexer": "ipython3",
   "version": "3.8.5"
  }
 },
 "nbformat": 4,
 "nbformat_minor": 4
}
