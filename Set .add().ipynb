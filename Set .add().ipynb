{
 "cells": [
  {
   "cell_type": "markdown",
   "metadata": {},
   "source": [
    "# Set .add()\n",
    "If we want to add a single element to an existing set, we can use the .add() operation.<br>\n",
    "It adds the element to the set and returns 'None'.<br>\n",
    "### Example\n",
    "\n",
    "> `>>> s = set('HackerRank')`<br>\n",
    "`>>> s.add('H')`<br>\n",
    "`>>> print s`<br>\n",
    "`set(['a', 'c', 'e', 'H', 'k', 'n', 'r', 'R'])`<br>\n",
    "`>>> print s.add('HackerRank')`<br>\n",
    "`None`<br>\n",
    "`>>> print s`<br>\n",
    "`set(['a', 'c', 'e', 'HackerRank', 'H', 'k', 'n', 'r', 'R'])`<br>\n",
    "\n",
    "### Task\n",
    "\n",
    "Apply your knowledge of the .add() operation to help your friend Rupal.<br>\n",
    "\n",
    "Rupal has a huge collection of country stamps. She decided to count the total number of distinct country stamps in her collection. She asked for your help. You pick the stamps one by one from a stack of **N** country stamps.<br>\n",
    "\n",
    "Find the total number of distinct country stamps.<br>\n",
    "\n",
    "### Input Format\n",
    "\n",
    "The first line contains an integer **N**, the total number of country stamps.<br>\n",
    "The next **N** lines contains the name of the country where the stamp is from.<br>\n",
    "### Constraints\n",
    "$ 0 < N < 1000 $\n",
    "\n",
    "### Output Format\n",
    "\n",
    "Output the total number of distinct country stamps on a single line."
   ]
  },
  {
   "cell_type": "code",
   "execution_count": 1,
   "metadata": {},
   "outputs": [
    {
     "name": "stdout",
     "output_type": "stream",
     "text": [
      "7\n",
      "UK\n",
      "China\n",
      "USA\n",
      "France\n",
      "New Zealand\n",
      "UK\n",
      "France\n",
      "5\n"
     ]
    }
   ],
   "source": [
    "if __name__ == '__main__':\n",
    "    n = int(input())\n",
    "    countries = set()\n",
    "    for i in range(n):\n",
    "        countries.add(input())\n",
    "    print(len(countries))"
   ]
  }
 ],
 "metadata": {
  "kernelspec": {
   "display_name": "Python 3",
   "language": "python",
   "name": "python3"
  },
  "language_info": {
   "codemirror_mode": {
    "name": "ipython",
    "version": 3
   },
   "file_extension": ".py",
   "mimetype": "text/x-python",
   "name": "python",
   "nbconvert_exporter": "python",
   "pygments_lexer": "ipython3",
   "version": "3.8.5"
  }
 },
 "nbformat": 4,
 "nbformat_minor": 4
}
