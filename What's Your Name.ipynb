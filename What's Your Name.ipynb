{
 "cells": [
  {
   "cell_type": "markdown",
   "metadata": {},
   "source": [
    "# What's Your Name?\n",
    "You are given the firstname and lastname of a person on two different lines. Your task is to read them and print the following:\n",
    "> `Hello firstname lastname! You just delved into python.`\n",
    "### Function Description\n",
    "Complete the print_full_name function in the editor below.<br>\n",
    "print_full_name has the following parameters:<br>\n",
    "* string first: the first name\n",
    "* string last: the last name\n",
    "\n",
    "### Prints\n",
    "* string: 'Hello $firstname lastname$ ! You just delved into python' where $firstname$ and $lastname$ are replaced with $first$ and $last$.\n",
    "\n",
    "### Input Format\n",
    "The first line contains the first name, and the second line contains the last name.\n",
    "### Constraints\n",
    "The length of the first and last names are each $≤ 10$."
   ]
  },
  {
   "cell_type": "code",
   "execution_count": 1,
   "metadata": {},
   "outputs": [
    {
     "name": "stdout",
     "output_type": "stream",
     "text": [
      "yasmina\n",
      "ayman\n",
      "Hello yasmina ayman! You just delved into python.\n"
     ]
    }
   ],
   "source": [
    "def print_full_name(first, last):\n",
    "    print(\"Hello {0} {1}! You just delved into python.\".format(first,last))\n",
    "\n",
    "if __name__ == '__main__':\n",
    "    first_name = input()\n",
    "    last_name = input()\n",
    "    print_full_name(first_name, last_name)"
   ]
  }
 ],
 "metadata": {
  "kernelspec": {
   "display_name": "Python 3",
   "language": "python",
   "name": "python3"
  },
  "language_info": {
   "codemirror_mode": {
    "name": "ipython",
    "version": 3
   },
   "file_extension": ".py",
   "mimetype": "text/x-python",
   "name": "python",
   "nbconvert_exporter": "python",
   "pygments_lexer": "ipython3",
   "version": "3.8.5"
  }
 },
 "nbformat": 4,
 "nbformat_minor": 4
}
