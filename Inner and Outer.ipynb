{
 "cells": [
  {
   "cell_type": "markdown",
   "metadata": {},
   "source": [
    "# Inner and Outer\n",
    "\n",
    "### [inner](https://numpy.org/doc/stable/reference/generated/numpy.inner.html)\n",
    "\n",
    "The inner tool returns the [inner product](https://en.wikipedia.org/wiki/Inner_product_space) of two arrays.<br>\n",
    "\n",
    "> `import numpy`<br><br>\n",
    "`A = numpy.array([0, 1])`<br>\n",
    "`B = numpy.array([3, 4])`<br><br>\n",
    "`print numpy.inner(A, B)     #Output : 4`<br>\n",
    "\n",
    "### [outer](https://numpy.org/doc/stable/reference/generated/numpy.outer.html)\n",
    "\n",
    "The outer tool returns the [outer product](https://en.wikipedia.org/wiki/Outer_product) of two arrays.<br>\n",
    "\n",
    "> `import numpy`<br><br>\n",
    "`A = numpy.array([0, 1])`<br>\n",
    "`B = numpy.array([3, 4])`<br><br>\n",
    "`print numpy.outer(A, B)     #Output : [[0 0]`<br>\n",
    "`                            #          [3 4]]`<br>\n",
    "****\n",
    "\n",
    "### Task\n",
    "\n",
    "You are given two arrays: $A$ and $B$.<br>\n",
    "Your task is to compute their inner and outer product.\n",
    "\n",
    "### Input Format\n",
    "\n",
    "The first line contains the space separated elements of array $A$.<br>\n",
    "The second line contains the space separated elements of array $B$.\n",
    "\n",
    "### Output Format\n",
    "\n",
    "First, print the inner product.<br>\n",
    "Second, print the outer product.\n",
    "\n",
    "### Sample Input\n",
    "\n",
    "> `0 1`<br>\n",
    "`2 3`\n",
    "\n",
    "### Sample Output\n",
    "\n",
    "> `3`<br>\n",
    "`[[0 0]`<br>\n",
    "` [2 3]]`"
   ]
  },
  {
   "cell_type": "code",
   "execution_count": 1,
   "metadata": {},
   "outputs": [
    {
     "name": "stdout",
     "output_type": "stream",
     "text": [
      "0 1\n",
      "2 3\n",
      "3\n",
      "[[0 0]\n",
      " [2 3]]\n"
     ]
    }
   ],
   "source": [
    "import numpy as np\n",
    "\n",
    "arr1 = np.array(input().split(), int)\n",
    "arr2 = np.array(input().split(), int)\n",
    "\n",
    "print(np.inner(arr1,arr2))\n",
    "print(np.outer(arr1,arr2))"
   ]
  }
 ],
 "metadata": {
  "kernelspec": {
   "display_name": "Python 3",
   "language": "python",
   "name": "python3"
  },
  "language_info": {
   "codemirror_mode": {
    "name": "ipython",
    "version": 3
   },
   "file_extension": ".py",
   "mimetype": "text/x-python",
   "name": "python",
   "nbconvert_exporter": "python",
   "pygments_lexer": "ipython3",
   "version": "3.8.5"
  }
 },
 "nbformat": 4,
 "nbformat_minor": 4
}
