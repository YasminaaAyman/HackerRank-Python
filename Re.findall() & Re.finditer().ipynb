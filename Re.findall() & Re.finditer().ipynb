{
 "cells": [
  {
   "cell_type": "markdown",
   "metadata": {},
   "source": [
    "# Re.findall() & Re.finditer()\n",
    "<font size=5px>[re.findall()](https://docs.python.org/2/library/re.html#re.findall)</font><br><br>\n",
    "The expression re.findall() returns all the non-overlapping matches of patterns in a string as a list of strings.<br>\n",
    "<font size=2>**Code**</font><br>\n",
    "> `>>> import re`<br>\n",
    "`>>> re.findall(r'\\w','http://www.hackerrank.com/')`<br>\n",
    "`['h', 't', 't', 'p', 'w', 'w', 'w', 'h', 'a', 'c', 'k', 'e', 'r', 'r', 'a', 'n', 'k', 'c', 'o', 'm']`<br>\n",
    "\n",
    "<br>\n",
    "\n",
    "<font size=5px>[re.finditer()](https://docs.python.org/2/library/re.html#re.finditer)</font><br><br>\n",
    "The expression re.finditer() returns an iterator yielding MatchObject instances over all non-overlapping matches for the re pattern in the string.<br>\n",
    "<font size=2>**Code**</font><br>\n",
    "> `>>> import re`<br>\n",
    "`>>> re.finditer(r'\\w','http://www.hackerrank.com/')`<br>\n",
    "`<callable-iterator object at 0x0266C790>`<br>\n",
    "`>>> map(lambda x: x.group(),re.finditer(r'\\w','http://www.hackerrank.com/'))`<br>\n",
    "`['h', 't', 't', 'p', 'w', 'w', 'w', 'h', 'a', 'c', 'k', 'e', 'r', 'r', 'a', 'n', 'k', 'c', 'o', 'm']`<br>\n",
    "\n",
    "<br>\n",
    "\n",
    "### Task\n",
    "You are given a string $S$. It consists of alphanumeric characters, spaces and symbols(+,-).<br>\n",
    "Your task is to find all the substrings of $S$ that contains $2$ or more vowels.<br>\n",
    "Also, these substrings must lie in between $2$ consonants and should contain vowels only.<br><br>\n",
    "<font size=1px>**Note :**<br>\n",
    "**Vowels are defined as:** AEIOU **and** aeiou.<br>\n",
    "**Consonants are defined as:** QWRTYPSDFGHJKLZXCVBNM **and** qwrtypsdfghjklzxcvbnm.<br></font>\n",
    "\n",
    "### Input Format\n",
    "\n",
    "A single line of input containing string $S$.\n",
    "\n",
    "### Constraints\n",
    "\n",
    "$ 0 < len(S) < 100 $\n",
    "\n",
    "### Output Format\n",
    "\n",
    "Print the matched substrings in their order of occurrence on separate lines.<br>\n",
    "If no match is found, print -1.\n",
    "\n",
    "### Sample Input\n",
    "\n",
    "> `rabcdeefgyYhFjkIoomnpOeorteeeeet`\n",
    "\n",
    "### Sample Output\n",
    "\n",
    "> `ee`<br>\n",
    "`Ioo`<br>\n",
    "`Oeo`<br>\n",
    "`eeeee`\n",
    "\n",
    "### Explanation\n",
    "\n",
    "**ee** is located between consonant $d$ and $f$.<br>\n",
    "**Ioo** is located between consonant $k$ and $m$.<br>\n",
    "**Oeo** is located between consonant $p$ and $r$.<br>\n",
    "**eeeee** is located between consonant $t$ and $t$."
   ]
  },
  {
   "cell_type": "code",
   "execution_count": 1,
   "metadata": {},
   "outputs": [
    {
     "name": "stdout",
     "output_type": "stream",
     "text": [
      "rabcdeefgyYhFjkIoomnpOeorteeeeet\n",
      "ee\n",
      "Ioo\n",
      "Oeo\n",
      "eeeee\n"
     ]
    }
   ],
   "source": [
    "import re\n",
    "\n",
    "S = input()\n",
    "pattern = re.compile(r'(?=[qwrtypsdfghjklzxcvbnm]([aeiou]{2,})[qwrtypsdfghjklzxcvbnm])', re.IGNORECASE)\n",
    "matches = pattern.findall(S)\n",
    "print('\\n'.join(matches or ['-1']))"
   ]
  }
 ],
 "metadata": {
  "kernelspec": {
   "display_name": "Python 3",
   "language": "python",
   "name": "python3"
  },
  "language_info": {
   "codemirror_mode": {
    "name": "ipython",
    "version": 3
   },
   "file_extension": ".py",
   "mimetype": "text/x-python",
   "name": "python",
   "nbconvert_exporter": "python",
   "pygments_lexer": "ipython3",
   "version": "3.8.5"
  }
 },
 "nbformat": 4,
 "nbformat_minor": 4
}
