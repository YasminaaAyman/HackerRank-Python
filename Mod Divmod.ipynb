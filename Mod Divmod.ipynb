{
 "cells": [
  {
   "cell_type": "markdown",
   "metadata": {},
   "source": [
    "# Mod Divmod\n",
    "One of the built-in functions of Python is divmod, which takes two arguments **a** and **b** and returns a tuple containing the quotient of **a/b** first and then the remainder **a**.<br>\n",
    "\n",
    "For example:<br>\n",
    "\n",
    "> `>>> print divmod(177,10)`<br>\n",
    "`(17, 7)`<br>\n",
    "\n",
    "Here, the integer division is 177/10 => 17 and the modulo operator is 177%10 => 7.\n",
    "\n",
    "### Task\n",
    "Read in two integers, **a** and **b**, and print three lines.<br>\n",
    "The first line is the integer division **a//b** (While using Python2 remember to import division from __future__).<br>\n",
    "The second line is the result of the modulo operator: **a%b**.<br><br>\n",
    "The third line prints the divmod of **a** and **b**.<br>\n",
    "\n",
    "### Input Format\n",
    "The first line contains the first integer, **a**, and the second line contains the second integer, **b**.\n",
    "\n",
    "### Output Format\n",
    "Print the result as described above."
   ]
  },
  {
   "cell_type": "code",
   "execution_count": 1,
   "metadata": {},
   "outputs": [
    {
     "name": "stdout",
     "output_type": "stream",
     "text": [
      "177\n",
      "10\n",
      "17\n",
      "7\n",
      "(17, 7)\n"
     ]
    }
   ],
   "source": [
    "a = int(input())\n",
    "b = int(input())\n",
    "print(a//b)\n",
    "print(a%b)\n",
    "print(divmod(a,b))"
   ]
  }
 ],
 "metadata": {
  "kernelspec": {
   "display_name": "Python 3",
   "language": "python",
   "name": "python3"
  },
  "language_info": {
   "codemirror_mode": {
    "name": "ipython",
    "version": 3
   },
   "file_extension": ".py",
   "mimetype": "text/x-python",
   "name": "python",
   "nbconvert_exporter": "python",
   "pygments_lexer": "ipython3",
   "version": "3.8.5"
  }
 },
 "nbformat": 4,
 "nbformat_minor": 4
}
