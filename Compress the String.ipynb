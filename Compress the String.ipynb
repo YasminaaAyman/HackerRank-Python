{
 "cells": [
  {
   "cell_type": "markdown",
   "metadata": {},
   "source": [
    "# Compress the String!\n",
    "In this task, we would like for you to appreciate the usefulness of the groupby() function of itertools . To read more about this function, <a href=\"https://docs.python.org/2/library/itertools.html#itertools.groupby\">Check this out</a>.\n",
    "\n",
    "You are given a string $S$. Suppose a character **'c'** occurs consecutively $X$ times in the string. Replace these consecutive occurrences of the character **'c'** with $(X,c)$ in the string.\n",
    "\n",
    "For a better understanding of the problem, check the explanation.\n",
    "\n",
    "### Input Format\n",
    "\n",
    "A single line of input consisting of the string $S$.\n",
    "\n",
    "### Output Format\n",
    "\n",
    "A single line of output consisting of the modified string.\n",
    "\n",
    "### Constraints\n",
    "\n",
    "All the characters of $S$ denote integers between $0$ and $9$.<br>\n",
    "\n",
    "$ 1 ≤ |S| ≤ 10^4 $\n",
    "\n",
    "### Sample Input\n",
    "\n",
    "> `1222311`\n",
    "\n",
    "### Sample Output\n",
    "\n",
    "> `(1, 1) (3, 2) (1, 3) (2, 1)`\n",
    "\n",
    "### Explanation\n",
    "\n",
    "First, the character $1$ occurs only once. It is replaced by $(1,1)$. Then the character $2$ occurs three times, and it is replaced by $(3,2)$ and so on.\n",
    "\n",
    "Also, note the single space within each compression and between the compressions."
   ]
  },
  {
   "cell_type": "code",
   "execution_count": 1,
   "metadata": {},
   "outputs": [
    {
     "name": "stdout",
     "output_type": "stream",
     "text": [
      "1222311\n",
      "(1, 1) (3, 2) (1, 3) (2, 1)\n"
     ]
    }
   ],
   "source": [
    "from itertools import groupby\n",
    "\n",
    "S = input()\n",
    "\n",
    "print(*[(len(list(c)),int(k)) for k,c in groupby(S)])\n"
   ]
  }
 ],
 "metadata": {
  "kernelspec": {
   "display_name": "Python 3",
   "language": "python",
   "name": "python3"
  },
  "language_info": {
   "codemirror_mode": {
    "name": "ipython",
    "version": 3
   },
   "file_extension": ".py",
   "mimetype": "text/x-python",
   "name": "python",
   "nbconvert_exporter": "python",
   "pygments_lexer": "ipython3",
   "version": "3.8.5"
  }
 },
 "nbformat": 4,
 "nbformat_minor": 4
}
