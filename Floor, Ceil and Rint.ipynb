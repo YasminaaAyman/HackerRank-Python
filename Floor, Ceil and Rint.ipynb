{
 "cells": [
  {
   "cell_type": "markdown",
   "metadata": {},
   "source": [
    "# Floor, Ceil and Rint\n",
    "### [floor](https://numpy.org/doc/stable/reference/generated/numpy.floor.html#numpy-floor)\n",
    "The tool floor returns the floor of the input element-wise.<br>\n",
    "The floor of $x$ is the largest integer $i$ where $i≤x$.<br>\n",
    "\n",
    "> `import numpy`<br><br>\n",
    "`my_array = numpy.array([1.1, 2.2, 3.3, 4.4, 5.5, 6.6, 7.7, 8.8, 9.9])`<br>\n",
    "`print numpy.floor(my_array)         #[ 1.  2.  3.  4.  5.  6.  7.  8.  9.]`<br>\n",
    "\n",
    "### [ceil](https://numpy.org/doc/stable/reference/generated/numpy.ceil.html#numpy-ceil)\n",
    "The tool ceil returns the ceiling of the input element-wise.<br>\n",
    "The ceiling of $x$ is the smallest integer $i$ where $i≤x$.<br>\n",
    "\n",
    "> `import numpy`<br><br>\n",
    "`my_array = numpy.array([1.1, 2.2, 3.3, 4.4, 5.5, 6.6, 7.7, 8.8, 9.9])`<br>\n",
    "`print numpy.ceil(my_array)          #[  2.   3.   4.   5.   6.   7.   8.   9.  10.]`<br>\n",
    "\n",
    "### [rint](https://numpy.org/doc/stable/reference/generated/numpy.rint.html)\n",
    "The rint tool rounds to the nearest integer of input element-wise.<br>\n",
    "\n",
    "> `import numpy`<br><br>\n",
    "`my_array = numpy.array([1.1, 2.2, 3.3, 4.4, 5.5, 6.6, 7.7, 8.8, 9.9])`<br>\n",
    "`print numpy.rint(my_array)          #[  1.   2.   3.   4.   6.   7.   8.   9.  10.]`<br>\n",
    "****\n",
    "\n",
    "### Task\n",
    "You are given a 1-D array, $A$. Your task is to print the $floor$, $ceil$ and $rint$ of all the elements of $A$.\n",
    "\n",
    "### Note\n",
    "In order to get the correct output format, add the line **numpy.set_printoptions(legacy='1.13')** below the numpy import.\n",
    "\n",
    "### Input Format\n",
    "\n",
    "A single line of input containing the space separated elements of array $A$.\n",
    "\n",
    "### Output Format\n",
    "\n",
    "On the first line, print the $floor$ of A.<br>\n",
    "On the second line, print the $ceil$ of A.<br>\n",
    "On the third line, print the $rint$ of A.\n",
    "\n",
    "### Sample Input\n",
    "\n",
    "> `1.1 2.2 3.3 4.4 5.5 6.6 7.7 8.8 9.9`\n",
    "\n",
    "### Sample Output\n",
    "\n",
    "> `[ 1.  2.  3.  4.  5.  6.  7.  8.  9.]`<br>\n",
    "`[  2.   3.   4.   5.   6.   7.   8.   9.  10.]`<br>\n",
    "`[  1.   2.   3.   4.   6.   7.   8.   9.  10.]`<br>"
   ]
  },
  {
   "cell_type": "code",
   "execution_count": 1,
   "metadata": {},
   "outputs": [
    {
     "name": "stdout",
     "output_type": "stream",
     "text": [
      "1.1 2.2 3.3 4.4 5.5 6.6 7.7 8.8 9.9\n",
      "[ 1.  2.  3.  4.  5.  6.  7.  8.  9.]\n",
      "[  2.   3.   4.   5.   6.   7.   8.   9.  10.]\n",
      "[  1.   2.   3.   4.   6.   7.   8.   9.  10.]\n"
     ]
    }
   ],
   "source": [
    "import numpy as np\n",
    "np.set_printoptions(sign=' ')\n",
    "\n",
    "arr = np.array(input().split(), float)\n",
    "print(np.floor(arr))\n",
    "print(np.ceil(arr))\n",
    "print(np.rint(arr))"
   ]
  }
 ],
 "metadata": {
  "kernelspec": {
   "display_name": "Python 3",
   "language": "python",
   "name": "python3"
  },
  "language_info": {
   "codemirror_mode": {
    "name": "ipython",
    "version": 3
   },
   "file_extension": ".py",
   "mimetype": "text/x-python",
   "name": "python",
   "nbconvert_exporter": "python",
   "pygments_lexer": "ipython3",
   "version": "3.8.5"
  }
 },
 "nbformat": 4,
 "nbformat_minor": 4
}
