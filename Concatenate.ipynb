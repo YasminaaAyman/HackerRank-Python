{
 "cells": [
  {
   "cell_type": "markdown",
   "metadata": {},
   "source": [
    "# Concatenate\n",
    "\n",
    "### <a href=\"https://numpy.org/doc/stable/reference/generated/numpy.concatenate.html\">Concatenate</a>\n",
    "\n",
    "Two or more arrays can be concatenated together using the concatenate function with a tuple of the arrays to be joined:\n",
    "\n",
    "> `import numpy`<br><br>\n",
    "`array_1 = numpy.array([1,2,3])`<br>\n",
    "`array_2 = numpy.array([4,5,6])`<br>\n",
    "`array_3 = numpy.array([7,8,9])`<br><br>\n",
    "`print numpy.concatenate((array_1, array_2, array_3))`<br><br>    \n",
    "`#Output`<br>\n",
    "`[1 2 3 4 5 6 7 8 9]`<br>\n",
    "\n",
    "If an array has more than one dimension, it is possible to specify the axis along which multiple arrays are concatenated. By default, it is along the first dimension.\n",
    "\n",
    "> `import numpy`<br><br>\n",
    "`array_1 = numpy.array([[1,2,3],[0,0,0]])`<br>\n",
    "`array_2 = numpy.array([[0,0,0],[7,8,9]])`<br><br>\n",
    "`print numpy.concatenate((array_1, array_2), axis = 1)`<br><br>   \n",
    "`#Output`<br>\n",
    "`[[1 2 3 0 0 0]`<br>\n",
    "` [0 0 0 7 8 9]]`  \n",
    "\n",
    "****\n",
    "\n",
    "### Task\n",
    "\n",
    "You are given two integer arrays of size $N$X$P$ and $M$X$P$ ($N$ & $M$ are rows, and $P$ is the column). Your task is to concatenate the arrays along axis $0$.\n",
    "\n",
    "### Input Format\n",
    "\n",
    "The first line contains space separated integers $N$, $M$ and $P$.<br>\n",
    "The next $N$ lines contains the space separated elements of the $P$ columns.<br>\n",
    "After that, the next $M$ lines contains the space separated elements of the $P$ columns.\n",
    "\n",
    "### Output Format\n",
    "\n",
    "Print the concatenated array of size $(N+M)$X$P$.\n",
    "\n",
    "### Sample Input\n",
    "\n",
    "> `4 3 2`<br>\n",
    "`1 2`<br>\n",
    "`1 2`<br> \n",
    "`1 2`<br>\n",
    "`1 2`<br>\n",
    "`3 4`<br>\n",
    "`3 4`<br>\n",
    "`3 4 `<br>\n",
    "\n",
    "### Sample Output\n",
    "\n",
    "> `[[1 2]`<br>\n",
    "` [1 2]`<br>\n",
    "` [1 2]`<br>\n",
    "` [1 2]`<br>\n",
    "` [3 4]`<br>\n",
    "` [3 4]`<br>\n",
    "` [3 4]]`<br>"
   ]
  },
  {
   "cell_type": "code",
   "execution_count": 1,
   "metadata": {},
   "outputs": [
    {
     "name": "stdout",
     "output_type": "stream",
     "text": [
      "4 3 2\n",
      "1 2\n",
      "1 2\n",
      "1 2\n",
      "1 2\n",
      "3 4\n",
      "3 4\n",
      "3 4\n",
      "[[1 2]\n",
      " [1 2]\n",
      " [1 2]\n",
      " [1 2]\n",
      " [3 4]\n",
      " [3 4]\n",
      " [3 4]]\n"
     ]
    }
   ],
   "source": [
    "import numpy as np\n",
    "\n",
    "n,m,p = map(int, input().split())\n",
    "\n",
    "arr1 = np.array([input().split() for _ in range(n)], int)\n",
    "arr2 = np.array([input().split() for _ in range(m)], int)\n",
    "\n",
    "print(np.concatenate((arr1,arr2)))"
   ]
  }
 ],
 "metadata": {
  "kernelspec": {
   "display_name": "Python 3",
   "language": "python",
   "name": "python3"
  },
  "language_info": {
   "codemirror_mode": {
    "name": "ipython",
    "version": 3
   },
   "file_extension": ".py",
   "mimetype": "text/x-python",
   "name": "python",
   "nbconvert_exporter": "python",
   "pygments_lexer": "ipython3",
   "version": "3.8.5"
  }
 },
 "nbformat": 4,
 "nbformat_minor": 4
}
