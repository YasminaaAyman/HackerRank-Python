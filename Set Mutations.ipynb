{
 "cells": [
  {
   "cell_type": "markdown",
   "metadata": {},
   "source": [
    "# Set Mutations\n",
    "We have seen the applications of union, intersection, difference and symmetric difference operations, but these operations do not make any changes or mutations to the set.<br>\n",
    "\n",
    "**We can use the following operations to create mutations to a set:**<br>\n",
    "\n",
    "### .update() or |=\n",
    "Update the set by adding elements from an iterable/another set.<br>\n",
    "\n",
    "> `>>> H = set(\"Hacker\")`<br>\n",
    "`>>> R = set(\"Rank\")`<br>\n",
    "`>>> H.update(R)`<br>\n",
    "`>>> print H`<br>\n",
    "`set(['a', 'c', 'e', 'H', 'k', 'n', 'r', 'R'])`<br>\n",
    "\n",
    "### .intersection_update() or &=\n",
    "Update the set by keeping only the elements found in it and an iterable/another set.<br>\n",
    "\n",
    "> `>>> H = set(\"Hacker\")`<br>\n",
    "`>>> R = set(\"Rank\")`<br>\n",
    "`>>> H.intersection_update(R)`<br>\n",
    "`>>> print H`<br>\n",
    "`set(['a', 'k'])`<br>\n",
    "\n",
    "### .difference_update() or -=\n",
    "Update the set by removing elements found in an iterable/another set.<br>\n",
    "\n",
    "> `>>> H = set(\"Hacker\")`<br>\n",
    "`>>> R = set(\"Rank\")`<br>\n",
    "`>>> H.difference_update(R)`<br>\n",
    "`>>> print H`<br>\n",
    "`set(['c', 'e', 'H', 'r'])`<br>\n",
    "\n",
    "### .symmetric_difference_update() or ^=\n",
    "Update the set by only keeping the elements found in either set, but not in both.<br>\n",
    "\n",
    "> `>>> H = set(\"Hacker\")`<br>\n",
    "`>>> R = set(\"Rank\")`<br>\n",
    "`>>> H.symmetric_difference_update(R)`<br>\n",
    "`>>> print H`<br>\n",
    "`set(['c', 'e', 'H', 'n', 'r', 'R'])`<br>\n",
    "\n",
    "### TASK\n",
    "You are given a set **A** and **N** number of other sets. These **N** number of sets have to perform some specific mutation operations on set **A**.<br>\n",
    "\n",
    "Your task is to execute those operations and print the sum of elements from set **A**.<br>\n",
    "\n",
    "### Input Format\n",
    "\n",
    "The first line contains the number of elements in set **A**.<br>\n",
    "The second line contains the space separated list of elements in set **A**.<br>\n",
    "The third line contains integer **N**, the number of other sets.<br>\n",
    "The next **2*N** lines are divided into **N** parts containing two lines each.<br>\n",
    "The first line of each part contains the space separated entries of the operation name and the length of the other set.<br>\n",
    "The second line of each part contains space separated list of elements in the other set.<br>\n",
    "\n",
    " $ 0 < len(set(A)) < 1000 $ <br>\n",
    " $ 0 < len(otherSets) < 100 $<br>\n",
    " $ 0 < N < 100$<br>\n",
    "\n",
    "### Output Format\n",
    "\n",
    "Output the sum of elements in set **A**."
   ]
  },
  {
   "cell_type": "code",
   "execution_count": 1,
   "metadata": {},
   "outputs": [
    {
     "name": "stdout",
     "output_type": "stream",
     "text": [
      "16\n",
      "1 2 3 4 5 6 7 8 9 10 11 12 13 14 24 52\n",
      "4\n",
      "intersection_update 10\n",
      "2 3 5 6 8 9 1 4 7 11\n",
      "update 2\n",
      "55 66\n",
      "symmetric_difference_update 5\n",
      "22 7 35 62 58\n",
      "difference_update 7\n",
      "11 22 35 55 58 62 66\n",
      "38\n"
     ]
    }
   ],
   "source": [
    "if __name__ == '__main__':\n",
    "    M = int(input())\n",
    "    A = set(map(int, input().split()))\n",
    "    N = int(input())\n",
    "    for i in range(N):\n",
    "        user_input = input().split()\n",
    "        set_B = set(map(int, input().split()))\n",
    "        if user_input[0] == \"intersection_update\":\n",
    "            A.intersection_update(set_B)\n",
    "        elif user_input[0] == \"update\":\n",
    "            A.update(set_B)\n",
    "        elif user_input[0] == \"symmetric_difference_update\":\n",
    "            A.symmetric_difference_update(set_B)\n",
    "        elif user_input[0] == \"difference_update\":\n",
    "            A.difference_update(set_B)\n",
    "    print(sum(A))"
   ]
  }
 ],
 "metadata": {
  "kernelspec": {
   "display_name": "Python 3",
   "language": "python",
   "name": "python3"
  },
  "language_info": {
   "codemirror_mode": {
    "name": "ipython",
    "version": 3
   },
   "file_extension": ".py",
   "mimetype": "text/x-python",
   "name": "python",
   "nbconvert_exporter": "python",
   "pygments_lexer": "ipython3",
   "version": "3.8.5"
  }
 },
 "nbformat": 4,
 "nbformat_minor": 4
}
