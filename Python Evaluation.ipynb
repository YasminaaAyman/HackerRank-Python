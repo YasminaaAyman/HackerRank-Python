{
 "cells": [
  {
   "cell_type": "markdown",
   "metadata": {},
   "source": [
    "# Python Evaluation\n",
    "The eval() expression is a very powerful built-in function of Python. It helps in evaluating an expression. The expression can be a Python statement, or a code object.<br>\n",
    "\n",
    "For example:<br>\n",
    "> `>>> eval(\"9 + 5\")`<br>\n",
    "`14`<br>\n",
    "`>>> x = 2`<br>\n",
    "`>>> eval(\"x + 3\")`<br>\n",
    "`5`<br>\n",
    "\n",
    "Here, eval() can also be used to work with Python keywords or defined functions and variables. These would normally be stored as strings.<br>\n",
    "\n",
    "For example:<br>\n",
    "> `>>> type(eval(\"len\"))`<br>\n",
    "`<type 'builtin_function_or_method'>`<br>\n",
    "\n",
    "Without eval()<br>\n",
    "\n",
    "> `>>> type(\"len\")`<br>\n",
    "`<type 'str'>`<br>\n",
    "\n",
    "### Task\n",
    "You are given an expression in a line. Read that line as a string variable, such as var, and print the result using eval(var).\n",
    "\n",
    "NOTE: Python2 users, please import from **_ _ future _ _** import print_function.\n",
    "\n",
    "### Constraint\n",
    "Input string is less than 100 characters.\n",
    "\n",
    "### Sample Input\n",
    "\n",
    "> `print(2 + 3)`\n",
    "\n",
    "### Sample Output\n",
    "\n",
    "> `5`"
   ]
  },
  {
   "cell_type": "code",
   "execution_count": 1,
   "metadata": {},
   "outputs": [
    {
     "name": "stdout",
     "output_type": "stream",
     "text": [
      "print(2 + 3)\n",
      "5\n"
     ]
    }
   ],
   "source": [
    "eval(input())"
   ]
  }
 ],
 "metadata": {
  "kernelspec": {
   "display_name": "Python 3",
   "language": "python",
   "name": "python3"
  },
  "language_info": {
   "codemirror_mode": {
    "name": "ipython",
    "version": 3
   },
   "file_extension": ".py",
   "mimetype": "text/x-python",
   "name": "python",
   "nbconvert_exporter": "python",
   "pygments_lexer": "ipython3",
   "version": "3.8.5"
  }
 },
 "nbformat": 4,
 "nbformat_minor": 4
}
