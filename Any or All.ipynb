{
 "cells": [
  {
   "cell_type": "markdown",
   "metadata": {},
   "source": [
    "# Any or All\n",
    "<font size=\"4\" color=\"blue\">**any()**</font> <br>\n",
    "This expression returns True if any element of the iterable is true.<br>\n",
    "If the iterable is empty, it will return False.<br>\n",
    "\n",
    "<font size=\"2\">**Code**</font><br>\n",
    "\n",
    "> `>>> any([1>0,1==0,1<0])`<br>\n",
    "`True`<br>\n",
    "`>>> any([1<0,2<1,3<2])`<br>\n",
    "`False`<br>\n",
    "\n",
    "<br><br>\n",
    "\n",
    "\n",
    "<font size=\"4\" color=\"blue\">**all()**</font> <br>\n",
    "This expression returns True if all of the elements of the iterable are true. If the iterable is empty, it will return True.<br>\n",
    "\n",
    "<font size=\"2\">**Code**</font><br>\n",
    "\n",
    "> `>>> all(['a'<'b','b'<'c'])`<br>\n",
    "`True`<br>\n",
    "`>>> all(['a'<'b','c'<'b'])`<br>\n",
    "`False`<br>\n",
    "***\n",
    "\n",
    "### Task\n",
    "\n",
    "You are given a space separated list of integers. If all the integers are positive, then you need to check if any integer is a <font color=\"blue\">palindromic integer</font>.\n",
    "\n",
    "### Input Format\n",
    "\n",
    "The first line contains an integer $N$. $N$ is the total number of integers in the list.\n",
    "The second line contains the space separated list of $N$ integers.\n",
    "\n",
    "### Constraints\n",
    "\n",
    "$0 < N < 100$\n",
    "\n",
    "### Output Format\n",
    "\n",
    "Print True if all the conditions of the problem statement are satisfied. Otherwise, print False.\n",
    "\n",
    "### Sample Input\n",
    "\n",
    "> `5`<br>\n",
    "`12 9 61 5 14`<br>\n",
    "\n",
    "### Sample Output\n",
    "\n",
    "> `True`\n",
    "\n",
    "### Explanation\n",
    "\n",
    "**Condition 1:** All the integers in the list are positive.<br>\n",
    "**Condition 2:** 5 is a palindromic integer.<br>\n",
    "\n",
    "Hence, the output is True.<br>\n",
    "\n",
    "Can you solve this challenge in 3 lines of code or less?<br>\n",
    "There is no penalty for solutions that are correct but have more than 3 lines.<br>"
   ]
  },
  {
   "cell_type": "code",
   "execution_count": 1,
   "metadata": {},
   "outputs": [
    {
     "name": "stdout",
     "output_type": "stream",
     "text": [
      "5\n",
      "12 9 61 5 14\n",
      "True\n"
     ]
    }
   ],
   "source": [
    "n = int(input())\n",
    "l = list(input().split())\n",
    "\n",
    "condition1 = all([int(i) > 0 for i in l])\n",
    "condition2 = any([i == i[::-1] for i in l])\n",
    "\n",
    "print(condition1 and condition2)"
   ]
  }
 ],
 "metadata": {
  "kernelspec": {
   "display_name": "Python 3",
   "language": "python",
   "name": "python3"
  },
  "language_info": {
   "codemirror_mode": {
    "name": "ipython",
    "version": 3
   },
   "file_extension": ".py",
   "mimetype": "text/x-python",
   "name": "python",
   "nbconvert_exporter": "python",
   "pygments_lexer": "ipython3",
   "version": "3.8.5"
  }
 },
 "nbformat": 4,
 "nbformat_minor": 4
}
