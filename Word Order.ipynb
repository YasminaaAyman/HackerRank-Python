{
 "cells": [
  {
   "cell_type": "markdown",
   "metadata": {},
   "source": [
    "# Word Order\n",
    "You are given $n$ words. Some words may repeat. For each word, output its number of occurrences. The output order should correspond with the input order of appearance of the word. See the sample input/output for clarification.\n",
    "\n",
    "**Note:** Each input line ends with a **\"\\n\"** character.\n",
    "\n",
    "### Constraints:\n",
    "\n",
    "$ 1 ≤ n ≤ 10^5$<br>\n",
    "The sum of the lengths of all the words do not exceed $10^6$.<br>\n",
    "All the words are composed of lowercase English letters only.<br>\n",
    "\n",
    "### Input Format\n",
    "\n",
    "The first line contains the integer, $n$.<br>\n",
    "The next $n$ lines each contain a word.\n",
    "\n",
    "### Output Format\n",
    "\n",
    "Output $2$ lines.<br>\n",
    "On the first line, output the number of distinct words from the input.<br>\n",
    "On the second line, output the number of occurrences for each distinct word according to their appearance in the input.\n",
    "\n",
    "### Sample Input\n",
    "\n",
    "> `4`<br>\n",
    "`bcdef`<br>\n",
    "`abcdefg`<br>\n",
    "`bcde`<br>\n",
    "`bcdef`<br>\n",
    "\n",
    "### Sample Output\n",
    "\n",
    "> `3`<br>\n",
    "`2 1 1`<br>\n",
    "\n",
    "### Explanation\n",
    "\n",
    "There are $3$ distinct words. Here, **\"bcdef\"** appears twice in the input at the first and last positions. The other words appear once each. The order of the first appearances are **\"bcdef\"**, **\"abcdefg\"** and **\"bcde\"** which corresponds to the output."
   ]
  },
  {
   "cell_type": "code",
   "execution_count": 1,
   "metadata": {},
   "outputs": [
    {
     "name": "stdout",
     "output_type": "stream",
     "text": [
      "4\n",
      "bcdef\n",
      "abcdefg\n",
      "bcde\n",
      "bcdef\n",
      "3\n",
      "2 1 1 "
     ]
    }
   ],
   "source": [
    "from collections import OrderedDict\n",
    "\n",
    "n = int(input())\n",
    "words_list = OrderedDict()\n",
    "for _ in range(n):\n",
    "    word = input()\n",
    "    if word not in words_list:\n",
    "        words_list[word] = 1\n",
    "    else:\n",
    "        words_list[word] += 1\n",
    "        \n",
    "print(len(words_list))\n",
    "print(*[count for item, count in words_list.items()], end=\" \")"
   ]
  }
 ],
 "metadata": {
  "kernelspec": {
   "display_name": "Python 3",
   "language": "python",
   "name": "python3"
  },
  "language_info": {
   "codemirror_mode": {
    "name": "ipython",
    "version": 3
   },
   "file_extension": ".py",
   "mimetype": "text/x-python",
   "name": "python",
   "nbconvert_exporter": "python",
   "pygments_lexer": "ipython3",
   "version": "3.8.5"
  }
 },
 "nbformat": 4,
 "nbformat_minor": 4
}
