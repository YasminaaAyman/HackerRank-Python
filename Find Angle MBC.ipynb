{
 "cells": [
  {
   "cell_type": "markdown",
   "metadata": {},
   "source": [
    "# Find Angle MBC\n",
    "![image](https://s3.amazonaws.com/hr-challenge-images/9668/1440151155-10b2b748ee-rsz_1438840048-2cf71ed69d-findangle.png)<br>\n",
    "$ABC$ is a right triangle, $ 90° $ at $B$.<br>\n",
    "Therefore, $ ∠ABC = 90° $.<br>\n",
    "\n",
    "Point $ M $ is the midpoint of hypotenuse $ AC $.<br>\n",
    "\n",
    "You are given the lengths $ AB $ and $ BC $.<br>\n",
    "Your task is to find $ ∠MBC $ (angle $ Θ° $, as shown in the figure) in degrees.<br>\n",
    "\n",
    "### Input Format\n",
    "\n",
    "The first line contains the length of side $ AB $.<br>\n",
    "The second line contains the length of side $ BC $.<br>\n",
    "\n",
    "### Constraints\n",
    "* $ 0 < AB ⩽ 100 $\n",
    "* $ 0 < BC ⩽ 100 $\n",
    "* Lengths $ AB $ and $BC$ are natural numbers.\n",
    "\n",
    "### Output Format\n",
    "\n",
    "Output $ ∠MBC $ in degrees.\n",
    "\n",
    "**Note:** Round the angle to the nearest integer.\n",
    "\n",
    "#### Examples:\n",
    "If angle is 56.5000001°, then output 57°.<br>\n",
    "If angle is 56.5000000°, then output 57°.<br>\n",
    "If angle is 56.4999999°, then output 56°.<br>\n",
    "\n",
    "$ 0° < Θ° < 90° $"
   ]
  },
  {
   "cell_type": "code",
   "execution_count": 1,
   "metadata": {},
   "outputs": [
    {
     "name": "stdout",
     "output_type": "stream",
     "text": [
      "10\n",
      "10\n",
      "45°\n"
     ]
    }
   ],
   "source": [
    "import math\n",
    "\n",
    "AB = int(input())\n",
    "BC = int(input())\n",
    "angle = math.degrees(math.atan2(AB,BC))\n",
    "degree_sign = u\"\\N{DEGREE SIGN}\"\n",
    "print(f'{round(angle)}{degree_sign}')"
   ]
  }
 ],
 "metadata": {
  "kernelspec": {
   "display_name": "Python 3",
   "language": "python",
   "name": "python3"
  },
  "language_info": {
   "codemirror_mode": {
    "name": "ipython",
    "version": 3
   },
   "file_extension": ".py",
   "mimetype": "text/x-python",
   "name": "python",
   "nbconvert_exporter": "python",
   "pygments_lexer": "ipython3",
   "version": "3.8.5"
  }
 },
 "nbformat": 4,
 "nbformat_minor": 4
}
