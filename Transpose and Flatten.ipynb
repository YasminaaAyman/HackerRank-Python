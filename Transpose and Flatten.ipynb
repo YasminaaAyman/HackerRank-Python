{
 "cells": [
  {
   "cell_type": "markdown",
   "metadata": {},
   "source": [
    "# Transpose and Flatten\n",
    "\n",
    "### <a href=\"https://numpy.org/doc/stable/reference/generated/numpy.transpose.html#numpy-transpose\">Transpose</a>\n",
    "\n",
    "We can generate the transposition of an array using the tool numpy.transpose.\n",
    "It will not affect the original array, but it will create a new array.\n",
    "\n",
    "> `import numpy`<br><br>\n",
    "`my_array = numpy.array([[1,2,3],`<br>\n",
    "`                        [4,5,6]])`<br>\n",
    "`print numpy.transpose(my_array)`<br><br>\n",
    "`#Output`<br>\n",
    "`[[1 4]`<br>\n",
    "` [2 5]`<br>\n",
    "` [3 6]]`\n",
    "\n",
    "### <a href=\"https://numpy.org/doc/stable/reference/generated/numpy.ndarray.flatten.html\">Flatten</a>\n",
    "\n",
    "The tool flatten creates a copy of the input array flattened to one dimension.\n",
    "\n",
    "> `import numpy`<br><br>\n",
    "`my_array = numpy.array([[1,2,3],`<br>\n",
    "`                        [4,5,6]])`<br>\n",
    "`print my_array.flatten()`<br><br>\n",
    "`#Output`<br>\n",
    "`[1 2 3 4 5 6]`<br>\n",
    " ****\n",
    " \n",
    "### Task\n",
    "\n",
    "You are given a $N$X$M$ integer array matrix with space separated elements ($N$ = rows and $M$ = columns).<br>\n",
    "Your task is to print the transpose and flatten results.\n",
    "\n",
    "### Input Format\n",
    "\n",
    "The first line contains the space separated values of $N$ and $M$.<br>\n",
    "The next $N$ lines contains the space separated elements of $M$ columns.\n",
    "\n",
    "### Output Format\n",
    "\n",
    "First, print the transpose array and then print the flatten.\n",
    "\n",
    "### Sample Input\n",
    "\n",
    "> `2 2`<br>\n",
    "`1 2`<br>\n",
    "`3 4`\n",
    "\n",
    "### Sample Output\n",
    "\n",
    "> `[[1 3]`<br>\n",
    "` [2 4]]`<br>\n",
    "`[1 2 3 4]`"
   ]
  },
  {
   "cell_type": "code",
   "execution_count": 1,
   "metadata": {},
   "outputs": [
    {
     "name": "stdout",
     "output_type": "stream",
     "text": [
      "2 2\n",
      "1 2\n",
      "3 4\n",
      "[[1 3]\n",
      " [2 4]]\n",
      "[1 2 3 4]\n"
     ]
    }
   ],
   "source": [
    "import numpy as np\n",
    "\n",
    "n, m = map(int, input().split())\n",
    "arr = np.array([input().split() for _ in range(n)], int)\n",
    "print(np.transpose(arr))\n",
    "print(arr.flatten())"
   ]
  }
 ],
 "metadata": {
  "kernelspec": {
   "display_name": "Python 3",
   "language": "python",
   "name": "python3"
  },
  "language_info": {
   "codemirror_mode": {
    "name": "ipython",
    "version": 3
   },
   "file_extension": ".py",
   "mimetype": "text/x-python",
   "name": "python",
   "nbconvert_exporter": "python",
   "pygments_lexer": "ipython3",
   "version": "3.8.5"
  }
 },
 "nbformat": 4,
 "nbformat_minor": 4
}
