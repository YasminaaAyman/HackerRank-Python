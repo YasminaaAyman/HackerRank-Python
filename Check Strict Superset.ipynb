{
 "cells": [
  {
   "cell_type": "markdown",
   "metadata": {},
   "source": [
    "# Check Strict Superset\n",
    "You are given a set **A** and **n** other sets.<br>\n",
    "Your job is to find whether set **A** is a strict superset of each of the **N** sets.<br>\n",
    "\n",
    "Print True, if **A** is a strict superset of each of the **N** sets. Otherwise, print False.<br>\n",
    "\n",
    "A strict superset has at least one element that does not exist in its subset.<br>\n",
    "\n",
    "### Example\n",
    "Set **([1,3,4])** is a strict superset of set **([1,3])**.<br>\n",
    "Set **([1,3,4])** is not a strict superset of set **([1,3,4])**.<br>\n",
    "Set **([1,3,4])** is not a strict superset of set **([1,3,5])**.<br>\n",
    "\n",
    "### Input Format\n",
    "\n",
    "The first line contains the space separated elements of set **A**.<br>\n",
    "The second line contains integer **n**, the number of other sets.<br>\n",
    "The next **n** lines contains the space separated elements of the other sets.<br>\n",
    "\n",
    "### Constraints\n",
    "\n",
    "$ 0 < len(set(A)) < 501 $<br>\n",
    "$ 0 < N < 21 $<br>\n",
    "$ 0 < len(otherSets) < 101 $<br>\n",
    "\n",
    "### Output Format\n",
    "\n",
    "Print True if set **A** is a strict superset of all other **N** sets. Otherwise, print False."
   ]
  },
  {
   "cell_type": "code",
   "execution_count": 1,
   "metadata": {},
   "outputs": [
    {
     "name": "stdout",
     "output_type": "stream",
     "text": [
      "1 2 3 4 5 6 7 8 9 10 11 12 23 45 84 78\n",
      "2\n",
      "1 2 3 4 5\n",
      "100 11 12\n",
      "False\n"
     ]
    }
   ],
   "source": [
    "if __name__ == \"__main__\":\n",
    "    set_A = set(map(int, input().split()))\n",
    "    n = int(input())\n",
    "    for i in range(n):\n",
    "        if not set_A.issuperset(set(map(int, input().split()))):\n",
    "            check_val = False\n",
    "        else:\n",
    "            check_val = True\n",
    "    print(check_val)"
   ]
  }
 ],
 "metadata": {
  "kernelspec": {
   "display_name": "Python 3",
   "language": "python",
   "name": "python3"
  },
  "language_info": {
   "codemirror_mode": {
    "name": "ipython",
    "version": 3
   },
   "file_extension": ".py",
   "mimetype": "text/x-python",
   "name": "python",
   "nbconvert_exporter": "python",
   "pygments_lexer": "ipython3",
   "version": "3.8.5"
  }
 },
 "nbformat": 4,
 "nbformat_minor": 4
}
