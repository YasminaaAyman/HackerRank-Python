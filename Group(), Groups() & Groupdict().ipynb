{
 "cells": [
  {
   "cell_type": "markdown",
   "metadata": {},
   "source": [
    "# Group(), Groups() & Groupdict()\n",
    "\n",
    "<font size=5px>[group()](https://docs.python.org/2/library/re.html#re.MatchObject.group)</font> <br>\n",
    "A group() expression returns one or more subgroups of the match.<br>\n",
    "<font size=2px>**Code**</font>\n",
    "\n",
    "> `>>> import re`<br>\n",
    "`>>> m = re.match(r'(\\w+)@(\\w+)\\.(\\w+)','username@hackerrank.com')`<br>\n",
    "`>>> m.group(0)       # The entire match `<br>\n",
    "`'username@hackerrank.com'`<br>\n",
    "`>>> m.group(1)       # The first parenthesized subgroup.`<br>\n",
    "`'username'`<br>\n",
    "`>>> m.group(2)       # The second parenthesized subgroup.`<br>\n",
    "`'hackerrank'`<br>\n",
    "`>>> m.group(3)       # The third parenthesized subgroup.`<br>\n",
    "`'com'`<br>\n",
    "`>>> m.group(1,2,3)   # Multiple arguments give us a tuple.`<br>\n",
    "`('username', 'hackerrank', 'com')`<br>\n",
    "***\n",
    "\n",
    "<font size=5px>[groups()](https://docs.python.org/2/library/re.html#re.MatchObject.groups)</font> <br>\n",
    "A groups() expression returns a tuple containing all the subgroups of the match.<br>\n",
    "<font size=2px>**Code**</font>\n",
    "\n",
    "> `>>> import re`<br>\n",
    "`>>> m = re.match(r'(\\w+)@(\\w+)\\.(\\w+)','username@hackerrank.com')`<br>\n",
    "`>>> m.groups()`<br>\n",
    "`('username', 'hackerrank', 'com')`<br>\n",
    "***\n",
    "\n",
    "<font size=5px>[groupdict()](https://docs.python.org/2/library/re.html#re.MatchObject.groupdict)</font> <br>\n",
    "A groupdict() expression returns a dictionary containing all the named subgroups of the match, keyed by the subgroup name.<br>\n",
    "<font size=2px>**Code**</font>\n",
    "\n",
    "> `>>> m = re.match(r'(?P<user>\\w+)@(?P<website>\\w+)\\.(?P<extension>\\w+)','myname@hackerrank.com')`<br>\n",
    "`>>> m.groupdict()`<br>\n",
    "`{'website': 'hackerrank', 'user': 'myname', 'extension': 'com'}`<br>\n",
    "***\n",
    "\n",
    "### Task\n",
    "\n",
    "You are given a string $S$.\n",
    "Your task is to find the first occurrence of an alphanumeric character in $S$ (read from left to right) that has consecutive repetitions.\n",
    "\n",
    "### Input Format\n",
    "\n",
    "A single line of input containing the string $S$.\n",
    "\n",
    "### Constraints\n",
    "\n",
    "0 < len(S) < 100\n",
    "\n",
    "### Output Format\n",
    "\n",
    "Print the first occurrence of the repeating character. If there are no repeating characters, print -1.\n",
    "\n",
    "### Sample Input\n",
    "\n",
    "> `..12345678910111213141516171820212223`\n",
    "\n",
    "### Sample Output\n",
    "\n",
    "> `1`\n",
    "\n",
    "### Explanation\n",
    "\n",
    ".. is the first repeating character, but it is not alphanumeric.<br>\n",
    "1 is the first (from left to right) alphanumeric repeating character of the string in the substring 111."
   ]
  },
  {
   "cell_type": "code",
   "execution_count": 1,
   "metadata": {},
   "outputs": [
    {
     "name": "stdout",
     "output_type": "stream",
     "text": [
      "..12345678910111213141516171820212223\n",
      "1\n"
     ]
    }
   ],
   "source": [
    "import re\n",
    "\n",
    "m = re.search(r\"([a-zA-Z0-9])\\1+\", input().strip())\n",
    "if m:\n",
    "    print(m.group(1))\n",
    "else:\n",
    "    print(-1)"
   ]
  }
 ],
 "metadata": {
  "kernelspec": {
   "display_name": "Python 3",
   "language": "python",
   "name": "python3"
  },
  "language_info": {
   "codemirror_mode": {
    "name": "ipython",
    "version": 3
   },
   "file_extension": ".py",
   "mimetype": "text/x-python",
   "name": "python",
   "nbconvert_exporter": "python",
   "pygments_lexer": "ipython3",
   "version": "3.8.5"
  }
 },
 "nbformat": 4,
 "nbformat_minor": 4
}
