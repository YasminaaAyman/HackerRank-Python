{
 "cells": [
  {
   "cell_type": "markdown",
   "metadata": {},
   "source": [
    "# The Minion Game\n",
    "Kevin and Stuart want to play the **'The Minion Game'**.\n",
    "\n",
    "### Game Rules\n",
    "\n",
    "Both players are given the same string, **S**.<br>\n",
    "Both players have to make substrings using the letters of the string **S**.<br>\n",
    "Stuart has to make words starting with consonants.<br>\n",
    "Kevin has to make words starting with vowels.<br>\n",
    "The game ends when both players have made all possible substrings.<br>\n",
    "\n",
    "### Scoring\n",
    "A player gets +1 point for each occurrence of the substring in the string **S**.\n",
    "\n",
    "### For Example:\n",
    "String **S** = BANANA<br>\n",
    "Kevin's vowel beginning word = ANA<br>\n",
    "Here, ANA occurs twice in BANANA. Hence, Kevin will get 2 Points.<br>\n",
    "\n",
    "For better understanding, see the image below:<br>\n",
    "![image](https://s3.amazonaws.com/hr-challenge-images/9693/1450330231-04db904008-banana.png) <br>\n",
    "Your task is to determine the winner of the game and their score.\n",
    "\n",
    "### Function Description\n",
    "Complete the minion_game in the editor below.<br>\n",
    "\n",
    "minion_game has the following parameters:<br>\n",
    "\n",
    "* string string: the string to analyze\n",
    "\n",
    "### Prints\n",
    "\n",
    "* string: the winner's name and score, separated by a space on one line, or Draw if there is no winner\n",
    "\n",
    "## Input Format\n",
    "A single line of input containing the string **S**.\n",
    "Note: The string **S** will contain only uppercase letters: **[A - Z]**.\n",
    "\n",
    "### Constraints\n",
    "\n",
    "$ 0 < len(S) ≤ 10^6 $"
   ]
  },
  {
   "cell_type": "code",
   "execution_count": 1,
   "metadata": {},
   "outputs": [
    {
     "name": "stdout",
     "output_type": "stream",
     "text": [
      "BANANA\n",
      "Stuart 12\n"
     ]
    }
   ],
   "source": [
    "def minion_game(string):\n",
    "    vowels = \"AEIOU\"\n",
    "    stuart_score, kevin_score = 0, 0\n",
    "    length = len(string)\n",
    "    for start in range(length):\n",
    "        score = length - start\n",
    "        if string[start] in vowels:\n",
    "            kevin_score += score\n",
    "        else:\n",
    "            stuart_score += score\n",
    "    if stuart_score == kevin_score:\n",
    "        print('Draw')\n",
    "    if stuart_score > kevin_score:\n",
    "        print(\"Stuart {}\".format(stuart_score))\n",
    "    if stuart_score < kevin_score:\n",
    "        print(\"Kevin {}\".format(kevin_score))\n",
    "\n",
    "if __name__ == '__main__':\n",
    "    s = input()\n",
    "    minion_game(s)"
   ]
  }
 ],
 "metadata": {
  "kernelspec": {
   "display_name": "Python 3",
   "language": "python",
   "name": "python3"
  },
  "language_info": {
   "codemirror_mode": {
    "name": "ipython",
    "version": 3
   },
   "file_extension": ".py",
   "mimetype": "text/x-python",
   "name": "python",
   "nbconvert_exporter": "python",
   "pygments_lexer": "ipython3",
   "version": "3.8.5"
  }
 },
 "nbformat": 4,
 "nbformat_minor": 4
}
