{
 "cells": [
  {
   "cell_type": "markdown",
   "metadata": {},
   "source": [
    "# Calendar Module\n",
    "The calendar module allows you to output calendars and provides additional useful functions for them.<br>\n",
    "\n",
    "<font color=\"blue\">class calendar.TextCalendar([firstweekday])</font><br>\n",
    "\n",
    "This class can be used to generate plain text calendars.<br>\n",
    "\n",
    "**Sample Code**\n",
    "![image](https://i.imgur.com/PBozFAh.png)<br>\n",
    "\n",
    "- - -\n",
    "\n",
    "### Task\n",
    "\n",
    "You are given a date. Your task is to find what the day is on that date.\n",
    "\n",
    "### Input Format\n",
    "\n",
    "A single line of input containing the space separated month, day and year, respectively, in $ MM $ $ DD $ $ YY $ format.\n",
    "\n",
    "### Constraints\n",
    "\n",
    "* $ 2000 < year < 3000 $\n",
    "\n",
    "### Output Format\n",
    "\n",
    "Output the correct day in capital letters."
   ]
  },
  {
   "cell_type": "code",
   "execution_count": 1,
   "metadata": {},
   "outputs": [
    {
     "name": "stdout",
     "output_type": "stream",
     "text": [
      "08 05 2015\n",
      "WEDNESDAY\n"
     ]
    }
   ],
   "source": [
    "import calendar\n",
    "\n",
    "date = input().split()\n",
    "day_name= ['Monday', 'Tuesday', 'Wednesday', 'Thursday', 'Friday', 'Saturday','Sunday']\n",
    "weekday_num = calendar.weekday(int(date[2]),int(date[0]),int(date[1]))\n",
    "print(day_name[weekday_num].upper())"
   ]
  }
 ],
 "metadata": {
  "kernelspec": {
   "display_name": "Python 3",
   "language": "python",
   "name": "python3"
  },
  "language_info": {
   "codemirror_mode": {
    "name": "ipython",
    "version": 3
   },
   "file_extension": ".py",
   "mimetype": "text/x-python",
   "name": "python",
   "nbconvert_exporter": "python",
   "pygments_lexer": "ipython3",
   "version": "3.8.5"
  }
 },
 "nbformat": 4,
 "nbformat_minor": 4
}
