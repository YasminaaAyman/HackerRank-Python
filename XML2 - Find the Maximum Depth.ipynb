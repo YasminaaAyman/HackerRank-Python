{
 "cells": [
  {
   "cell_type": "markdown",
   "metadata": {},
   "source": [
    "# XML2 - Find the Maximum Depth\n",
    "\n",
    "You are given a valid XML document, and you have to print the maximum level of nesting in it. Take the depth of the root as .\n",
    "\n",
    "### Input Format\n",
    "\n",
    "The first line contains $N$, the number of lines in the XML document.<br>\n",
    "The next $N$ lines follow containing the XML document.\n",
    "\n",
    "### Output Format\n",
    "\n",
    "Output a single line, the integer value of the maximum level of nesting in the XML document.\n",
    "\n",
    "### Sample Input\n",
    "\n",
    "> `6`<br>\n",
    "`<feed xml:lang='en'>`<br>\n",
    "`    <title>HackerRank</title>`<br>\n",
    "`    <subtitle lang='en'>Programming challenges</subtitle>`<br>\n",
    "`    <link rel='alternate' type='text/html' href='http://hackerrank.com/'/>`<br>\n",
    "`    <updated>2013-12-25T12:00:00</updated>`<br>\n",
    "`</feed>`\n",
    "\n",
    "### Sample Output\n",
    "\n",
    "> `1`\n",
    "\n",
    "### Explanation\n",
    "\n",
    "Here, the root is a feed tag, which has depth of $0$.<br>\n",
    "The tags title, subtitle, link and updated all have a depth of $1$.<br>\n",
    "\n",
    "Thus, the maximum depth is $1$."
   ]
  },
  {
   "cell_type": "code",
   "execution_count": 1,
   "metadata": {},
   "outputs": [
    {
     "name": "stdout",
     "output_type": "stream",
     "text": [
      "6\n",
      "<feed xml:lang='en'>\n",
      "<title>HackerRank</title>\n",
      "<subtitle lang='en'>Programming challenges</subtitle>\n",
      "<link rel='alternate' type='text/html' href='http://hackerrank.com/'/>\n",
      "<updated>2013-12-25T12:00:00</updated>\n",
      "</feed>\n",
      "1\n"
     ]
    }
   ],
   "source": [
    "import xml.etree.ElementTree as etree\n",
    "\n",
    "maxdepth = 0\n",
    "def depth(elem, level):\n",
    "    global maxdepth\n",
    "    level+=1\n",
    "    if level >= maxdepth:\n",
    "        maxdepth = level\n",
    "    for child in elem:\n",
    "        depth(child,level)\n",
    "\n",
    "if __name__ == '__main__':\n",
    "    n = int(input())\n",
    "    xml = \"\"\n",
    "    for i in range(n):\n",
    "        xml =  xml + input() + \"\\n\"\n",
    "    tree = etree.ElementTree(etree.fromstring(xml))\n",
    "    depth(tree.getroot(), -1)\n",
    "    print(maxdepth)"
   ]
  }
 ],
 "metadata": {
  "kernelspec": {
   "display_name": "Python 3",
   "language": "python",
   "name": "python3"
  },
  "language_info": {
   "codemirror_mode": {
    "name": "ipython",
    "version": 3
   },
   "file_extension": ".py",
   "mimetype": "text/x-python",
   "name": "python",
   "nbconvert_exporter": "python",
   "pygments_lexer": "ipython3",
   "version": "3.8.5"
  }
 },
 "nbformat": 4,
 "nbformat_minor": 4
}
