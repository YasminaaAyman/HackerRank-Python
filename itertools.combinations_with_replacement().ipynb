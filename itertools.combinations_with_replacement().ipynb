{
 "cells": [
  {
   "cell_type": "markdown",
   "metadata": {},
   "source": [
    "# itertools.combinations_with_replacement()\n",
    "\n",
    "This tool returns $ r $ length subsequences of elements from the input iterable allowing individual elements to be repeated more than once.<br>\n",
    "\n",
    "Combinations are emitted in lexicographic sorted order. So, if the input iterable is sorted, the combination tuples will be produced in sorted order.\n",
    "\n",
    "#### Sample code\n",
    "> `>>> from itertools import combinations_with_replacement`<br>\n",
    "`>>>` <br>\n",
    "`>>> print list(combinations_with_replacement('12345',2))`<br>\n",
    "`[('1', '1'), ('1', '2'), ('1', '3'), ('1', '4'), ('1', '5'), ('2', '2'), ('2', '3'), ('2', '4'), ('2', '5'), ('3', '3'), ('3', '4'), ('3', '5'), ('4', '4'), ('4', '5'), ('5', '5')]`<br>\n",
    "`>>>` <br>\n",
    "`>>> A = [1,1,3,3,3]`<br>\n",
    "`>>> print list(combinations(A,2))`<br>\n",
    "`[(1, 1), (1, 3), (1, 3), (1, 3), (1, 3), (1, 3), (1, 3), (3, 3), (3, 3), (3, 3)]`<br>\n",
    "\n",
    "### Task\n",
    "\n",
    "You are given a string $ S $.\n",
    "Your task is to print all possible size $ K $ replacement combinations of the string in lexicographic sorted order.\n",
    "\n",
    "### Input Format\n",
    "\n",
    "A single line containing the string $ S $ and integer value $ K $ separated by a space.\n",
    "\n",
    "### Constraints\n",
    "\n",
    "$ 0 < K ≤ len(S) $<br>\n",
    "\n",
    "The string contains only UPPERCASE characters.\n",
    "\n",
    "### Output Format\n",
    "\n",
    "Print the combinations with their replacements of string $ S $ on separate lines."
   ]
  },
  {
   "cell_type": "code",
   "execution_count": 1,
   "metadata": {},
   "outputs": [
    {
     "name": "stdout",
     "output_type": "stream",
     "text": [
      "HACK 2\n",
      "AA\n",
      "AC\n",
      "AH\n",
      "AK\n",
      "CC\n",
      "CH\n",
      "CK\n",
      "HH\n",
      "HK\n",
      "KK\n"
     ]
    }
   ],
   "source": [
    "from itertools import combinations_with_replacement\n",
    "\n",
    "S, k = input().split()\n",
    "sorted_string = sorted(S)\n",
    "possible_combinations_replacement = list(combinations_with_replacement(sorted_string,int(k)))\n",
    "for i in possible_combinations_replacement:\n",
    "    print(''.join(i))"
   ]
  }
 ],
 "metadata": {
  "kernelspec": {
   "display_name": "Python 3",
   "language": "python",
   "name": "python3"
  },
  "language_info": {
   "codemirror_mode": {
    "name": "ipython",
    "version": 3
   },
   "file_extension": ".py",
   "mimetype": "text/x-python",
   "name": "python",
   "nbconvert_exporter": "python",
   "pygments_lexer": "ipython3",
   "version": "3.8.5"
  }
 },
 "nbformat": 4,
 "nbformat_minor": 4
}
