{
 "cells": [
  {
   "cell_type": "markdown",
   "metadata": {},
   "source": [
    "# Piling Up!\n",
    "There is a horizontal row of $n$ cubes. The length of each cube is given. You need to create a new vertical pile of cubes. The new pile should follow these directions: if $cube[i]$ is on top of $cube[j]$ then $sideLength[j] ≥ sideLength[i]$.\n",
    "\n",
    "When stacking the cubes, you can only pick up either the leftmost or the rightmost cube each time. Print Yes if it is possible to stack the cubes. Otherwise, print No.\n",
    "\n",
    "### Example\n",
    "\n",
    "$ blocks = [1,2,3,8,7] $<br>\n",
    "Result: No<br>\n",
    "\n",
    "After choosing the rightmost element, $7$, choose the leftmost element, $1$. After than, the choices are $2$ and $8$. These are both larger than the top block of size $1$.<br>\n",
    "\n",
    "$ blocks = [1,2,3,7,8] $<br>\n",
    "\n",
    "Result: Yes<br>\n",
    "\n",
    "Choose blocks from right to left in order to successfully stack the blocks.\n",
    "\n",
    "### Input Format\n",
    "\n",
    "The first line contains a single integer $T$, the number of test cases.<br>\n",
    "For each test case, there are $2$ lines.<br>\n",
    "The first line of each test case contains $n$, the number of cubes.<br>\n",
    "The second line contains $n$ space separated integers, denoting the sideLengths of each cube in that order.\n",
    "\n",
    "### Constraints\n",
    "\n",
    "$ 1 ≤ T ≤ 5$<br>\n",
    "$ 1 ≤ n ≤ 10^5 $<br>\n",
    "$ 1 ≤ sideLength ≤ 2^31 $<br>\n",
    "\n",
    "### Output Format\n",
    "\n",
    "For each test case, output a single line containing either Yes or No.\n",
    "\n",
    "### Sample Input\n",
    "\n",
    "> `STDIN        Function`<br>\n",
    "  `-----        --------`<br>\n",
    "`2            T = 2`<br>\n",
    "`6            blocks[] size n = 6`<br>\n",
    "`4 3 2 1 3 4  blocks = [4, 3, 2, 1, 3, 4]`<br>\n",
    "`3            blocks[] size n = 3`<br>\n",
    "`1 3 2        blocks = [1, 3, 2]`<br>\n",
    "\n",
    "### Sample Output\n",
    "\n",
    "> `Yes`<br>\n",
    "`No`<br>\n",
    "\n",
    "### Explanation\n",
    "\n",
    "In the first test case, pick in this order: left - $4$, right - $4$, left - $3$, right - $3$, left - $2$, right - $1$.\n",
    "In the second test case, no order gives an appropriate arrangement of vertical cubes. $3$ will always come after either $1$ or $2$."
   ]
  },
  {
   "cell_type": "code",
   "execution_count": 1,
   "metadata": {},
   "outputs": [
    {
     "name": "stdout",
     "output_type": "stream",
     "text": [
      "2\n",
      "6\n",
      "4 3 2 1 3 4\n",
      "Yes\n",
      "3\n",
      "1 3 2\n",
      "No\n"
     ]
    }
   ],
   "source": [
    "from collections import deque\n",
    "\n",
    "T = int(input())\n",
    "\n",
    "for n in range(T):  \n",
    "    n, block =input(), deque(map(int, input().split()))\n",
    "    \n",
    "    for cube in reversed(sorted(block)):\n",
    "        if block[-1] == cube: \n",
    "            block.pop()\n",
    "        elif block[0] == cube: \n",
    "            block.popleft()\n",
    "        else:\n",
    "            print('No')\n",
    "            break\n",
    "    else: \n",
    "        print('Yes')"
   ]
  }
 ],
 "metadata": {
  "kernelspec": {
   "display_name": "Python 3",
   "language": "python",
   "name": "python3"
  },
  "language_info": {
   "codemirror_mode": {
    "name": "ipython",
    "version": 3
   },
   "file_extension": ".py",
   "mimetype": "text/x-python",
   "name": "python",
   "nbconvert_exporter": "python",
   "pygments_lexer": "ipython3",
   "version": "3.8.5"
  }
 },
 "nbformat": 4,
 "nbformat_minor": 4
}
