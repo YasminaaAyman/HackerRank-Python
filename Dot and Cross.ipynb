{
 "cells": [
  {
   "cell_type": "markdown",
   "metadata": {},
   "source": [
    "# Dot and Cross\n",
    "### [dot](https://numpy.org/doc/stable/reference/generated/numpy.dot.html)\n",
    "\n",
    "The dot tool returns the dot product of two arrays.<br>\n",
    "\n",
    "> `import numpy`<br><br>\n",
    "`A = numpy.array([ 1, 2 ])`<br>\n",
    "`B = numpy.array([ 3, 4 ])`<br><br>\n",
    "`print numpy.dot(A, B)       #Output : 11`<br>\n",
    "\n",
    "### [cross](https://numpy.org/doc/stable/reference/generated/numpy.cross.html)\n",
    "\n",
    "The cross tool returns the cross product of two arrays.<br>\n",
    "\n",
    "> `import numpy`<br><br>\n",
    "`A = numpy.array([ 1, 2 ])`<br>\n",
    "`B = numpy.array([ 3, 4 ])`<br><br>\n",
    "`print numpy.cross(A, B)     #Output : -2`<br>\n",
    "***\n",
    "\n",
    "### Task\n",
    "\n",
    "You are given two arrays $A$ and $B$. Both have dimensions of $N$X$N$.<br>\n",
    "Your task is to compute their [matrix product](https://en.wikipedia.org/wiki/Matrix_multiplication#Matrix_product_.28two_matrices.29).\n",
    "\n",
    "### Input Format\n",
    "\n",
    "The first line contains the integer $N$.<br>\n",
    "The next $N$ lines contains $N$ space separated integers of array $A$.<br>\n",
    "The following $N$ lines contains $N$ space separated integers of array $B$.\n",
    "\n",
    "### Output Format\n",
    "\n",
    "Print the matrix multiplication of $A$ and $B$.\n",
    "\n",
    "### Sample Input\n",
    "\n",
    "> `2`<br>\n",
    "`1 2`<br>\n",
    "`3 4`<br>\n",
    "`1 2`<br>\n",
    "`3 4`\n",
    "\n",
    "### Sample Output\n",
    "\n",
    "> `[[ 7 10]`<br>\n",
    "` [15 22]]`"
   ]
  },
  {
   "cell_type": "code",
   "execution_count": 1,
   "metadata": {},
   "outputs": [
    {
     "name": "stdout",
     "output_type": "stream",
     "text": [
      "2\n",
      "1 2\n",
      "3 4\n",
      "1 2\n",
      "3 4\n",
      "[[ 7 10]\n",
      " [15 22]]\n"
     ]
    }
   ],
   "source": [
    "import numpy as np \n",
    "\n",
    "n = int(input())\n",
    "arr_a = np.array([input().split() for _ in range(n)], int)\n",
    "arr_b = np.array([input().split() for _ in range(n)], int)\n",
    "\n",
    "print(np.dot(arr_a,arr_b))"
   ]
  }
 ],
 "metadata": {
  "kernelspec": {
   "display_name": "Python 3",
   "language": "python",
   "name": "python3"
  },
  "language_info": {
   "codemirror_mode": {
    "name": "ipython",
    "version": 3
   },
   "file_extension": ".py",
   "mimetype": "text/x-python",
   "name": "python",
   "nbconvert_exporter": "python",
   "pygments_lexer": "ipython3",
   "version": "3.8.5"
  }
 },
 "nbformat": 4,
 "nbformat_minor": 4
}
