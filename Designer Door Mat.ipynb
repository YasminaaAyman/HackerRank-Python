{
 "cells": [
  {
   "cell_type": "markdown",
   "metadata": {},
   "source": [
    "# Designer Door Mat\n",
    "Mr. Vincent works in a door mat manufacturing company. One day, he designed a new door mat with the following specifications:<br>\n",
    "* Mat size must be $N$ X $M$. ($N$ is an odd natural number, and $M$ is $3$ times $N$.)\n",
    "* The design should have 'WELCOME' written in the center.\n",
    "* The design pattern should only use |, . and - characters.\n",
    "\n",
    "### Sample Design\n",
    "> Size: 7 x 21 <br>\n",
    "    ---------.|.---------<br>\n",
    "    ------.|..|..|.------<br>\n",
    "    ---.|..|..|..|..|.---<br>\n",
    "    -------WELCOME-------<br>\n",
    "    ---.|..|..|..|..|.---<br>\n",
    "    ------.|..|..|.------<br>\n",
    "    ---------.|.--------- <br><br>\n",
    "    Size: 11 x 33<br>\n",
    "    ---------------.|.---------------<br>\n",
    "    ------------.|..|..|.------------<br>\n",
    "    ---------.|..|..|..|..|.---------<br>\n",
    "    ------.|..|..|..|..|..|..|.------<br>\n",
    "    ---.|..|..|..|..|..|..|..|..|.---<br>\n",
    "    -------------WELCOME-------------<br>\n",
    "    ---.|..|..|..|..|..|..|..|..|.---<br>\n",
    "    ------.|..|..|..|..|..|..|.------<br>\n",
    "    ---------.|..|..|..|..|.---------<br>\n",
    "    ------------.|..|..|.------------<br>\n",
    "    ---------------.|.---------------<br>\n",
    "    \n",
    "### Input Format\n",
    "A single line containing the space separated values of $N$ and $M$.\n",
    "### Constraints\n",
    "* $ 5 < N < 101 $\n",
    "* $ 15 < M < 303 $\n",
    "\n",
    "### Output Format\n",
    "Output the design pattern."
   ]
  },
  {
   "cell_type": "code",
   "execution_count": 37,
   "metadata": {},
   "outputs": [
    {
     "name": "stdout",
     "output_type": "stream",
     "text": [
      "7 21\n",
      "---------.|.---------\n",
      "------.|..|..|.------\n",
      "---.|..|..|..|..|.---\n",
      "-------WELCOME-------\n",
      "---.|..|..|..|..|.---\n",
      "------.|..|..|.------\n",
      "---------.|.---------\n"
     ]
    }
   ],
   "source": [
    "n,m = map(int, input().split())\n",
    "\n",
    "#top cone\n",
    "for i in range(n//2):\n",
    "    print(('.|.'*(i*2+1)).center(m,'-'))\n",
    "    \n",
    "#Welcome in center\n",
    "print((\"WELCOME\").center(m,'-'))\n",
    "\n",
    "#bottom cone\n",
    "for i in range(n//2,0,-1):\n",
    "    print(('.|.'*(i*2-1)).center(m,'-'))"
   ]
  }
 ],
 "metadata": {
  "kernelspec": {
   "display_name": "Python 3",
   "language": "python",
   "name": "python3"
  },
  "language_info": {
   "codemirror_mode": {
    "name": "ipython",
    "version": 3
   },
   "file_extension": ".py",
   "mimetype": "text/x-python",
   "name": "python",
   "nbconvert_exporter": "python",
   "pygments_lexer": "ipython3",
   "version": "3.8.5"
  }
 },
 "nbformat": 4,
 "nbformat_minor": 4
}
