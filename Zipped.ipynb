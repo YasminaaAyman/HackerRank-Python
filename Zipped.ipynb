{
 "cells": [
  {
   "cell_type": "markdown",
   "metadata": {},
   "source": [
    "# Zipped!\n",
    "<font color=\"blue\">zip([iterable, ...])</font><br>\n",
    "\n",
    "This function returns a list of tuples. The $ i^{th} $ tuple contains the $ i^{th} $ element from each of the argument sequences or iterables.\n",
    "\n",
    "If the argument sequences are of unequal lengths, then the returned list is truncated to the length of the shortest argument sequence.<br>\n",
    "\n",
    "###### Sample Code\n",
    "\n",
    "> `>>> print zip([1,2,3,4,5,6],'Hacker')`<br>\n",
    "`[(1, 'H'), (2, 'a'), (3, 'c'), (4, 'k'), (5, 'e'), (6, 'r')]`<br>\n",
    "`>>>` <br>\n",
    "`>>> print zip([1,2,3,4,5,6],[0,9,8,7,6,5,4,3,2,1])`<br>\n",
    "`[(1, 0), (2, 9), (3, 8), (4, 7), (5, 6), (6, 5)]`<br>\n",
    "`>>> `<br>\n",
    "`>>> A = [1,2,3]`<br>\n",
    "`>>> B = [6,5,4]`<br>\n",
    "`>>> C = [7,8,9]`<br>\n",
    "`>>> X = [A] + [B] + [C]`<br>\n",
    "`>>> `<br>\n",
    "`>>> print zip(*X)`<br>\n",
    "`[(1, 6, 7), (2, 5, 8), (3, 4, 9)]`<br>\n",
    "\n",
    "### Task\n",
    "\n",
    "The National University conducts an examination of $ N $ students in $ X $ subjects.<br>\n",
    "Your task is to compute the average scores of each student.<br><br>\n",
    "$ Average Score = \\frac{Sum of scores obtained in all subjects by a student}{Total number of subjects} $ <br>\n",
    "\n",
    "The format for the general mark sheet is:<br>\n",
    "![image](https://i.imgur.com/mgPmpNE.png)\n",
    "\n",
    "### Input Format\n",
    "\n",
    "The first line contains $ N $ and $ X $ separated by a space.\n",
    "The next $ X $ lines contains the space separated marks obtained by students in a particular subject.\n",
    "\n",
    "### Constraints\n",
    "\n",
    "$ 0 < N  ≤ 100$<br>\n",
    "$ 0 < X  ≤ 100$ \n",
    "\n",
    "### Output Format\n",
    "\n",
    "Print the averages of all students on separate lines.\n",
    "\n",
    "The averages must be correct up to **1** decimal place."
   ]
  },
  {
   "cell_type": "code",
   "execution_count": 1,
   "metadata": {},
   "outputs": [
    {
     "name": "stdout",
     "output_type": "stream",
     "text": [
      "5 3\n",
      "89 90 78 93 80\n",
      "90 91 85 88 86\n",
      "91 92 83 89 90.5\n",
      "90.0\n",
      "91.0\n",
      "82.0\n",
      "90.0\n",
      "85.5\n"
     ]
    }
   ],
   "source": [
    "N, X = map(int, input().split())\n",
    "\n",
    "student_sheet = []\n",
    "for i in range(X):\n",
    "    student_sheet.append(map(float,input().split()))\n",
    "    \n",
    "for student in zip(*student_sheet):\n",
    "     print(sum(student)/X)"
   ]
  }
 ],
 "metadata": {
  "kernelspec": {
   "display_name": "Python 3",
   "language": "python",
   "name": "python3"
  },
  "language_info": {
   "codemirror_mode": {
    "name": "ipython",
    "version": 3
   },
   "file_extension": ".py",
   "mimetype": "text/x-python",
   "name": "python",
   "nbconvert_exporter": "python",
   "pygments_lexer": "ipython3",
   "version": "3.8.5"
  }
 },
 "nbformat": 4,
 "nbformat_minor": 4
}
