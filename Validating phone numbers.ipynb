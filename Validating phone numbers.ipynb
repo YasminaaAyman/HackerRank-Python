{
 "cells": [
  {
   "cell_type": "markdown",
   "metadata": {},
   "source": [
    "# Validating phone numbers\n",
    "Let's dive into the interesting topic of regular expressions! You are given some input, and you are required to check whether they are valid mobile numbers.<br>\n",
    "\n",
    "A valid mobile number is a ten digit number starting with a $7,8$ or $9$.\n",
    "\n",
    "### Concept\n",
    "\n",
    "A valid mobile number is a ten digit number starting with a $7,8$ or $9$.<br>\n",
    "\n",
    "Regular expressions are a key concept in any programming language. A quick explanation with Python examples is [available here](https://www.thelearningpoint.net/computer-science/learning-python-programming-and-data-structures/learning-python-programming-and-data-structures--tutorial-13--regular-expression-matching). You could also go through the link below to read more about regular expressions in Python.<br>\n",
    "https://developers.google.com/edu/python/regular-expressions\n",
    "\n",
    "### Input Format\n",
    "\n",
    "The first line contains an integer $N$, the number of inputs.<br>\n",
    "$N$ lines follow, each containing some string.\n",
    "\n",
    "### Constraints\n",
    "\n",
    "$ 1 ≤ N ≤ 10 $<br>\n",
    "$ 2 ≤ len(Number) ≤ 15 $\n",
    "\n",
    "### Output Format\n",
    "\n",
    "For every string listed, print \"YES\" if it is a valid mobile number and \"NO\" if it is not on separate lines. Do not print the quotes.\n",
    "\n",
    "### Sample Input\n",
    "\n",
    "> `2`<br>\n",
    "`9587456281`<br>\n",
    "`1252478965`\n",
    "\n",
    "### Sample Output\n",
    "\n",
    "> `YES`<br>\n",
    "`NO`"
   ]
  },
  {
   "cell_type": "code",
   "execution_count": 1,
   "metadata": {},
   "outputs": [
    {
     "name": "stdout",
     "output_type": "stream",
     "text": [
      "2\n",
      "9587456281\n",
      "YES\n",
      "1252478965\n",
      "NO\n"
     ]
    }
   ],
   "source": [
    "import re \n",
    "\n",
    "N = int(input())\n",
    "pattern = re.compile(r'^[789][0-9]{9}$')\n",
    "\n",
    "for _ in range(N):\n",
    "    Number = input()\n",
    "    if pattern.match(Number):\n",
    "        print(\"YES\")\n",
    "    else:\n",
    "        print(\"NO\") "
   ]
  }
 ],
 "metadata": {
  "kernelspec": {
   "display_name": "Python 3",
   "language": "python",
   "name": "python3"
  },
  "language_info": {
   "codemirror_mode": {
    "name": "ipython",
    "version": 3
   },
   "file_extension": ".py",
   "mimetype": "text/x-python",
   "name": "python",
   "nbconvert_exporter": "python",
   "pygments_lexer": "ipython3",
   "version": "3.8.5"
  }
 },
 "nbformat": 4,
 "nbformat_minor": 4
}
