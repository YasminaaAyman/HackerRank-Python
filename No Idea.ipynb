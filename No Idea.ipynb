{
 "cells": [
  {
   "cell_type": "markdown",
   "metadata": {},
   "source": [
    "# No Idea!\n",
    "There is an array of $ n $ integers. There are also $ 2 $ disjoint sets, $ A $ and $ B $, each containing $ m $ integers. You like all the integers in set $ A $ and dislike all the integers in set $ B $. Your initial happiness is $ 0 $. For each $ i $ integer in the array, if $ i ∈ A $, you add $ 1 $ to your happiness. If $ i ∈ B $, you add $ -1 $ to your happiness. Otherwise, your happiness does not change. Output your final happiness at the end.<br>\n",
    "\n",
    "**Note:** Since $ A $ and $ B $ are sets, they have no repeated elements. However, the array might contain duplicate elements.\n",
    "\n",
    "### Constraints\n",
    "$ 1 ⩽ n ⩽ 10^5 $<br>\n",
    "$ 1 ⩽ m ⩽ 10^5 $<br>\n",
    "$ 1 ⩽ Any integer in the input ⩽ 10^9 $<br>\n",
    "\n",
    "\n",
    "### Input Format\n",
    "\n",
    "The first line contains integers $ n $ and $ m $ separated by a space.<br>\n",
    "The second line contains $ n $ integers, the elements of the array.<br>\n",
    "The third and fourth lines contain $ m $ integers, $ A $ and $ B $, respectively.<br>\n",
    "\n",
    "### Output Format\n",
    "\n",
    "Output a single integer, your total happiness."
   ]
  },
  {
   "cell_type": "code",
   "execution_count": 1,
   "metadata": {},
   "outputs": [
    {
     "name": "stdout",
     "output_type": "stream",
     "text": [
      "3 2\n",
      "1 5 3\n",
      "3 1\n",
      "5 7\n",
      "1\n"
     ]
    }
   ],
   "source": [
    "n, m = input().split()\n",
    "arr = input().split()\n",
    "A = set(input().split())\n",
    "B = set(input().split())\n",
    "score = sum([(i in A) - (i in B) for i in arr])\n",
    "print(score)"
   ]
  }
 ],
 "metadata": {
  "kernelspec": {
   "display_name": "Python 3",
   "language": "python",
   "name": "python3"
  },
  "language_info": {
   "codemirror_mode": {
    "name": "ipython",
    "version": 3
   },
   "file_extension": ".py",
   "mimetype": "text/x-python",
   "name": "python",
   "nbconvert_exporter": "python",
   "pygments_lexer": "ipython3",
   "version": "3.8.5"
  }
 },
 "nbformat": 4,
 "nbformat_minor": 4
}
