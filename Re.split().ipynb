{
 "cells": [
  {
   "cell_type": "markdown",
   "metadata": {},
   "source": [
    "# Re.split()\n",
    "<font size=1px>Check [Tutorial](https://www.hackerrank.com/challenges/re-split/tutorial) tab to know how to to solve.</font>\n",
    "\n",
    "You are given a string $s$ consisting only of digits 0-9, commas ,, and dots .\n",
    "\n",
    "Your task is to complete the regex_pattern defined below, which will be used to re.split() all of the , and . symbols in $s$.\n",
    "\n",
    "It’s guaranteed that every comma and every dot in $s$ is preceeded and followed by a digit.\n",
    "\n",
    "### Sample Input 0\n",
    "\n",
    "> `100,000,000.000`\n",
    "\n",
    "### Sample Output 0\n",
    "\n",
    "> `100`<br>\n",
    "`000`<br>\n",
    "`000`<br>\n",
    "`000`"
   ]
  },
  {
   "cell_type": "code",
   "execution_count": 1,
   "metadata": {},
   "outputs": [
    {
     "name": "stdout",
     "output_type": "stream",
     "text": [
      "100,000,000.000\n",
      "100\n",
      "000\n",
      "000\n",
      "000\n"
     ]
    }
   ],
   "source": [
    "regex_pattern = r\"[,.]+\"\n",
    "\n",
    "import re\n",
    "print(\"\\n\".join(re.split(regex_pattern, input())))"
   ]
  }
 ],
 "metadata": {
  "kernelspec": {
   "display_name": "Python 3",
   "language": "python",
   "name": "python3"
  },
  "language_info": {
   "codemirror_mode": {
    "name": "ipython",
    "version": 3
   },
   "file_extension": ".py",
   "mimetype": "text/x-python",
   "name": "python",
   "nbconvert_exporter": "python",
   "pygments_lexer": "ipython3",
   "version": "3.8.5"
  }
 },
 "nbformat": 4,
 "nbformat_minor": 4
}
