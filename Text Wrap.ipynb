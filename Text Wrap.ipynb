{
 "cells": [
  {
   "cell_type": "markdown",
   "metadata": {},
   "source": [
    "# Text Wrap\n",
    "You are given a string $S$ and width $W$.<br>\n",
    "Your task is to wrap the string into a paragraph of width $W$.\n",
    "### Function Description\n",
    "Complete the wrap function in the editor below.<br>\n",
    "wrap has the following parameters:<br>\n",
    "* string string: a long string\n",
    "* int max_width: the width to wrap to\n",
    "\n",
    "### Returns\n",
    "* string: a single string with newline characters ('\\n') where the breaks should be\n",
    "\n",
    "### Input Format\n",
    "The first line contains a string, $String$.<br>\n",
    "The second line contains the width, $max width$.<br>\n",
    "\n",
    "### Constraints\n",
    "* $ 0 < len(string) < 1000 $\n",
    "* $ 0 < max width < len(string) $\n"
   ]
  },
  {
   "cell_type": "code",
   "execution_count": 8,
   "metadata": {},
   "outputs": [
    {
     "name": "stdout",
     "output_type": "stream",
     "text": [
      "ABCDEFGHIJKLIMNOQRSTUVWXYZ\n",
      "4\n",
      "ABCD\n",
      "EFGH\n",
      "IJKL\n",
      "IMNO\n",
      "QRST\n",
      "UVWX\n",
      "YZ\n"
     ]
    }
   ],
   "source": [
    "import textwrap\n",
    "\n",
    "def wrap(string, max_width):\n",
    "    return \"\\n\".join(textwrap.wrap(string, max_width))\n",
    "\n",
    "if __name__ == '__main__':\n",
    "    string, max_width = input(), int(input())\n",
    "    result = wrap(string, max_width)\n",
    "    print(result)"
   ]
  }
 ],
 "metadata": {
  "kernelspec": {
   "display_name": "Python 3",
   "language": "python",
   "name": "python3"
  },
  "language_info": {
   "codemirror_mode": {
    "name": "ipython",
    "version": 3
   },
   "file_extension": ".py",
   "mimetype": "text/x-python",
   "name": "python",
   "nbconvert_exporter": "python",
   "pygments_lexer": "ipython3",
   "version": "3.8.5"
  }
 },
 "nbformat": 4,
 "nbformat_minor": 4
}
