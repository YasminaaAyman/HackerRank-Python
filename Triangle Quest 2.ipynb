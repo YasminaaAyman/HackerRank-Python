{
 "cells": [
  {
   "cell_type": "markdown",
   "metadata": {},
   "source": [
    "# Triangle Quest 2\n",
    "You are given a positive integer $ N $.<br>\n",
    "Your task is to print a palindromic triangle of size $ N $.<br>\n",
    "\n",
    "For example, a palindromic triangle of size $ 5 $ is:<br>\n",
    "\n",
    "`1\n",
    "121\n",
    "12321\n",
    "1234321\n",
    "123454321`<br>\n",
    "\n",
    "You can't take more than two lines. The first line (a for-statement) is already written for you.<br>\n",
    "You have to complete the code using exactly one print statement.<br>\n",
    "\n",
    "**Note:**\n",
    "Using anything related to strings will give a score of $ 0 $.<br>\n",
    "Using more than one for-statement will give a score of $ 0 $.<br>\n",
    "\n",
    "### Input Format\n",
    "\n",
    "A single line of input containing the integer $ N $.\n",
    "\n",
    "### Constraints\n",
    "\n",
    "$ 0 < N < 10 $\n",
    "\n",
    "### Output Format\n",
    "\n",
    "Print the palindromic triangle of size $ N $ as explained above."
   ]
  },
  {
   "cell_type": "code",
   "execution_count": 1,
   "metadata": {},
   "outputs": [
    {
     "name": "stdout",
     "output_type": "stream",
     "text": [
      "5\n",
      "1\n",
      "121\n",
      "12321\n",
      "1234321\n",
      "123454321\n"
     ]
    }
   ],
   "source": [
    "for i in range(1,int(input())+1):\n",
    "    print(((10**i)//9)**2) "
   ]
  }
 ],
 "metadata": {
  "kernelspec": {
   "display_name": "Python 3",
   "language": "python",
   "name": "python3"
  },
  "language_info": {
   "codemirror_mode": {
    "name": "ipython",
    "version": 3
   },
   "file_extension": ".py",
   "mimetype": "text/x-python",
   "name": "python",
   "nbconvert_exporter": "python",
   "pygments_lexer": "ipython3",
   "version": "3.8.5"
  }
 },
 "nbformat": 4,
 "nbformat_minor": 4
}
