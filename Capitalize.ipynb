{
 "cells": [
  {
   "cell_type": "markdown",
   "metadata": {},
   "source": [
    "# Capitalize!\n",
    "You are asked to ensure that the first and last names of people begin with a capital letter in their passports. For example, alison heck should be capitalised correctly as Alison Heck.<br>\n",
    "**<font color=red>a</font>lison <font color=red>h</font>eck ==> Alison Heck**<br>\n",
    "Given a full name, your task is to capitalize the name appropriately.\n",
    "### Input Format\n",
    "A single line of input containing the full name, **S**.\n",
    "### Constraints\n",
    "* $ 0 < len(S) < 1000 $\n",
    "* The string consists of alphanumeric characters and spaces.\n",
    "\n",
    "**Note:** in a word only the first character is capitalized. Example 12abc when capitalized remains 12abc.\n",
    "### Output Format\n",
    "Print the capitalized string, **S**.\n",
    "### Sample Input\n",
    "> chris alan\n",
    "### Sample Output\n",
    "> Chris Alan"
   ]
  },
  {
   "cell_type": "code",
   "execution_count": null,
   "metadata": {},
   "outputs": [],
   "source": [
    "#!/bin/python3\n",
    "\n",
    "import math\n",
    "import os\n",
    "import random\n",
    "import re\n",
    "import sys\n",
    "\n",
    "# Complete the solve function below.\n",
    "def solve(s):\n",
    "    for word in s.split():\n",
    "        s = s.replace(word, word.capitalize())\n",
    "    return s\n",
    "if __name__ == '__main__':\n",
    "    fptr = open(os.environ['OUTPUT_PATH'], 'w')\n",
    "\n",
    "    s = input()\n",
    "\n",
    "    result = solve(s)\n",
    "\n",
    "    fptr.write(result + '\\n')\n",
    "\n",
    "    fptr.close()\n"
   ]
  }
 ],
 "metadata": {
  "kernelspec": {
   "display_name": "Python 3",
   "language": "python",
   "name": "python3"
  },
  "language_info": {
   "codemirror_mode": {
    "name": "ipython",
    "version": 3
   },
   "file_extension": ".py",
   "mimetype": "text/x-python",
   "name": "python",
   "nbconvert_exporter": "python",
   "pygments_lexer": "ipython3",
   "version": "3.8.5"
  }
 },
 "nbformat": 4,
 "nbformat_minor": 4
}
