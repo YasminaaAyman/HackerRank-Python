{
 "cells": [
  {
   "cell_type": "markdown",
   "metadata": {},
   "source": [
    "# Array Mathematics\n",
    "Basic mathematical functions operate element-wise on arrays. They are available both as operator overloads and as functions in the NumPy module.<br>\n",
    "> `import numpy`<br><br>\n",
    "`a = numpy.array([1,2,3,4], float)`<br>\n",
    "`b = numpy.array([5,6,7,8], float)`<br><br>\n",
    "`print a + b                     #[  6.   8.  10.  12.]`<br>\n",
    "`print numpy.add(a, b)           #[  6.   8.  10.  12.]`<br><br>\n",
    "`print a - b                     #[-4. -4. -4. -4.]`<br>\n",
    "`print numpy.subtract(a, b)      #[-4. -4. -4. -4.]`<br><br>\n",
    "`print a * b                     #[  5.  12.  21.  32.]`<br>\n",
    "`print numpy.multiply(a, b)      #[  5.  12.  21.  32.]`<br><br>\n",
    "`print a / b                     #[ 0.2         0.33333333  0.42857143  0.5       ]`<br>\n",
    "`print numpy.divide(a, b)        #[ 0.2         0.33333333  0.42857143  0.5       ]`<br><br>\n",
    "`print a % b                     #[ 1.  2.  3.  4.]`<br>\n",
    "`print numpy.mod(a, b)           #[ 1.  2.  3.  4.]`<br><br>\n",
    "`print a**b                      #[  1.00000000e+00   6.40000000e+01   2.18700000e+03   6.55360000e+04]`<br>\n",
    "`print numpy.power(a, b)         #[  1.00000000e+00   6.40000000e+01   2.18700000e+03   6.55360000e+04]`<br>\n",
    "***\n",
    "\n",
    "### Task\n",
    "\n",
    "You are given two integer arrays, $A$ and $B$ of dimensions $N$X$M$.<br>\n",
    "Your task is to perform the following operations:<br>\n",
    "\n",
    "1. Add ($A$ + $B$)\n",
    "2. Subtract ($A$ - $B$)\n",
    "3. Multiply ($A$ * $B$)\n",
    "4. Integer Division ($A$ / $B$)\n",
    "5. Mod ($A$ % $B$)\n",
    "6. Power ($A$ ** $B$)\n",
    "\n",
    "### Note\n",
    "There is a method numpy.floor_divide() that works like numpy.divide() except it performs a floor division.\n",
    "\n",
    "#### Input Format\n",
    "\n",
    "The first line contains two space separated integers, $N$ and $M$.<br>\n",
    "The next $N$ lines contains $M$ space separated integers of array $A$.<br>\n",
    "The following $N$ lines contains $M$ space separated integers of array $B$.\n",
    "\n",
    "#### Output Format\n",
    "\n",
    "Print the result of each operation in the given order under Task.\n",
    "\n",
    "### Sample Input\n",
    "\n",
    "> `1 4`<br>\n",
    "`1 2 3 4`<br>\n",
    "`5 6 7 8`\n",
    "\n",
    "### Sample Output\n",
    "\n",
    "> `[[ 6  8 10 12]]`<br>\n",
    "`[[-4 -4 -4 -4]]`<br>\n",
    "`[[ 5 12 21 32]]`<br>\n",
    "`[[0 0 0 0]]`<br>\n",
    "`[[1 2 3 4]]`<br>\n",
    "`[[    1    64  2187 65536]]`<br>\n",
    "\n",
    "Use // for division in Python 3."
   ]
  },
  {
   "cell_type": "code",
   "execution_count": 1,
   "metadata": {},
   "outputs": [
    {
     "name": "stdout",
     "output_type": "stream",
     "text": [
      "1 4\n",
      "1 2 3 4\n",
      "5 6 7 8\n",
      "[[ 6  8 10 12]]\n",
      "[[-4 -4 -4 -4]]\n",
      "[[ 5 12 21 32]]\n",
      "[[0 0 0 0]]\n",
      "[[1 2 3 4]]\n",
      "[[    1    64  2187 65536]]\n"
     ]
    }
   ],
   "source": [
    "import numpy as np\n",
    "\n",
    "n, m = map(int, input().split())\n",
    "a = np.array([input().split() for _ in range(n)], int)\n",
    "b = np.array([input().split() for _ in range(n)], int)\n",
    "\n",
    "print(a+b)\n",
    "print(a-b)\n",
    "print(a*b)\n",
    "print(a//b)\n",
    "print(a%b)\n",
    "print(a**b)"
   ]
  }
 ],
 "metadata": {
  "kernelspec": {
   "display_name": "Python 3",
   "language": "python",
   "name": "python3"
  },
  "language_info": {
   "codemirror_mode": {
    "name": "ipython",
    "version": 3
   },
   "file_extension": ".py",
   "mimetype": "text/x-python",
   "name": "python",
   "nbconvert_exporter": "python",
   "pygments_lexer": "ipython3",
   "version": "3.8.5"
  }
 },
 "nbformat": 4,
 "nbformat_minor": 4
}
