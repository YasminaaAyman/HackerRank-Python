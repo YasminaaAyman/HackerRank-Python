{
 "cells": [
  {
   "cell_type": "markdown",
   "metadata": {},
   "source": [
    "# Mean, Var, and Std\n",
    "### [mean](https://numpy.org/doc/stable/reference/generated/numpy.mean.html)\n",
    "\n",
    "The mean tool computes the arithmetic mean along the specified axis.<br>\n",
    "\n",
    "> `import numpy`<br><br>\n",
    "`my_array = numpy.array([ [1, 2], [3, 4] ])`<br><br>\n",
    "`print numpy.mean(my_array, axis = 0)        #Output : [ 2.  3.]`<br>\n",
    "`print numpy.mean(my_array, axis = 1)        #Output : [ 1.5  3.5]`<br>\n",
    "`print numpy.mean(my_array, axis = None)     #Output : 2.5`<br>\n",
    "`print numpy.mean(my_array)                  #Output : 2.5`<br>\n",
    "\n",
    "By default, the axis is None. Therefore, it computes the mean of the flattened array.\n",
    "\n",
    "### [var](https://numpy.org/doc/stable/reference/generated/numpy.var.html#numpy-var)\n",
    "\n",
    "The var tool computes the arithmetic variance along the specified axis.<br>\n",
    "\n",
    "> `import numpy`<br><br>\n",
    "`my_array = numpy.array([ [1, 2], [3, 4] ])`<br><br>\n",
    "`print numpy.var(my_array, axis = 0)         #Output : [ 1.  1.]`<br>\n",
    "`print numpy.var(my_array, axis = 1)         #Output : [ 0.25  0.25]`<br>\n",
    "`print numpy.var(my_array, axis = None)      #Output : 1.25`<br>\n",
    "`print numpy.var(my_array)                   #Output : 1.25`<br>\n",
    "\n",
    "By default, the axis is None. Therefore, it computes the variance of the flattened array.\n",
    "\n",
    "### [std](https://numpy.org/doc/stable/reference/generated/numpy.std.html#numpy.std)\n",
    "\n",
    "The std tool computes the arithmetic standard deviation along the specified axis.<br>\n",
    "\n",
    "> `import numpy`<br><br>\n",
    "`my_array = numpy.array([ [1, 2], [3, 4] ])`<br><br>\n",
    "`print numpy.std(my_array, axis = 0)         #Output : [ 1.  1.]`<br>\n",
    "`print numpy.std(my_array, axis = 1)         #Output : [ 0.5  0.5]`<br>\n",
    "`print numpy.std(my_array, axis = None)      #Output : 1.11803398875`<br>\n",
    "`print numpy.std(my_array)                   #Output : 1.11803398875`<br>\n",
    "\n",
    "By default, the axis is None. Therefore, it computes the standard deviation of the flattened array.<br>\n",
    "****\n",
    "\n",
    "### Task\n",
    "\n",
    "You are given a 2-D array of size $N$X$M$.<br>\n",
    "Your task is to find:<br>\n",
    "\n",
    "1. The mean along axis $1$\n",
    "2. The var along axis $0$\n",
    "3. The std along axis $None$\n",
    "\n",
    "### Input Format\n",
    "\n",
    "The first line contains the space separated values of $N$ and $M$.<br>\n",
    "The next $N$ lines contains $M$ space separated integers.\n",
    "\n",
    "### Output Format\n",
    "\n",
    "First, print the mean.<br>\n",
    "Second, print the var.<br>\n",
    "Third, print the std.\n",
    "\n",
    "### Sample Input\n",
    "\n",
    "> `2 2`<br>\n",
    "`1 2`<br>\n",
    "`3 4`\n",
    "\n",
    "### Sample Output\n",
    "\n",
    "> `[ 1.5  3.5]`<br>\n",
    "`[ 1.  1.]`<br>\n",
    "`1.11803398875`"
   ]
  },
  {
   "cell_type": "code",
   "execution_count": 1,
   "metadata": {},
   "outputs": [
    {
     "name": "stdout",
     "output_type": "stream",
     "text": [
      "2 2\n",
      "1 2\n",
      "3 4\n",
      "[1.5 3.5]\n",
      "[1. 1.]\n",
      "1.11803398875\n"
     ]
    }
   ],
   "source": [
    "import numpy as np \n",
    "\n",
    "n, m = map(int, input().split())\n",
    "arr  = np.array([input().split() for _ in range(n)], int)\n",
    "print(np.mean(arr, axis=1))\n",
    "print(np.var(arr, axis=0))\n",
    "print(np.around(np.std(arr), 11))"
   ]
  }
 ],
 "metadata": {
  "kernelspec": {
   "display_name": "Python 3",
   "language": "python",
   "name": "python3"
  },
  "language_info": {
   "codemirror_mode": {
    "name": "ipython",
    "version": 3
   },
   "file_extension": ".py",
   "mimetype": "text/x-python",
   "name": "python",
   "nbconvert_exporter": "python",
   "pygments_lexer": "ipython3",
   "version": "3.8.5"
  }
 },
 "nbformat": 4,
 "nbformat_minor": 4
}
