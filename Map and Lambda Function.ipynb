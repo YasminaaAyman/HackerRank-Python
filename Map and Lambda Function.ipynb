{
 "cells": [
  {
   "cell_type": "markdown",
   "metadata": {},
   "source": [
    "# Map and Lambda Function\n",
    "Let's learn some new Python concepts! You have to generate a list of the first $ N $ fibonacci numbers, $ 0 $ being the first number. Then, apply the map function and a lambda expression to cube each fibonacci number and print the list.\n",
    "\n",
    "### Concept\n",
    "\n",
    "The map() function applies a function to every member of an iterable and returns the result. It takes two parameters: first, the function that is to be applied and secondly, the iterables.<br>\n",
    "Let's say you are given a list of names, and you have to print a list that contains the length of each name.<br>\n",
    "\n",
    "> `>> print (list(map(len, ['Tina', 'Raj', 'Tom'])))`<br>  \n",
    "`[4, 3, 3]`<br>\n",
    "\n",
    "Lambda is a single expression anonymous function often used as an inline function. In simple words, it is a function that has only one line in its body. It proves very handy in functional and GUI programming.<br>\n",
    "\n",
    "> `>> sum = lambda a, b, c: a + b + c`<br>\n",
    "`>> sum(1, 2, 3)`<br>\n",
    "`6`<br>\n",
    "\n",
    "**Note:**<br>\n",
    "\n",
    "Lambda functions cannot use the return statement and can only have a single expression. Unlike def, which creates a function and assigns it a name, lambda creates a function and returns the function itself. Lambda can be used inside lists and dictionaries.\n",
    "\n",
    "### Input Format\n",
    "\n",
    "One line of input: an integer $ N $.\n",
    "\n",
    "### Constraints\n",
    "\n",
    "$ 0 ≤ N ≤ 15 $\n",
    "\n",
    "### Output Format\n",
    "\n",
    "A list on a single line containing the cubes of the first $ N $ fibonacci numbers."
   ]
  },
  {
   "cell_type": "code",
   "execution_count": 1,
   "metadata": {},
   "outputs": [
    {
     "name": "stdout",
     "output_type": "stream",
     "text": [
      "5\n",
      "[0, 1, 1, 8, 27]\n"
     ]
    }
   ],
   "source": [
    "cube = lambda x: x**3\n",
    "\n",
    "def fibonacci(n):\n",
    "    l = [0,1]\n",
    "    for i in range(2,n):\n",
    "        l.append(l[i-1] + l[i-2])\n",
    "    return l[0:n]\n",
    "       \n",
    "if __name__ == '__main__':\n",
    "    n = int(input())\n",
    "    print(list(map(cube, fibonacci(n))))"
   ]
  }
 ],
 "metadata": {
  "kernelspec": {
   "display_name": "Python 3",
   "language": "python",
   "name": "python3"
  },
  "language_info": {
   "codemirror_mode": {
    "name": "ipython",
    "version": 3
   },
   "file_extension": ".py",
   "mimetype": "text/x-python",
   "name": "python",
   "nbconvert_exporter": "python",
   "pygments_lexer": "ipython3",
   "version": "3.8.5"
  }
 },
 "nbformat": 4,
 "nbformat_minor": 4
}
