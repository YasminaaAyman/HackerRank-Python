{
 "cells": [
  {
   "cell_type": "markdown",
   "metadata": {},
   "source": [
    "# Words Score\n",
    "In this challenge, the task is to debug the existing code to successfully execute all provided test files.\n",
    "***\n",
    "Consider that vowels in the alphabet are a, e, i, o, u and y.<br>\n",
    "\n",
    "Function score_words takes a list of lowercase words as an argument and returns a score as follows:<br>\n",
    "\n",
    "The score of a single word is  if the word contains an even number of vowels. Otherwise, the score of this word is . The score for the whole list of words is the sum of scores of all words in the list.<br>\n",
    "\n",
    "Debug the given function score_words such that it returns a correct score.<br>\n",
    "\n",
    "Your function will be tested on several cases by the locked template code.<br>\n",
    "\n",
    "### Input Format\n",
    "\n",
    "The input is read by the provided locked code template. In the first line, there is a single integer $n$ denoting the number of words. In the second line, there are $n$ space-separated lowercase words.\n",
    "\n",
    "### Constraints\n",
    "\n",
    "* $1 ≤ n ≤ 20$\n",
    "* Each word has at most  letters and all letters are English lowercase letters\n",
    "\n",
    "### Output Format\n",
    "\n",
    "The output is produced by the provided and locked code template. It calls function score_words with the list of words read from the input as the argument and prints the returned score to the output.\n",
    "\n",
    "### Sample Input 0\n",
    "\n",
    "> `2`<br>\n",
    "`hacker book`\n",
    "\n",
    "### Sample Output 0\n",
    "\n",
    "> `4`\n",
    "\n",
    "### Explanation 0\n",
    "\n",
    "There are two words in the input: hacker and book. The score of the word hacker is $2$ because it contains an even number of vowels, i.e. $2$ vowels, and the score of book is $2$ for the same reason. Thus the total score is $2+2=4$.\n",
    "\n",
    "### Sample Input 1\n",
    "\n",
    "> `3`<br>\n",
    "`programming is awesome`\n",
    "\n",
    "### Sample Output 1\n",
    "\n",
    "> `4`\n",
    "\n",
    "### Explanation 1\n",
    "\n",
    "There are $3$ words in the input: programming, is and awesome. The score of programming is $1$ since it contains $3$ vowels, an odd number of vowels. The score of is is also $1$ because it has an odd number of vowels. The score of awesome is $2$ since it contains $4$ vowels, an even number of vowels. Thus, the total score is $1+1+2=4$."
   ]
  },
  {
   "cell_type": "code",
   "execution_count": 1,
   "metadata": {},
   "outputs": [
    {
     "name": "stdout",
     "output_type": "stream",
     "text": [
      "2\n",
      "hacker book\n",
      "4\n"
     ]
    }
   ],
   "source": [
    "def is_vowel(letter):\n",
    "    return letter in ['a', 'e', 'i', 'o', 'u', 'y']\n",
    "\n",
    "def score_words(words):\n",
    "    score = 0\n",
    "    for word in words:\n",
    "        num_vowels = 0\n",
    "        for letter in word:\n",
    "            if is_vowel(letter):\n",
    "                num_vowels += 1\n",
    "        if num_vowels % 2 == 0:\n",
    "            score += 2\n",
    "        else:\n",
    "            score+=1\n",
    "    return score\n",
    "\n",
    "\n",
    "n = int(input())\n",
    "words = input().split()\n",
    "print(score_words(words))"
   ]
  }
 ],
 "metadata": {
  "kernelspec": {
   "display_name": "Python 3",
   "language": "python",
   "name": "python3"
  },
  "language_info": {
   "codemirror_mode": {
    "name": "ipython",
    "version": 3
   },
   "file_extension": ".py",
   "mimetype": "text/x-python",
   "name": "python",
   "nbconvert_exporter": "python",
   "pygments_lexer": "ipython3",
   "version": "3.8.5"
  }
 },
 "nbformat": 4,
 "nbformat_minor": 4
}
