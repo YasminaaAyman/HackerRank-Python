{
 "cells": [
  {
   "cell_type": "markdown",
   "metadata": {},
   "source": [
    "# Validating Credit Card Numbers\n",
    "You and Fredrick are good friends. Yesterday, Fredrick received $N$ credit cards from **ABCD Bank**. He wants to verify whether his credit card numbers are valid or not. You happen to be great at regex so he is asking for your help!<br>\n",
    "A valid credit card from **ABCD Bank** has the following characteristics:<br>\n",
    "► It must start with a $4$, $5$ or $6$.<br>\n",
    "► It must contain exactly $16$ digits.<br>\n",
    "► It must only consist of digits ($0$-$9$).<br>\n",
    "► It may have digits in groups of $4$, separated by one hyphen \"-\".<br>\n",
    "► It must NOT use any other separator like ' ' , '_', etc.<br>\n",
    "► It must NOT have $4$ or more consecutive repeated digits.\n",
    "\n",
    "### Examples:\n",
    "\n",
    "<font size=2px>**Valid Credit Card Numbers**</font>\n",
    "\n",
    "> `4253625879615786`<br>\n",
    "`4424424424442444`<br>\n",
    "`5122-2368-7954-3214`<br>\n",
    "\n",
    "<font size=2px>**Invalid Credit Card Numbers**</font>\n",
    "\n",
    "> `42536258796157867       #17 digits in card number → Invalid `<br>\n",
    "`4424444424442444        #Consecutive digits are repeating 4 or more times → Invalid`<br>\n",
    "`5122-2368-7954 - 3214   #Separators other than '-' are used → Invalid`<br>\n",
    "`44244x4424442444        #Contains non digit characters → Invalid`<br>\n",
    "`0525362587961578        #Doesn't start with 4, 5 or 6 → Invalid`<br>\n",
    "\n",
    "### Input Format\n",
    "\n",
    "The first line of input contains an integer $N$.<br>\n",
    "The next $N$ lines contain credit card numbers.\n",
    "\n",
    "### Constraints\n",
    "$0 < N < 100$\n",
    "\n",
    "### Output Format\n",
    "\n",
    "Print 'Valid' if the credit card number is valid. Otherwise, print 'Invalid'. Do not print the quotes.\n",
    "\n",
    "### Sample Input\n",
    "\n",
    "> `6`<br>\n",
    "`4123456789123456`<br>\n",
    "`5123-4567-8912-3456`<br>\n",
    "`61234-567-8912-3456`<br>\n",
    "`4123356789123456`<br>\n",
    "`5133-3367-8912-3456`<br>\n",
    "`5123 - 3567 - 8912 - 3456`\n",
    "\n",
    "### Sample Output\n",
    "\n",
    "> `Valid`<br>\n",
    "`Valid`<br>\n",
    "`Invalid`<br>\n",
    "`Valid`<br>\n",
    "`Invalid`<br>\n",
    "`Invalid`\n",
    "\n",
    "### Explanation\n",
    "\n",
    "4123456789123456 : **Valid**<br>\n",
    "5123-4567-8912-3456 : **Valid**<br>\n",
    "61234-$567$-8912-3456 : **Invalid**, because the card number is not divided into equal groups of $4$.<br>\n",
    "4123356789123456 : **Valid**<br>\n",
    "51$33$-$33$67-8912-3456 : **Invalid**, consecutive digits $3333$ is repeating $4$ times.<br>\n",
    "5123456789123456 : **Invalid**, because space '  ' and - are used as separators."
   ]
  },
  {
   "cell_type": "code",
   "execution_count": 1,
   "metadata": {},
   "outputs": [
    {
     "name": "stdout",
     "output_type": "stream",
     "text": [
      "6\n",
      "4123456789123456\n",
      "Valid\n",
      "5123-4567-8912-3456\n",
      "Valid\n",
      "61234-567-8912-3456\n",
      "Invalid\n",
      "4123356789123456\n",
      "Valid\n",
      "5133-3367-8912-3456\n",
      "Invalid\n",
      "5123 - 3567 - 8912 - 3456\n",
      "Invalid\n"
     ]
    }
   ],
   "source": [
    "import re\n",
    "\n",
    "N = int(input())\n",
    "pattern = re.compile(r'^[456](\\d{15}|\\d{3}(-\\d{4}){3})$')\n",
    "\n",
    "for _ in range(N):\n",
    "    credit_card_no = input()\n",
    "    if re.match(pattern,credit_card_no) and not re.search(r'([\\d])\\1\\1\\1',credit_card_no.replace(\"-\",\"\")):\n",
    "            print(\"Valid\")\n",
    "    else:\n",
    "        print(\"Invalid\")"
   ]
  }
 ],
 "metadata": {
  "kernelspec": {
   "display_name": "Python 3",
   "language": "python",
   "name": "python3"
  },
  "language_info": {
   "codemirror_mode": {
    "name": "ipython",
    "version": 3
   },
   "file_extension": ".py",
   "mimetype": "text/x-python",
   "name": "python",
   "nbconvert_exporter": "python",
   "pygments_lexer": "ipython3",
   "version": "3.8.5"
  }
 },
 "nbformat": 4,
 "nbformat_minor": 4
}
