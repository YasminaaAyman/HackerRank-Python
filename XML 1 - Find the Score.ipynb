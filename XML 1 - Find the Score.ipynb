{
 "cells": [
  {
   "cell_type": "markdown",
   "metadata": {},
   "source": [
    "# XML 1 - Find the Score\n",
    "You are given a valid XML document, and you have to print its score. The score is calculated by the sum of the score of each element. For any element, the score is equal to the number of attributes it has.\n",
    "\n",
    "### Input Format\n",
    "\n",
    "The first line contains $N$, the number of lines in the XML document.<br>\n",
    "The next $N$ lines follow containing the XML document.\n",
    "\n",
    "### Output Format\n",
    "\n",
    "Output a single line, the integer score of the given XML document.\n",
    "\n",
    "### Sample Input\n",
    "\n",
    "> `6`<br>\n",
    "`<feed xml:lang='en'>`<br>\n",
    "`    <title>HackerRank</title>`<br>\n",
    "`    <subtitle lang='en'>Programming challenges</subtitle>`<br>\n",
    "`    <link rel='alternate' type='text/html' href='http://hackerrank.com/'/>`<br>\n",
    "`    <updated>2013-12-25T12:00:00</updated>`<br>\n",
    "`</feed>`\n",
    "\n",
    "### Sample Output\n",
    "\n",
    "> `5`\n",
    "\n",
    "### Explanation\n",
    "\n",
    "The feed and subtitle tag have one attribute each - lang.<br>\n",
    "The title and updated tags have no attributes.<br>\n",
    "The link tag has three attributes - rel, type and href.<br>\n",
    "\n",
    "So, the total score is $1+1+3=5$.\n",
    "\n",
    "There may be any level of nesting in the XML document. To learn about XML parsing, refer [here].<br>\n",
    "**NOTE:** In order to parse and generate an XML element tree, use the following code:<br>\n",
    "> `>> import xml.etree.ElementTree as etree`<br>\n",
    "`>> tree = etree.ElementTree(etree.fromstring(xml))`<br>\n",
    "\n",
    "Here, XML is the variable containing the string.<br>\n",
    "Also, to find the number of keys in a dictionary, use the len function:<br>\n",
    "\n",
    "> `>> dicti = {'0': 'This is zero', '1': 'This is one'}`<br>\n",
    "`>> print (len(dicti))`<br><br>\n",
    "`2`"
   ]
  },
  {
   "cell_type": "code",
   "execution_count": null,
   "metadata": {},
   "outputs": [],
   "source": [
    "import sys\n",
    "import xml.etree.ElementTree as etree\n",
    "\n",
    "def get_attr_number(node):\n",
    "    return sum(len(child.attrib) for child in node.iter()) \n",
    "\n",
    "if __name__ == '__main__':\n",
    "    sys.stdin.readline()\n",
    "    xml = sys.stdin.read()\n",
    "    tree = etree.ElementTree(etree.fromstring(xml))\n",
    "    root = tree.getroot()\n",
    "    print(get_attr_number(root))"
   ]
  }
 ],
 "metadata": {
  "kernelspec": {
   "display_name": "Python 3",
   "language": "python",
   "name": "python3"
  },
  "language_info": {
   "codemirror_mode": {
    "name": "ipython",
    "version": 3
   },
   "file_extension": ".py",
   "mimetype": "text/x-python",
   "name": "python",
   "nbconvert_exporter": "python",
   "pygments_lexer": "ipython3",
   "version": "3.8.5"
  }
 },
 "nbformat": 4,
 "nbformat_minor": 4
}
