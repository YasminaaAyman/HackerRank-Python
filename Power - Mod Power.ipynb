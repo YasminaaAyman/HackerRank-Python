{
 "cells": [
  {
   "cell_type": "markdown",
   "metadata": {},
   "source": [
    "# Power - Mod Power\n",
    "So far, we have only heard of Python's powers. Now, we will witness them!<br>\n",
    "\n",
    "Powers or exponents in Python can be calculated using the built-in power function. Call the power function $ a^b $ as shown below:<br>\n",
    "\n",
    "> `>>> pow(a,b)` <br>\n",
    "\n",
    "or\n",
    "\n",
    "> `>>> a**b`<br>\n",
    "\n",
    "It's also possible to calculate $ a^b mod m $.<br>\n",
    "\n",
    "> `>>> pow(a,b,m)`  <br>\n",
    "\n",
    "This is very helpful in computations where you have to print the resultant % mod.\n",
    "\n",
    "**Note:** Here, **a** and **b** can be floats or negatives, but, if a third argument is present, **b** cannot be negative.\n",
    "\n",
    "**Note:** Python has a math module that has its own pow(). It takes two arguments and returns a float. It is uncommon to use math.pow().\n",
    "\n",
    "### Task\n",
    "You are given three integers: **a**, **b**, and **m**. Print two lines.\n",
    "On the first line, print the result of pow(a,b). On the second line, print the result of pow(a,b,m).\n",
    "\n",
    "### Input Format\n",
    "The first line contains **a**, the second line contains **b**, and the third line contains **m**.\n",
    "\n",
    "### Constraints\n",
    "$ 1 ≤ a ≤ 10 $<br>\n",
    "$ 1 ≤ b ≤ 10 $<br>\n",
    "$ 2 ≤ m ≤ 1000 $<br>"
   ]
  },
  {
   "cell_type": "code",
   "execution_count": 1,
   "metadata": {},
   "outputs": [
    {
     "name": "stdout",
     "output_type": "stream",
     "text": [
      "3\n",
      "4\n",
      "5\n",
      "81\n",
      "1\n"
     ]
    }
   ],
   "source": [
    "a = int(input())\n",
    "b = int(input())\n",
    "m = int(input())\n",
    "print(pow(a,b))\n",
    "print(pow(a,b,m))"
   ]
  }
 ],
 "metadata": {
  "kernelspec": {
   "display_name": "Python 3",
   "language": "python",
   "name": "python3"
  },
  "language_info": {
   "codemirror_mode": {
    "name": "ipython",
    "version": 3
   },
   "file_extension": ".py",
   "mimetype": "text/x-python",
   "name": "python",
   "nbconvert_exporter": "python",
   "pygments_lexer": "ipython3",
   "version": "3.8.5"
  }
 },
 "nbformat": 4,
 "nbformat_minor": 4
}
