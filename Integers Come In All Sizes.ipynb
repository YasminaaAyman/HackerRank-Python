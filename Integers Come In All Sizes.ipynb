{
 "cells": [
  {
   "cell_type": "markdown",
   "metadata": {},
   "source": [
    "# Integers Come In All Sizes\n",
    "Integers in Python can be as big as the bytes in your machine's memory. There is no limit in size as there is: $ 2^{31} -1 $ (c++ int) or $ 2^{63} - 1 $ (C++ long long int).<br>\n",
    "\n",
    "As we know, the result of $ a^b $ grows really fast with increasing $b$.<br>\n",
    "\n",
    "Let's do some calculations on very large integers.<br>\n",
    "\n",
    "### Task\n",
    "Read four numbers, **a**, **b**, **c**, and **d**, and print the result of $ a^b + c^d $.\n",
    "\n",
    "### Input Format\n",
    "Integers **a**, **b**, **c**, and **d** are given on four separate lines, respectively.\n",
    "\n",
    "### Constraints\n",
    "$ 1 ≤ a ≤ 1000 $<br>\n",
    "$ 1 ≤ b ≤ 1000 $<br>\n",
    "$ 1 ≤ c ≤ 1000 $<br>\n",
    "$ 1 ≤ d ≤ 1000 $<br>\n",
    "\n",
    "### Output Format\n",
    "Print the result of $ a^b + c^d $ on one line."
   ]
  },
  {
   "cell_type": "code",
   "execution_count": 1,
   "metadata": {},
   "outputs": [
    {
     "name": "stdout",
     "output_type": "stream",
     "text": [
      "9\n",
      "29\n",
      "7\n",
      "27\n",
      "4710194409608608369201743232\n"
     ]
    }
   ],
   "source": [
    "a = int(input())\n",
    "b = int(input())\n",
    "c = int(input())\n",
    "d = int(input())\n",
    "print(pow(a,b) + pow(c,d))"
   ]
  }
 ],
 "metadata": {
  "kernelspec": {
   "display_name": "Python 3",
   "language": "python",
   "name": "python3"
  },
  "language_info": {
   "codemirror_mode": {
    "name": "ipython",
    "version": 3
   },
   "file_extension": ".py",
   "mimetype": "text/x-python",
   "name": "python",
   "nbconvert_exporter": "python",
   "pygments_lexer": "ipython3",
   "version": "3.8.5"
  }
 },
 "nbformat": 4,
 "nbformat_minor": 4
}
