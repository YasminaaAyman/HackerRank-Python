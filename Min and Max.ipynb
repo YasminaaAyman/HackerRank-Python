{
 "cells": [
  {
   "cell_type": "markdown",
   "metadata": {},
   "source": [
    "# Min and Max\n",
    "### [min](https://numpy.org/doc/stable/reference/generated/numpy.ndarray.min.html)\n",
    "\n",
    "The tool min returns the minimum value along a given axis.<br>\n",
    "\n",
    "> `import numpy`<br><br>\n",
    "`my_array = numpy.array([[2, 5],`<br> \n",
    "`                        [3, 7],`<br>\n",
    "`                        [1, 3],`<br>\n",
    "`                        [4, 0]])`<br><br>\n",
    "`print numpy.min(my_array, axis = 0)         #Output : [1 0]`<br>\n",
    "`print numpy.min(my_array, axis = 1)         #Output : [2 3 1 0]`<br>\n",
    "`print numpy.min(my_array, axis = None)      #Output : 0`<br>\n",
    "`print numpy.min(my_array)                   #Output : 0`<br>\n",
    "\n",
    "By default, the axis value is None. Therefore, it finds the minimum over all the dimensions of the input array.\n",
    "\n",
    "### [max](https://numpy.org/doc/stable/reference/generated/numpy.ndarray.max.html)\n",
    "\n",
    "The tool max returns the maximum value along a given axis.<br>\n",
    "\n",
    "> `import numpy`<br><br>\n",
    "`my_array = numpy.array([[2, 5], `<br>\n",
    "`                        [3, 7],`<br>\n",
    "`                        [1, 3],`<br>\n",
    "`                        [4, 0]])`<br><br>\n",
    "`print numpy.max(my_array, axis = 0)         #Output : [4 7]`<br>\n",
    "`print numpy.max(my_array, axis = 1)         #Output : [5 7 3 4]`<br>\n",
    "`print numpy.max(my_array, axis = None)      #Output : 7`<br>\n",
    "`print numpy.max(my_array)                   #Output : 7`<br>\n",
    "\n",
    "By default, the axis value is None. Therefore, it finds the maximum over all the dimensions of the input array.<br>\n",
    "****\n",
    "\n",
    "### Task\n",
    "\n",
    "You are given a 2-D array with dimensions $N$X$M$.<br>\n",
    "Your task is to perform the min function over axis $1$ and then find the max of that.\n",
    "\n",
    "### Input Format\n",
    "\n",
    "The first line of input contains the space separated values of $N$ and $M$.<br>\n",
    "The next $N$ lines contains $M$ space separated integers.\n",
    "\n",
    "### Output Format\n",
    "\n",
    "Compute the min along axis $1$ and then print the max of that result.\n",
    "\n",
    "### Sample Input\n",
    "\n",
    "> `4 2`<br>\n",
    "`2 5`<br>\n",
    "`3 7`<br>\n",
    "`1 3`<br>\n",
    "`4 0`\n",
    "\n",
    "### Sample Output\n",
    "\n",
    "> `3`\n",
    "\n",
    "### Explanation\n",
    "\n",
    "The min along axis $1$ = $[2,3,1,0]$<br>\n",
    "The max of $[2,3,1,0]$ = $3$"
   ]
  },
  {
   "cell_type": "code",
   "execution_count": 1,
   "metadata": {},
   "outputs": [
    {
     "name": "stdout",
     "output_type": "stream",
     "text": [
      "4 2\n",
      "2 5\n",
      "3 7\n",
      "1 3\n",
      "4 0\n",
      "3\n"
     ]
    }
   ],
   "source": [
    "import numpy as np\n",
    "\n",
    "n, m = map(int, input().split())\n",
    "arr = np.array([input().split() for _ in range(n)], int)\n",
    "print(np.max(np.min(arr, axis=1)))"
   ]
  }
 ],
 "metadata": {
  "kernelspec": {
   "display_name": "Python 3",
   "language": "python",
   "name": "python3"
  },
  "language_info": {
   "codemirror_mode": {
    "name": "ipython",
    "version": 3
   },
   "file_extension": ".py",
   "mimetype": "text/x-python",
   "name": "python",
   "nbconvert_exporter": "python",
   "pygments_lexer": "ipython3",
   "version": "3.8.5"
  }
 },
 "nbformat": 4,
 "nbformat_minor": 4
}
