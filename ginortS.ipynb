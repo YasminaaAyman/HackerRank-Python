{
 "cells": [
  {
   "cell_type": "markdown",
   "metadata": {},
   "source": [
    "# ginortS\n",
    "You are given a string $S$.<br>\n",
    "$S$ contains alphanumeric characters only.<br>\n",
    "![image](https://i.imgur.com/u7WkSk7.gif)<br>\n",
    "Your task is to sort the string  in the following manner:<br>\n",
    "* All sorted lowercase letters are ahead of uppercase letters.\n",
    "* All sorted uppercase letters are ahead of digits.\n",
    "* All sorted odd digits are ahead of sorted even digits.\n",
    "\n",
    "### Input Format\n",
    "\n",
    "A single line of input contains the string $S$.\n",
    "\n",
    "### Constraints\n",
    "\n",
    "* $ 0 < len(S) < 1000 $\n",
    "\n",
    "### Output Format\n",
    "\n",
    "Output the sorted string $S$.\n",
    "\n",
    "### Sample Input\n",
    "\n",
    "> `Sorting1234`\n",
    "\n",
    "### Sample Output\n",
    "\n",
    "> `ginortS1324`"
   ]
  },
  {
   "cell_type": "code",
   "execution_count": 1,
   "metadata": {},
   "outputs": [
    {
     "name": "stdout",
     "output_type": "stream",
     "text": [
      "Sorting1234\n",
      "ginortS1324\n"
     ]
    }
   ],
   "source": [
    "string = input()\n",
    "\n",
    "print(*(sorted(string, key=lambda c: (c.isdigit(), c.isdigit() and int(c)%2==0, c.isupper(), c.islower(),c))), sep=\"\")\n"
   ]
  }
 ],
 "metadata": {
  "kernelspec": {
   "display_name": "Python 3",
   "language": "python",
   "name": "python3"
  },
  "language_info": {
   "codemirror_mode": {
    "name": "ipython",
    "version": 3
   },
   "file_extension": ".py",
   "mimetype": "text/x-python",
   "name": "python",
   "nbconvert_exporter": "python",
   "pygments_lexer": "ipython3",
   "version": "3.8.5"
  }
 },
 "nbformat": 4,
 "nbformat_minor": 4
}
