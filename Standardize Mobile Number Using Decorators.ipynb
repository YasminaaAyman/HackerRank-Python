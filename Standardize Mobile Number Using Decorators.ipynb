{
 "cells": [
  {
   "cell_type": "markdown",
   "metadata": {},
   "source": [
    "# Standardize Mobile Number Using Decorators\n",
    "Let's dive into decorators! You are given $N$ mobile numbers. Sort them in ascending order then print them in the standard format shown below:<br>\n",
    "> `+91 xxxxx xxxxx`<br>\n",
    "\n",
    "The given mobile numbers may have $+91$, $91$ or $0$ written before the actual  digit number. Alternatively, there may not be any prefix at all.\n",
    "\n",
    "### Input Format\n",
    "\n",
    "The first line of input contains an integer $N$, the number of mobile phone numbers.<br>\n",
    "$N$ lines follow each containing a mobile number.\n",
    "\n",
    "### Output Format\n",
    "\n",
    "Print $N$ mobile numbers on separate lines in the required format.\n",
    "\n",
    "### Sample Input\n",
    "\n",
    "> `3`<br>\n",
    "`07895462130`<br>\n",
    "`919875641230`<br>\n",
    "`9195969878`\n",
    "\n",
    "### Sample Output\n",
    "\n",
    "> `+91 78954 62130`<br>\n",
    "`+91 91959 69878`<br>\n",
    "`+91 98756 41230`\n",
    "\n",
    "### Concept\n",
    "\n",
    "Like most other programming languages, Python has the concept of closures. Extending these closures gives us decorators, which are an invaluable asset. You can learn about decorators in 12 easy steps [here](http://simeonfranklin.com/blog/2012/jul/1/python-decorators-in-12-steps/).<br>\n",
    "To solve the above question, make a list of the mobile numbers and pass it to a function that sorts the array in ascending order. Make a decorator that standardizes the mobile numbers and apply it to the function."
   ]
  },
  {
   "cell_type": "code",
   "execution_count": 1,
   "metadata": {},
   "outputs": [
    {
     "name": "stdout",
     "output_type": "stream",
     "text": [
      "3\n",
      "07895462130\n",
      "919875641230\n",
      "9195969878\n",
      "+91 78954 62130\n",
      "+91 91959 69878\n",
      "+91 98756 41230\n"
     ]
    }
   ],
   "source": [
    "def wrapper(f):\n",
    "    def fun(l):\n",
    "        # complete the function\n",
    "        f([\"+91 \"+c[-10:-5]+\" \"+c[-5:] for c in l])\n",
    "    return fun\n",
    "\n",
    "@wrapper\n",
    "def sort_phone(l):\n",
    "    print(*sorted(l), sep='\\n')\n",
    "\n",
    "if __name__ == '__main__':\n",
    "    l = [input() for _ in range(int(input()))]\n",
    "    sort_phone(l) \n"
   ]
  }
 ],
 "metadata": {
  "kernelspec": {
   "display_name": "Python 3",
   "language": "python",
   "name": "python3"
  },
  "language_info": {
   "codemirror_mode": {
    "name": "ipython",
    "version": 3
   },
   "file_extension": ".py",
   "mimetype": "text/x-python",
   "name": "python",
   "nbconvert_exporter": "python",
   "pygments_lexer": "ipython3",
   "version": "3.8.5"
  }
 },
 "nbformat": 4,
 "nbformat_minor": 4
}
