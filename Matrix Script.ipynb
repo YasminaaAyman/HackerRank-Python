{
 "cells": [
  {
   "cell_type": "markdown",
   "metadata": {},
   "source": [
    "# Matrix Script\n",
    "Neo has a complex matrix script. The matrix script is a $N$ X $M$ grid of strings. It consists of alphanumeric characters, spaces and symbols (!,@,#,$,%,&).<br>\n",
    "![image](https://s3.amazonaws.com/hr-challenge-images/12524/1442753362-1075bd12d9-Capture.JPG)<br>\n",
    "To decode the script, Neo needs to read each column and select only the alphanumeric characters and connect them. Neo reads the column from top to bottom and starts reading from the leftmost column.<br>\n",
    "If there are symbols or spaces between two alphanumeric characters of the decoded script, then Neo replaces them with a single space '' for better readability.<br>\n",
    "Neo feels that there is no need to use 'if' conditions for decoding.<br>\n",
    "Alphanumeric characters consist of: [A-Z, a-z, and 0-9].<br>\n",
    "\n",
    "### Input Format\n",
    "\n",
    "The first line contains space-separated integers $N$ (rows) and $M$ (columns) respectively.<br>\n",
    "The next $N$ lines contain the row elements of the matrix script.\n",
    "\n",
    "### Constraints\n",
    "$ 0 < N, M<100 $<br>\n",
    "**Note:** A $0$ score will be awarded for using 'if' conditions in your code.\n",
    "\n",
    "### Output Format\n",
    "\n",
    "Print the decoded matrix script.\n",
    "\n",
    "### Sample Input 0\n",
    "\n",
    "> `7 3`<br>\n",
    "`Tsi`<br>\n",
    "`h%x`<br>\n",
    "`i #`<br>\n",
    "`sM `<br>\n",
    "`$a `<br>\n",
    "`#t%`<br>\n",
    "`ir!`\n",
    "\n",
    "### Sample Output 0\n",
    "\n",
    "> `This is Matrix#  %!`\n",
    "\n",
    "### Explanation 0\n",
    "\n",
    "The decoded script is:<br>\n",
    "\n",
    "> `This$#is% Matrix#  %!`<br>\n",
    "\n",
    "Neo replaces the symbols or spaces between two alphanumeric characters with a single space   ' ' for better readability.<br>\n",
    "\n",
    "So, the final decoded script is:<br>\n",
    "\n",
    "> `This is Matrix#  %!`"
   ]
  },
  {
   "cell_type": "code",
   "execution_count": 1,
   "metadata": {},
   "outputs": [
    {
     "name": "stdout",
     "output_type": "stream",
     "text": [
      "7 3\n",
      "Tsi\n",
      "h%x\n",
      "i #\n",
      "sM \n",
      "$a \n",
      "#t%\n",
      "ir!\n",
      "This is Matrix#  %!\n"
     ]
    }
   ],
   "source": [
    "import re\n",
    "\n",
    "n, m = map(int, input().split())\n",
    "matrix = []\n",
    "\n",
    "for _ in range(n):\n",
    "    matrix_item = input()\n",
    "    matrix.append(matrix_item)\n",
    "\n",
    "final_sentence=\"\"\n",
    "for n in zip(*matrix):\n",
    "    final_sentence += \"\".join(n)\n",
    "    \n",
    "print(re.sub(r'(?<=\\w)([^\\w]+)(?=\\w)', \" \", final_sentence))"
   ]
  }
 ],
 "metadata": {
  "kernelspec": {
   "display_name": "Python 3",
   "language": "python",
   "name": "python3"
  },
  "language_info": {
   "codemirror_mode": {
    "name": "ipython",
    "version": 3
   },
   "file_extension": ".py",
   "mimetype": "text/x-python",
   "name": "python",
   "nbconvert_exporter": "python",
   "pygments_lexer": "ipython3",
   "version": "3.8.5"
  }
 },
 "nbformat": 4,
 "nbformat_minor": 4
}
