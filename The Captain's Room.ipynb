{
 "cells": [
  {
   "cell_type": "markdown",
   "metadata": {},
   "source": [
    "# The Captain's Room\n",
    "Mr. Anant Asankhya is the manager at the INFINITE hotel. The hotel has an infinite amount of rooms.<br>\n",
    "\n",
    "One fine day, a finite number of tourists come to stay at the hotel.<br>\n",
    "The tourists consist of:<br>\n",
    "→ A Captain.<br>\n",
    "→ An unknown group of families consisting of **K** members per group where **K** ≠ **1**.<br>\n",
    "\n",
    "The Captain was given a separate room, and the rest were given one room per group.<br>\n",
    "\n",
    "Mr. Anant has an unordered list of randomly arranged room entries. The list consists of the room numbers for all of the tourists. The room numbers will appear **K** times per group except for the Captain's room.<br>\n",
    "\n",
    "Mr. Anant needs you to help him find the Captain's room number.<br>\n",
    "The total number of tourists or the total number of groups of families is not known to you.<br>\n",
    "You only know the value of **K** and the room number list.<br>\n",
    "\n",
    "### Input Format\n",
    "\n",
    "The first line consists of an integer, **K**, the size of each group.<br>\n",
    "The second line contains the unordered elements of the room number list.<br>\n",
    "\n",
    "\n",
    "### Constraints\n",
    "$ 0 < K < 1000 $\n",
    "\n",
    "### Output Format\n",
    "\n",
    "Output the Captain's room number."
   ]
  },
  {
   "cell_type": "code",
   "execution_count": 1,
   "metadata": {},
   "outputs": [
    {
     "name": "stdout",
     "output_type": "stream",
     "text": [
      "5\n",
      "1 2 3 6 5 4 4 2 5 3 6 1 6 5 3 2 4 1 2 5 1 4 3 6 8 4 3 1 5 6 2 \n",
      "8\n"
     ]
    }
   ],
   "source": [
    "if __name__ == \"__main__\":\n",
    "    k = int(input())\n",
    "    rooms_number = input().split()\n",
    "    rooms_number.sort()\n",
    "    captin_room = (set(rooms_number[0::2]).symmetric_difference(set(rooms_number[1::2])))\n",
    "    print(captin_room.pop())"
   ]
  }
 ],
 "metadata": {
  "kernelspec": {
   "display_name": "Python 3",
   "language": "python",
   "name": "python3"
  },
  "language_info": {
   "codemirror_mode": {
    "name": "ipython",
    "version": 3
   },
   "file_extension": ".py",
   "mimetype": "text/x-python",
   "name": "python",
   "nbconvert_exporter": "python",
   "pygments_lexer": "ipython3",
   "version": "3.8.5"
  }
 },
 "nbformat": 4,
 "nbformat_minor": 4
}
