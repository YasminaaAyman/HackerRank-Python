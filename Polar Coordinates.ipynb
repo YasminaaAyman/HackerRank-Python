{
 "cells": [
  {
   "cell_type": "markdown",
   "metadata": {},
   "source": [
    "# Polar Coordinates\n",
    "**Polar coordinates** are an alternative way of representing Cartesian coordinates or Complex Numbers.<br>\n",
    "\n",
    "A complex number **z**<br>\n",
    "$ z = x + yj $ <br>\n",
    "\n",
    "is completely determined by its real part **x** and imaginary part **y**.<br>\n",
    "Here, **j** is the imaginary unit.<br>\n",
    "![image](https://s3.amazonaws.com/hr-challenge-images/9951/1440141121-5b051fd241-Capture.PNG)<br>\n",
    "A polar coordinate **(r,φ)**. <br>\n",
    "\n",
    "is completely determined by modulus **r** and phase angle **φ**.<br>\n",
    "\n",
    "If we convert complex number **z** to its polar coordinate, we find:<br>\n",
    "**r**: Distance from **z** to origin, i.e., $\\sqrt{x^2 + y^2}$<br>\n",
    "**φ**: Counter clockwise angle measured from the positive **x**-axis to the line segment that joins **z** to the origin.<br>\n",
    "\n",
    "Python's cmath module provides access to the mathematical functions for complex numbers.<br>\n",
    "\n",
    "#### cmath.pahse\n",
    "This tool returns the phase of complex number **z** (also known as the argument of **z**).\n",
    "\n",
    "> `>>> phase(complex(-1.0, 0.0))`<br>\n",
    "`3.1415926535897931`<br>\n",
    "\n",
    "#### abs\n",
    "This tool returns the modulus (absolute value) of complex number **z**.\n",
    "\n",
    "> `>>> abs(complex(-1.0, 0.0))`<br>\n",
    "`1.0`<br>\n",
    "\n",
    "### Task\n",
    "You are given a complex **z**. Your task is to convert it to polar coordinates.\n",
    "\n",
    "### Input Format\n",
    "\n",
    "A single line containing the complex number **z**. Note: complex() function can be used in python to convert the input as a complex number.\n",
    "\n",
    "### Constraints\n",
    "\n",
    "Given number is a valid complex number\n",
    "\n",
    "### Output Format\n",
    "\n",
    "Output two lines:<br>\n",
    "The first line should contain the value of **r**.<br>\n",
    "The second line should contain the value of **φ**.<br>"
   ]
  },
  {
   "cell_type": "code",
   "execution_count": 1,
   "metadata": {},
   "outputs": [
    {
     "name": "stdout",
     "output_type": "stream",
     "text": [
      "1+2j\n",
      "2.23606797749979\n",
      "1.1071487177940904\n"
     ]
    }
   ],
   "source": [
    "import cmath\n",
    "z = complex(input())\n",
    "print(*cmath.polar(z),sep=\"\\n\")"
   ]
  }
 ],
 "metadata": {
  "kernelspec": {
   "display_name": "Python 3",
   "language": "python",
   "name": "python3"
  },
  "language_info": {
   "codemirror_mode": {
    "name": "ipython",
    "version": 3
   },
   "file_extension": ".py",
   "mimetype": "text/x-python",
   "name": "python",
   "nbconvert_exporter": "python",
   "pygments_lexer": "ipython3",
   "version": "3.8.5"
  }
 },
 "nbformat": 4,
 "nbformat_minor": 4
}
