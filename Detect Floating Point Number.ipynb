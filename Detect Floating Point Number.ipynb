{
 "cells": [
  {
   "cell_type": "markdown",
   "metadata": {},
   "source": [
    "# Detect Floating Point Number\n",
    "<font size=1px>Check [Tutorial](https://www.hackerrank.com/challenges/introduction-to-regex/tutorial) tab to know how to to solve.</font>\n",
    "\n",
    "You are given a string $N$.\n",
    "Your task is to verify that $N$ is a floating point number.\n",
    "\n",
    "In this task, a valid float number must satisfy all of the following requirements:\n",
    "\n",
    "\\>Number can start with +, - or . symbol.<br>\n",
    "For example:<br>\n",
    "✔+4.50<br>\n",
    "✔-1.0<br>\n",
    "✔.5<br>\n",
    "✔-.7<br>\n",
    "✔+.4<br>\n",
    "✖-+4.5<br>\n",
    "\n",
    "\\>Number must contain at least  decimal value.<br>\n",
    "For example:<br>\n",
    "✖12.<br>\n",
    "✔12.0 <br> \n",
    "\n",
    "\\>Number must have exactly one . symbol.<br>\n",
    "\\>Number must not give any exceptions when converted using $float(N)$.<br>\n",
    "\n",
    "### Input Format\n",
    "\n",
    "The first line contains an integer $T$, the number of test cases.<br>\n",
    "The next $T$ line(s) contains a string $N$.\n",
    "\n",
    "### Constraints\n",
    "\n",
    "* $0 < T < 10$\n",
    "\n",
    "### Output Format\n",
    "\n",
    "Output True or False for each test case.\n",
    "\n",
    "### Sample Input 0\n",
    "\n",
    "> `4`<br>\n",
    "`4.0O0`<br>\n",
    "`-1.00`<br>\n",
    "`+4.54`<br>\n",
    "`SomeRandomStuff`<br>\n",
    "\n",
    "### Sample Output 0\n",
    "\n",
    "> `False`<br>\n",
    "`True`<br>\n",
    "`True`<br>\n",
    "`False`<br>\n",
    "\n",
    "### Explanation 0\n",
    "\n",
    "$ 4.0O0 $: O is not a digit.<br>\n",
    "$ -1.00 $: is valid.<br>\n",
    "$ +4.54 $: is valid.<br>\n",
    "SomeRandomStuff: is not a number.<br>"
   ]
  },
  {
   "cell_type": "code",
   "execution_count": 1,
   "metadata": {},
   "outputs": [
    {
     "name": "stdout",
     "output_type": "stream",
     "text": [
      "4\n",
      "4.0O0\n",
      "False\n",
      "-1.00\n",
      "True\n",
      "+4.54\n",
      "True\n",
      "SomeRandomStuff\n",
      "False\n"
     ]
    }
   ],
   "source": [
    "import re\n",
    "\n",
    "T = int(input())\n",
    "\n",
    "for _ in range(T):\n",
    "    print(bool(re.match(r'^[+-]?[0-9]*\\.[0-9]+$',input())))"
   ]
  }
 ],
 "metadata": {
  "kernelspec": {
   "display_name": "Python 3",
   "language": "python",
   "name": "python3"
  },
  "language_info": {
   "codemirror_mode": {
    "name": "ipython",
    "version": 3
   },
   "file_extension": ".py",
   "mimetype": "text/x-python",
   "name": "python",
   "nbconvert_exporter": "python",
   "pygments_lexer": "ipython3",
   "version": "3.8.5"
  }
 },
 "nbformat": 4,
 "nbformat_minor": 4
}
