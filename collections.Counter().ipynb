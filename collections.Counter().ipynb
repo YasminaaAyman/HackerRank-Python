{
 "cells": [
  {
   "cell_type": "markdown",
   "metadata": {},
   "source": [
    "# collections.Counter()\n",
    "A counter is a container that stores elements as dictionary keys, and their counts are stored as dictionary values.\n",
    "\n",
    "#### Sample Code\n",
    "> `>>> from collections import Counter`<br>\n",
    "`>>>`<br> \n",
    "`>>> myList = [1,1,2,3,4,5,3,2,3,4,2,1,2,3]`<br>\n",
    "`>>> print Counter(myList)`<br>\n",
    "`Counter({2: 4, 3: 4, 1: 3, 4: 2, 5: 1})`<br>\n",
    "`>>>`<br>\n",
    "`>>> print Counter(myList).items()`<br>\n",
    "`[(1, 3), (2, 4), (3, 4), (4, 2), (5, 1)]`<br>\n",
    "`>>>`<br> \n",
    "`>>> print Counter(myList).keys()`<br>\n",
    "`[1, 2, 3, 4, 5]`<br>\n",
    "`>>>`<br> \n",
    "`>>> print Counter(myList).values()`<br>\n",
    "`[3, 4, 4, 2, 1]`<br>\n",
    "\n",
    "### Task\n",
    "\n",
    "$ Raghu $ is a shoe shop owner. His shop has $ X $ number of shoes.\n",
    "He has a list containing the size of each shoe he has in his shop.\n",
    "There are $ N $ number of customers who are willing to pay $ xi $ amount of money only if they get the shoe of their desired size.\n",
    "\n",
    "Your task is to compute how much money $ Raghu $ earned.\n",
    "\n",
    "### Input Format\n",
    "\n",
    "The first line contains $ X $, the number of shoes.\n",
    "The second line contains the space separated list of all the shoe sizes in the shop.\n",
    "The third line contains $ N $, the number of customers.\n",
    "The next $ N $ lines contain the space separated values of the $ shoe size $ desired by the customer and $ xi $, the price of the shoe.\n",
    "\n",
    "### Constraints\n",
    "\n",
    "$ 0 < X < 10^3 $<br>\n",
    "$ 0 < N ≤ 10^3 $<br>\n",
    "$ 20 < xi < 100 $<br>\n",
    "$ 2 < shoe size < 20 $<br>\n",
    "\n",
    "### Output Format\n",
    "\n",
    "Print the amount of money earned by $ Raghu $."
   ]
  },
  {
   "cell_type": "code",
   "execution_count": 1,
   "metadata": {},
   "outputs": [
    {
     "name": "stdout",
     "output_type": "stream",
     "text": [
      "10\n",
      "2 3 4 5 6 8 7 6 5 18\n",
      "6\n",
      "6 55\n",
      "6 45\n",
      "6 55\n",
      "4 40\n",
      "18 60\n",
      "10 50\n",
      "200\n"
     ]
    }
   ],
   "source": [
    "from collections import Counter\n",
    "\n",
    "x = int(input())\n",
    "shoe_sizes = list(map(int, input().split()))\n",
    "customers = int(input())\n",
    "\n",
    "avaliable_shoe = Counter(shoe_sizes)\n",
    "revenue = 0\n",
    "for i in range(customers):\n",
    "    order = list(map(int, input().split()))\n",
    "    if order[0] in avaliable_shoe:\n",
    "        if avaliable_shoe[order[0]] == 0:\n",
    "            continue\n",
    "        else:\n",
    "            avaliable_shoe[order[0]]-=1\n",
    "            revenue += order[1]\n",
    "print(revenue)"
   ]
  }
 ],
 "metadata": {
  "kernelspec": {
   "display_name": "Python 3",
   "language": "python",
   "name": "python3"
  },
  "language_info": {
   "codemirror_mode": {
    "name": "ipython",
    "version": 3
   },
   "file_extension": ".py",
   "mimetype": "text/x-python",
   "name": "python",
   "nbconvert_exporter": "python",
   "pygments_lexer": "ipython3",
   "version": "3.8.5"
  }
 },
 "nbformat": 4,
 "nbformat_minor": 4
}
