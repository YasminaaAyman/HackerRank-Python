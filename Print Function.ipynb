{
 "cells": [
  {
   "cell_type": "markdown",
   "metadata": {},
   "source": [
    "# Print Function\n",
    "The included code stub will read an integer, `n`, from STDIN.\n",
    "\n",
    "Without using any string methods, try to print the following:\n",
    "\n",
    "$ 123....n $\n",
    "\n",
    "Note that \"...\" represents the consecutive values in between.\n",
    "### Example\n",
    "$ n = 5 $\n",
    "Print the string $12345$\n",
    "### Input Format\n",
    "The first line contains an integer `n`.\n",
    "### Constraints\n",
    "$ 1 <= n <= 150 $\n",
    "### Output Format\n",
    "Print the list of integers from `1` through `n` as a string, without spaces."
   ]
  },
  {
   "cell_type": "code",
   "execution_count": 1,
   "metadata": {},
   "outputs": [
    {
     "name": "stdout",
     "output_type": "stream",
     "text": [
      "5\n",
      "12345"
     ]
    }
   ],
   "source": [
    "if __name__ == '__main__':\n",
    "    n = int(input())\n",
    "    for i in range(1,n+1):\n",
    "        print(i, end=\"\")"
   ]
  },
  {
   "cell_type": "code",
   "execution_count": null,
   "metadata": {},
   "outputs": [],
   "source": []
  }
 ],
 "metadata": {
  "kernelspec": {
   "display_name": "Python 3",
   "language": "python",
   "name": "python3"
  },
  "language_info": {
   "codemirror_mode": {
    "name": "ipython",
    "version": 3
   },
   "file_extension": ".py",
   "mimetype": "text/x-python",
   "name": "python",
   "nbconvert_exporter": "python",
   "pygments_lexer": "ipython3",
   "version": "3.8.5"
  }
 },
 "nbformat": 4,
 "nbformat_minor": 4
}
