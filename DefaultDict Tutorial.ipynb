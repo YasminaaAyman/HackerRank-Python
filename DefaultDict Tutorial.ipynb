{
 "cells": [
  {
   "cell_type": "markdown",
   "metadata": {},
   "source": [
    "# DefaultDict Tutorial\n",
    "The defaultdict tool is a container in the collections class of Python. It's similar to the usual dictionary (dict) container, but the only difference is that a defaultdict will have a default value if that key has not been set yet. If you didn't use a defaultdict you'd have to check to see if that key exists, and if it doesn't, set it to what you want.\n",
    "\n",
    "### For example:\n",
    "\n",
    "> `from collections import defaultdict`<br>\n",
    "`d = defaultdict(list)`<br>\n",
    "`d['python'].append(\"awesome\")`<br>\n",
    "`d['something-else'].append(\"not relevant\")`<br>\n",
    "`d['python'].append(\"language\")`<br>\n",
    "`for i in d.items():`<br>\n",
    "    &nbsp;&nbsp;&nbsp;&nbsp;&nbsp;`print i`<br>\n",
    "    \n",
    "This prints:<br>\n",
    "\n",
    "> `('python', ['awesome', 'language'])`<br>\n",
    "`('something-else', ['not relevant'])`<br>\n",
    "\n",
    "In this challenge, you will be given $ 2 $ integers, $ n $ and $ m $. There are $ n $ words, which might repeat, in word group $ A $. There are $ m $ words belonging to word group $ B $. For each $ m $ words, check whether the word has appeared in group $ A $ or not. Print the indices of each occurrence of $ m $ in group $ A $. If it does not appear, print $ -1 $.\n",
    "\n",
    "### Example\n",
    "\n",
    "Group A contains 'a', 'b', 'a' Group B contains 'a', 'c'<br>\n",
    "\n",
    "For the first word in group B, 'a', it appears at positions $ 1 $ and $ 3 $ in group A. The second word, 'c', does not appear in group A, so print $ -1 $.<br>\n",
    "\n",
    "Expected output:<br>\n",
    "> `1 3`<br>\n",
    "`-1`\n",
    "\n",
    "### Input Format\n",
    "\n",
    "The first line contains integers, $ n $ and $ m $ separated by a space.\n",
    "The next $ n $ lines contains the words belonging to group $ A $.\n",
    "The next $ m $ lines contains the words belonging to group $ B $.\n",
    "\n",
    "### Constraints\n",
    "\n",
    "$ 1 ≤ n ≤ 10000 $<br>\n",
    "$ 1 ≤ m ≤ 100 $<br>\n",
    "$ 1 ≤ length of each word in the input ≤ 100 $\n",
    "\n",
    "\n",
    "### Output Format\n",
    "\n",
    "Output $ m $ lines.\n",
    "The $ i^{th} $ line should contain the $ 1 $-indexed positions of the occurrences of the $ i^{th} $ word separated by spaces."
   ]
  },
  {
   "cell_type": "code",
   "execution_count": 1,
   "metadata": {},
   "outputs": [
    {
     "name": "stdout",
     "output_type": "stream",
     "text": [
      "5 2\n",
      "a\n",
      "a\n",
      "b\n",
      "a\n",
      "b\n",
      "a\n",
      "1 2 4\n",
      "b\n",
      "3 5\n"
     ]
    }
   ],
   "source": [
    "from collections import defaultdict\n",
    "\n",
    "d = defaultdict(list)\n",
    "n, m = map(int, input().split())\n",
    "\n",
    "for i in range(1,n+1):\n",
    "    d[input()].append(str(i))\n",
    "    \n",
    "for i in range(m):\n",
    "    print(' '.join(d[input()]) or -1)"
   ]
  }
 ],
 "metadata": {
  "kernelspec": {
   "display_name": "Python 3",
   "language": "python",
   "name": "python3"
  },
  "language_info": {
   "codemirror_mode": {
    "name": "ipython",
    "version": 3
   },
   "file_extension": ".py",
   "mimetype": "text/x-python",
   "name": "python",
   "nbconvert_exporter": "python",
   "pygments_lexer": "ipython3",
   "version": "3.8.5"
  }
 },
 "nbformat": 4,
 "nbformat_minor": 4
}
