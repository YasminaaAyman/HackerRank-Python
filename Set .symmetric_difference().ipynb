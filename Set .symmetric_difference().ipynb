{
 "cells": [
  {
   "cell_type": "markdown",
   "metadata": {},
   "source": [
    "# Set .symmetric_difference()\n",
    "![image](https://s3.amazonaws.com/hr-challenge-images/9421/1437912471-534f33cf60-AB.png)\n",
    "### .symmetric_difference()\n",
    "The .symmetric_difference() operator returns a set with all the elements that are in the set and the iterable but not both.<br>\n",
    "Sometimes, a ^ operator is used in place of the .symmetric_difference() tool, but it only operates on the set of elements in set.<br>\n",
    "The set is immutable to the .symmetric_difference() operation (or ^ operation).<br>\n",
    "\n",
    "> `>>> s = set(\"Hacker\")`<br>\n",
    "`>>> print s.symmetric_difference(\"Rank\")`<br>\n",
    "`set(['c', 'e', 'H', 'n', 'R', 'r'])`<br><br>\n",
    "`>>> print s.symmetric_difference(set(['R', 'a', 'n', 'k']))`<br>\n",
    "`set(['c', 'e', 'H', 'n', 'R', 'r'])`<br><br>\n",
    "`>>> print s.symmetric_difference(['R', 'a', 'n', 'k'])`<br>\n",
    "`set(['c', 'e', 'H', 'n', 'R', 'r'])`<br><br>\n",
    "`>>> print s.symmetric_difference(enumerate(['R', 'a', 'n', 'k']))`<br>\n",
    "`set(['a', 'c', 'e', 'H', (0, 'R'), 'r', (2, 'n'), 'k', (1, 'a'), (3, 'k')])`<br><br>\n",
    "`>>> print s.symmetric_difference({\"Rank\":1})`<br>\n",
    "`set(['a', 'c', 'e', 'H', 'k', 'Rank', 'r'])`<br><br>\n",
    "`>>> s ^ set(\"Rank\")`<br>\n",
    "`set(['c', 'e', 'H', 'n', 'R', 'r'])`<br><br>\n",
    "\n",
    "### Task\n",
    "Students of District College have subscriptions to English and French newspapers. Some students have subscribed to English only, some have subscribed to French only, and some have subscribed to both newspapers.<br>\n",
    "\n",
    "You are given two sets of student roll numbers. One set has subscribed to the English newspaper, and one set has subscribed to the French newspaper. Your task is to find the total number of students who have subscribed to either the English or the French newspaper but not both.<br><br>\n",
    "\n",
    "### Input Format\n",
    "\n",
    "The first line contains the number of students who have subscribed to the English newspaper.<br>\n",
    "The second line contains the space separated list of student roll numbers who have subscribed to the English newspaper.<br>\n",
    "The third line contains the number of students who have subscribed to the French newspaper.<br>\n",
    "The fourth line contains the space separated list of student roll numbers who have subscribed to the French newspaper.<br>\n",
    "\n",
    "### Constraints\n",
    "$ 0 < Total number of students in college < 1000 $\n",
    "\n",
    "### Output Format\n",
    "\n",
    "Output total number of students who have subscriptions to the English or the French newspaper but not both."
   ]
  },
  {
   "cell_type": "code",
   "execution_count": 1,
   "metadata": {},
   "outputs": [
    {
     "name": "stdout",
     "output_type": "stream",
     "text": [
      "9\n",
      "1 2 3 4 5 6 7 8 9\n",
      "9\n",
      "10 1 2 3 11 21 55 6 8\n",
      "8\n"
     ]
    }
   ],
   "source": [
    "if __name__ == '__main__':\n",
    "    n = int(input())\n",
    "    set1 = set(map(int, input().split()))\n",
    "    b = int(input())\n",
    "    set2 = set(map(int, input().split()))\n",
    "    sets_sym_diff = set1.symmetric_difference(set2)\n",
    "    print(len(sets_sym_diff))"
   ]
  }
 ],
 "metadata": {
  "kernelspec": {
   "display_name": "Python 3",
   "language": "python",
   "name": "python3"
  },
  "language_info": {
   "codemirror_mode": {
    "name": "ipython",
    "version": 3
   },
   "file_extension": ".py",
   "mimetype": "text/x-python",
   "name": "python",
   "nbconvert_exporter": "python",
   "pygments_lexer": "ipython3",
   "version": "3.8.5"
  }
 },
 "nbformat": 4,
 "nbformat_minor": 4
}
