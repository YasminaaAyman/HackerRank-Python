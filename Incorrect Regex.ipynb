{
 "cells": [
  {
   "cell_type": "markdown",
   "metadata": {},
   "source": [
    "# Incorrect Regex\n",
    "\n",
    "You are given a string $S$.\n",
    "Your task is to find out whether $S$ is a valid [regex](https://en.wikipedia.org/wiki/Regular_expression) or not.\n",
    "\n",
    "### Input Format\n",
    "\n",
    "The first line contains integer $T$, the number of test cases.<br>\n",
    "The next $T$ lines contains the string $S$.\n",
    "\n",
    "### Constraints\n",
    "\n",
    "0 < T < 100\n",
    "\n",
    "### Output Format\n",
    "\n",
    "Print \"True\" or \"False\" for each test case without quotes.\n",
    "\n",
    "### Sample Input\n",
    "\n",
    "> `2`<br>\n",
    "`.*\\+`<br>\n",
    "`.*+`<br>\n",
    "\n",
    "### Sample Output\n",
    "\n",
    "> `True`<br>\n",
    "`False`<br>\n",
    "\n",
    "### Explanation\n",
    "\n",
    "**.*\\\\+** : Valid regex.<br>\n",
    "**.*+**: Has the error multiple repeat. Hence, it is invalid."
   ]
  },
  {
   "cell_type": "code",
   "execution_count": 1,
   "metadata": {},
   "outputs": [
    {
     "name": "stdout",
     "output_type": "stream",
     "text": [
      "2\n",
      ".*\\+\n",
      "True\n",
      ".*+\n",
      "False\n"
     ]
    }
   ],
   "source": [
    "import re\n",
    "\n",
    "T = int(input())\n",
    "for _ in range(T):\n",
    "    try:\n",
    "        validation = re.compile(input())\n",
    "        print(True)\n",
    "    except re.error:\n",
    "        print(False)"
   ]
  }
 ],
 "metadata": {
  "kernelspec": {
   "display_name": "Python 3",
   "language": "python",
   "name": "python3"
  },
  "language_info": {
   "codemirror_mode": {
    "name": "ipython",
    "version": 3
   },
   "file_extension": ".py",
   "mimetype": "text/x-python",
   "name": "python",
   "nbconvert_exporter": "python",
   "pygments_lexer": "ipython3",
   "version": "3.8.5"
  }
 },
 "nbformat": 4,
 "nbformat_minor": 4
}
