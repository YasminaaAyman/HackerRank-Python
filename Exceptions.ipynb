{
 "cells": [
  {
   "cell_type": "markdown",
   "metadata": {},
   "source": [
    "<a href=\"https://docs.python.org/2/tutorial/errors.html#exceptions\" style=\"font-size:25px\"> Exceptions </a> <br><br>\n",
    "Errors detected during execution are called exceptions.\n",
    "\n",
    "### Examples:\n",
    "\n",
    "__[**ZeroDivisionError**](https://docs.python.org/2/library/exceptions.html#exceptions.ZeroDivisionError)__ <br>\n",
    "\n",
    "This error is raised when the second argument of a division or modulo operation is zero.<br>\n",
    "\n",
    "> `>>> a = '1'`<br>\n",
    "`>>> b = '0'`<br>\n",
    "`>>> print int(a) / int(b)`<br>\n",
    "`>>> ZeroDivisionError: integer division or modulo by zero`<br>\n",
    "\n",
    "__[**ValueError**](https://docs.python.org/2/library/exceptions.html#exceptions.ValueError)__ <br>\n",
    "\n",
    "This error is raised when a built-in operation or function receives an argument that has the right type but an inappropriate value.<br>\n",
    "\n",
    "> `>>> a = '1'`<br>\n",
    "`>>> b = '#'`<br>\n",
    "`>>> print int(a) / int(b)`<br>\n",
    "`>>> ValueError: invalid literal for int() with base 10: '#'`<br>\n",
    "\n",
    "<font size=1px>To learn more about different built-in exceptions [click here](https://docs.python.org/2/library/exceptions.html#module-exceptions).</font>\n",
    "\n",
    "<a href=\"https://docs.python.org/2/tutorial/errors.html#handling-exceptions\" style=\"font-size:25px\"> Handling Exceptions </a> <br><br>\n",
    "The statements try and except can be used to handle selected exceptions. A try statement may have more than one except clause to specify handlers for different exceptions.<br>\n",
    "\n",
    "> `#Code`<br>\n",
    "`try:`<br>\n",
    " `   print 1/0`<br>\n",
    "`except ZeroDivisionError as e:`<br>\n",
    " `   print \"Error Code:\",e`<br>\n",
    "    \n",
    "### Output\n",
    "\n",
    "Error Code: integer division or modulo by zero<br>\n",
    "***\n",
    "\n",
    "### Task\n",
    "\n",
    "You are given two values $a$ and $b$.<br>\n",
    "Perform integer division and print $a/b$.\n",
    "\n",
    "### Input Format\n",
    "\n",
    "The first line contains $T$, the number of test cases.<br>\n",
    "The next $T$ lines each contain the space separated values of $a$ and $b$.\n",
    "\n",
    "### Constraints\n",
    "\n",
    "* $ 0 < T < 10 $\n",
    "\n",
    "### Output Format\n",
    "\n",
    "Print the value of $a/b$.<br>\n",
    "In the case of ZeroDivisionError or ValueError, print the error code.\n",
    "\n",
    "### Sample Input\n",
    "\n",
    "> `3`<br>\n",
    "`1 0`<br>\n",
    "`2 $`<br>\n",
    "`3 1`<br>\n",
    "\n",
    "### Sample Output\n",
    "\n",
    "> `Error Code: integer division or modulo by zero`<br>\n",
    "`Error Code: invalid literal for int() with base 10: '$'`<br>\n",
    "`3`<br>\n",
    "\n",
    "<font size=1px>**Note:**</font> <br>\n",
    "<font size=1px>For integer division in Python 3 use //.</font>"
   ]
  },
  {
   "cell_type": "code",
   "execution_count": 1,
   "metadata": {},
   "outputs": [
    {
     "name": "stdout",
     "output_type": "stream",
     "text": [
      "3\n",
      "1 0\n",
      "Error Code: integer division or modulo by zero\n",
      "2 $\n",
      "Error Code: invalid literal for int() with base 10: '$'\n",
      "3 1\n",
      "3\n"
     ]
    }
   ],
   "source": [
    "T = int(input())\n",
    "\n",
    "for _ in range(T):\n",
    "    try:\n",
    "        a,b = map(int, input().split())\n",
    "        print(a//b)\n",
    "    except Exception as e:\n",
    "        print(\"Error Code:\",e)"
   ]
  }
 ],
 "metadata": {
  "kernelspec": {
   "display_name": "Python 3",
   "language": "python",
   "name": "python3"
  },
  "language_info": {
   "codemirror_mode": {
    "name": "ipython",
    "version": 3
   },
   "file_extension": ".py",
   "mimetype": "text/x-python",
   "name": "python",
   "nbconvert_exporter": "python",
   "pygments_lexer": "ipython3",
   "version": "3.8.5"
  }
 },
 "nbformat": 4,
 "nbformat_minor": 4
}
