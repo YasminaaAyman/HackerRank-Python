{
 "cells": [
  {
   "cell_type": "markdown",
   "metadata": {},
   "source": [
    "# Symmetric Difference\n",
    "### Objective\n",
    "Today, we're learning about a new data type: sets.\n",
    "### Concept\n",
    "If the inputs are given on one line separated by a character (the delimiter), use split() to get the separate values in the form of a list. The delimiter is space (ascii 32) by default. To specify that comma is the delimiter, use string.split(','). For this challenge, and in general on HackerRank, space will be the delimiter.<br>\n",
    "Usage:<br>\n",
    "> `>> a = raw_input()`<br>\n",
    "`5 4 3 2`<br>\n",
    "`>> lis = a.split()`<br>\n",
    "`>> print (lis)`<br>\n",
    "`['5', '4', '3', '2']`<br>\n",
    "\n",
    "If the list values are all integer types, use the map() method to convert all the strings to integers.<br>\n",
    "> `>> newlis = list(map(int, lis))`<br>\n",
    "`>> print (newlis)`<br<\n",
    "`[5, 4, 3, 2]`<br>\n",
    "\n",
    "Sets are an unordered collection of unique values. A single set contains values of any immutable data type.\n",
    "### CREATING SETS\n",
    "> `>> myset = {1, 2} # Directly assigning values to a set`<br>\n",
    "`>> myset = set()  # Initializing a set`<br>\n",
    "`>> myset = set(['a', 'b']) # Creating a set from a list`<br>\n",
    "`>> myset`<br>\n",
    "`{'a', 'b'}`<br>\n",
    "\n",
    "### MODIFYING SETS\n",
    "Using the add() function:<br>\n",
    "\n",
    "> `>> myset.add('c')`<br>\n",
    "`>> myset`<br>\n",
    "`{'a', 'c', 'b'}`<br>\n",
    "`>> myset.add('a') # As 'a' already exists in the set, nothing happens`<br>\n",
    "`>> myset.add((5, 4))`<br>\n",
    "`>> myset`<br>\n",
    "`{'a', 'c', 'b', (5, 4)}`<br>\n",
    "\n",
    "Using the update() function:\n",
    "\n",
    "> `>> myset.update([1, 2, 3, 4]) # update() only works for iterable objects`<br>\n",
    "`>> myset`<br>\n",
    "`{'a', 1, 'c', 'b', 4, 2, (5, 4), 3}`<br>\n",
    "`>> myset.update({1, 7, 8})`<br>\n",
    "`>> myset`<br>\n",
    "`{'a', 1, 'c', 'b', 4, 7, 8, 2, (5, 4), 3}`<br>\n",
    "`>> myset.update({1, 6}, [5, 13])`<br>\n",
    "`>> myset`<br>\n",
    "`{'a', 1, 'c', 'b', 4, 5, 6, 7, 8, 2, (5, 4), 13, 3}`<br>\n",
    "\n",
    "### REMOVING ITEMS\n",
    "\n",
    "Both the discard() and remove() functions take a single value as an argument and removes that value from the set. If that value is not present, discard() does nothing, but remove() will raise a KeyError exception.<br>\n",
    "\n",
    "> `>> myset.discard(10)`<br>\n",
    "`>> myset`<br>\n",
    "`{'a', 1, 'c', 'b', 4, 5, 7, 8, 2, 12, (5, 4), 13, 11, 3}`<br>\n",
    "`>> myset.remove(13)`<br>\n",
    "`>> myset`<br>\n",
    "`{'a', 1, 'c', 'b', 4, 5, 7, 8, 2, 12, (5, 4), 11, 3}`<br>\n",
    "\n",
    "### COMMON SET OPERATIONS \n",
    "Using union(), intersection() and difference() functions.<br>\n",
    "\n",
    "> `>> a = {2, 4, 5, 9}`<br>\n",
    "`>> b = {2, 4, 11, 12}`<br>\n",
    "`>> a.union(b) # Values which exist in a or b`<br>\n",
    "`{2, 4, 5, 9, 11, 12}`<br>\n",
    "`>> a.intersection(b) # Values which exist in a and b`<br>\n",
    "`{2, 4}`<br>\n",
    "`>> a.difference(b) # Values which exist in a but not in b`<br>\n",
    "`{9, 5}`<br>\n",
    "\n",
    "The union() and intersection() functions are symmetric methods:<br>\n",
    "\n",
    "> `>> a.union(b) == b.union(a)`<br>\n",
    "`True`<br>\n",
    "`>> a.intersection(b) == b.intersection(a)`<br>\n",
    "`True`<br>\n",
    "`>> a.difference(b) == b.difference(a)`<br>\n",
    "`False`<br>\n",
    "\n",
    "### Task\n",
    "Given **2** sets of integers, **M** and **N**, print their symmetric difference in ascending order. The term symmetric difference indicates those values that exist in either **M** or **N** but do not exist in both.\n",
    "\n",
    "### Input Format\n",
    "\n",
    "The first line of input contains an integer, **M**.\n",
    "The second line contains **M** space-separated integers.\n",
    "The third line contains an integer, **N**.\n",
    "The fourth line contains **N** space-separated integers.\n",
    "\n",
    "### Output Format\n",
    "\n",
    "Output the symmetric difference integers in ascending order, one per line."
   ]
  },
  {
   "cell_type": "markdown",
   "metadata": {},
   "source": [
    "## 1- with symmetric_difference method"
   ]
  },
  {
   "cell_type": "code",
   "execution_count": 1,
   "metadata": {},
   "outputs": [
    {
     "name": "stdout",
     "output_type": "stream",
     "text": [
      "2\n",
      "8 -10\n",
      "3\n",
      "5 6 7\n",
      "-10\n",
      "5\n",
      "6\n",
      "7\n",
      "8\n"
     ]
    }
   ],
   "source": [
    "if __name__ == '__main__':\n",
    "    m = int(input())\n",
    "    set1 = set(map(int,input().split()))\n",
    "    n = int(input())\n",
    "    set2 = set(map(int,input().split()))\n",
    "    sym_diff = set1.symmetric_difference(set2)\n",
    "    for i in sorted(sym_diff):\n",
    "        print(i)\n",
    "        "
   ]
  },
  {
   "cell_type": "markdown",
   "metadata": {},
   "source": [
    "## 2- with difference method"
   ]
  },
  {
   "cell_type": "code",
   "execution_count": 1,
   "metadata": {},
   "outputs": [
    {
     "name": "stdout",
     "output_type": "stream",
     "text": [
      "2\n",
      "8 -10\n",
      "3\n",
      "5 6 7\n",
      "-10\n",
      "5\n",
      "6\n",
      "7\n",
      "8\n"
     ]
    }
   ],
   "source": [
    "if __name__ == '__main__':\n",
    "    m = int(input())\n",
    "    set1 = set(map(int,input().split()))\n",
    "    n = int(input())\n",
    "    set2 = set(map(int,input().split()))\n",
    "    diff1 = set1.difference(set2)\n",
    "    diff2 = set2.difference(set1)\n",
    "    diff1.update(diff2)\n",
    "    for i in sorted(diff1):\n",
    "        print(i)"
   ]
  }
 ],
 "metadata": {
  "kernelspec": {
   "display_name": "Python 3",
   "language": "python",
   "name": "python3"
  },
  "language_info": {
   "codemirror_mode": {
    "name": "ipython",
    "version": 3
   },
   "file_extension": ".py",
   "mimetype": "text/x-python",
   "name": "python",
   "nbconvert_exporter": "python",
   "pygments_lexer": "ipython3",
   "version": "3.8.5"
  }
 },
 "nbformat": 4,
 "nbformat_minor": 4
}
