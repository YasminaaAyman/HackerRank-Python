{
 "cells": [
  {
   "cell_type": "markdown",
   "metadata": {},
   "source": [
    "# Triangle Quest\n",
    "You are given a positive integer $ N $. Print a numerical triangle of height $ N - 1 $ like the one below:<br>\n",
    "`1\n",
    "22\n",
    "333\n",
    "4444\n",
    "55555\n",
    "......`<br>\n",
    "\n",
    "Can you do it using only **arithmetic operations, a single for loop and print statement?**<br>\n",
    "\n",
    "Use no more than two lines. The first line (the for statement) is already written for you. You have to complete the print statement.<br>\n",
    "\n",
    "**Note:** Using anything related to strings will give a score of **0**.<br>\n",
    "\n",
    "### Input Format\n",
    "A single line containing integer, $ N $.\n",
    "\n",
    "### Constraints\n",
    "$ 1 ⩽ N ⩽ 9 $\n",
    "\n",
    "### Output Format\n",
    "Print $ N - 1 $ lines as explained above."
   ]
  },
  {
   "cell_type": "code",
   "execution_count": 1,
   "metadata": {},
   "outputs": [
    {
     "name": "stdout",
     "output_type": "stream",
     "text": [
      "5\n",
      "1\n",
      "22\n",
      "333\n",
      "4444\n"
     ]
    }
   ],
   "source": [
    "for i in range(1,int(input())): \n",
    "    print((10**(i)//9)*i)"
   ]
  }
 ],
 "metadata": {
  "kernelspec": {
   "display_name": "Python 3",
   "language": "python",
   "name": "python3"
  },
  "language_info": {
   "codemirror_mode": {
    "name": "ipython",
    "version": 3
   },
   "file_extension": ".py",
   "mimetype": "text/x-python",
   "name": "python",
   "nbconvert_exporter": "python",
   "pygments_lexer": "ipython3",
   "version": "3.8.5"
  }
 },
 "nbformat": 4,
 "nbformat_minor": 4
}
