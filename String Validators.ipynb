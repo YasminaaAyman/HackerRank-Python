{
 "cells": [
  {
   "cell_type": "markdown",
   "metadata": {},
   "source": [
    "# String Validators\n",
    "Python has built-in string validation methods for basic data. It can check if a string is composed of alphabetical characters, alphanumeric characters, digits, etc.<br>\n",
    "**str.isalnum()**<br>\n",
    "This method checks if all the characters of a string are alphanumeric (a-z, A-Z and 0-9).<br>\n",
    "> `>>> print 'ab123'.isalnum()`<br>\n",
    "`True`<br>\n",
    "`>>> print 'ab123#'.isalnum()`<br>\n",
    "`False`<br>\n",
    "\n",
    "**str.isalpha()**<br>\n",
    "This method checks if all the characters of a string are alphabetical (a-z and A-Z).<br>\n",
    "> `>>> print 'abcD'.isalpha()`<br>\n",
    "`True`<br>\n",
    "`>>> print 'abcd1'.isalpha()`<br>\n",
    "`False`<br>\n",
    "\n",
    "**str.isdigit()**<br>\n",
    "This method checks if all the characters of a string are digits (0-9).<br>\n",
    "> `>>> print '1234'.isdigit()`<br>\n",
    "`True`<br>\n",
    "`>>> print '123edsd'.isdigit()`<br>\n",
    "`False`<br>\n",
    "\n",
    "**str.islower()**<br>\n",
    "This method checks if all the characters of a string are lowercase characters (a-z).<br>\n",
    "> `>>> print 'abcd123#'.islower()`<br>\n",
    "`True`<br>\n",
    "`>>> print 'Abcd123#'.islower()`<br>\n",
    "`False`<br>\n",
    "\n",
    "**str.isupper()**<br>\n",
    "This method checks if all the characters of a string are uppercase characters (A-Z).<br>\n",
    "> `>>> print 'ABCD123#'.isupper()`<br>\n",
    "`True`<br>\n",
    "`>>> print 'Abcd123#'.isupper()`<br>\n",
    "`False`<br>\n",
    "### Task\n",
    "You are given a string $S$.<br>\n",
    "Your task is to find out if the string $S$ contains: alphanumeric characters, alphabetical characters, digits, lowercase and uppercase characters.\n",
    "### Input Format\n",
    "A single line containing a string $S$.\n",
    "### Constraints\n",
    "$ 0 < len(S) < 1000 $\n",
    "### Output Format\n",
    "In the first line, print True if $S$ has any alphanumeric characters. Otherwise, print False.<br>\n",
    "In the second line, print True if $S$ has any alphabetical characters. Otherwise, print False.<br>\n",
    "In the third line, print True if $S$ has any digits. Otherwise, print False.<br>\n",
    "In the fourth line, print True if $S$ has any lowercase characters. Otherwise, print False.<br>\n",
    "In the fifth line, print True if $S$ has any uppercase characters. Otherwise, print False.<br>\n",
    "***"
   ]
  },
  {
   "cell_type": "code",
   "execution_count": 6,
   "metadata": {},
   "outputs": [
    {
     "name": "stdout",
     "output_type": "stream",
     "text": [
      "qA2\n",
      "True\n",
      "True\n",
      "True\n",
      "True\n",
      "True\n"
     ]
    }
   ],
   "source": [
    "if __name__ == '__main__':\n",
    "    s = input()\n",
    "    print(any(c.isalnum() for c in s))\n",
    "    print(any(c.isalpha() for c in s))\n",
    "    print(any(c.isdigit() for c in s))\n",
    "    print(any(c.islower() for c in s))\n",
    "    print(any(c.isupper() for c in s))"
   ]
  }
 ],
 "metadata": {
  "kernelspec": {
   "display_name": "Python 3",
   "language": "python",
   "name": "python3"
  },
  "language_info": {
   "codemirror_mode": {
    "name": "ipython",
    "version": 3
   },
   "file_extension": ".py",
   "mimetype": "text/x-python",
   "name": "python",
   "nbconvert_exporter": "python",
   "pygments_lexer": "ipython3",
   "version": "3.8.5"
  }
 },
 "nbformat": 4,
 "nbformat_minor": 4
}
