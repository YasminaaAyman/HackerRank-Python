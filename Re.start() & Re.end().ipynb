{
 "cells": [
  {
   "cell_type": "markdown",
   "metadata": {},
   "source": [
    "# Re.start() & Re.end()\n",
    "<font size=5px>[start() & end()](https://docs.python.org/2/library/re.html#re.MatchObject.start)</font><br><br>\n",
    "These expressions return the indices of the start and end of the substring matched by the group.<br>\n",
    "<font size=2px>**Code**</font><br>\n",
    "> `>>> import re`<br>\n",
    "`>>> m = re.search(r'\\d+','1234')`<br>\n",
    "`>>> m.end()`<br>\n",
    "`4`<br>\n",
    "`>>> m.start()`<br>\n",
    "`0`<br>\n",
    "***\n",
    "\n",
    "### Task\n",
    "You are given a string $S$.<br>\n",
    "Your task is to find the indices of the start and end of string $K$ in $S$.\n",
    "\n",
    "### Input Format\n",
    "\n",
    "The first line contains the string $S$.<br>\n",
    "The second line contains the string $K$.\n",
    "\n",
    "### Constraints\n",
    "\n",
    "$ 0 < len(S) < 100 $<br>\n",
    "$ 0 < len(K) < len(S) $\n",
    "\n",
    "### Output Format\n",
    "\n",
    "Print the tuple in this format: (start _index, end _index).<br>\n",
    "If no match is found, print (-1, -1).\n",
    "\n",
    "### Sample Input\n",
    "\n",
    "> `aaadaa`<br>\n",
    "`aa`\n",
    "\n",
    "### Sample Output\n",
    "\n",
    "> `(0, 1)`<br>  \n",
    "`(1, 2)`<br>\n",
    "`(4, 5)`"
   ]
  },
  {
   "cell_type": "code",
   "execution_count": 1,
   "metadata": {},
   "outputs": [
    {
     "name": "stdout",
     "output_type": "stream",
     "text": [
      "aaadaa\n",
      "aa\n",
      "(0, 1)\n",
      "(1, 2)\n",
      "(4, 5)\n"
     ]
    }
   ],
   "source": [
    "import re\n",
    "\n",
    "S = input()\n",
    "K = input()\n",
    "pattern = re.compile(f'(?={K})')\n",
    "matches = re.finditer(pattern, S)\n",
    "\n",
    "if not re.search(pattern,S):\n",
    "    print((-1, -1))\n",
    "else:\n",
    "    for match in matches:\n",
    "        print((match.start(),match.end()+len(K)-1))\n"
   ]
  }
 ],
 "metadata": {
  "kernelspec": {
   "display_name": "Python 3",
   "language": "python",
   "name": "python3"
  },
  "language_info": {
   "codemirror_mode": {
    "name": "ipython",
    "version": 3
   },
   "file_extension": ".py",
   "mimetype": "text/x-python",
   "name": "python",
   "nbconvert_exporter": "python",
   "pygments_lexer": "ipython3",
   "version": "3.8.5"
  }
 },
 "nbformat": 4,
 "nbformat_minor": 4
}
