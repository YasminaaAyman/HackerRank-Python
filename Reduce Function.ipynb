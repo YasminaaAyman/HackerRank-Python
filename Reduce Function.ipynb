{
 "cells": [
  {
   "cell_type": "markdown",
   "metadata": {},
   "source": [
    "# Reduce Function\n",
    "Given a list of rational numbers,find their product.\n",
    "\n",
    "## Concept\n",
    "The reduce() function applies a function of two arguments cumulatively on a list of objects in succession from left to right to reduce it to one value. Say you have a list, say [1,2,3] and you have to find its sum.<br>\n",
    "\n",
    "> `>>> reduce(lambda x, y : x + y,[1,2,3])`<br>\n",
    "`6`<br>\n",
    "\n",
    "You can also define an initial value. If it is specified, the function will assume initial value as the value given, and then reduce. It is equivalent to adding the initial value at the beginning of the list. For example:<br>\n",
    "\n",
    "> `>>> reduce(lambda x, y : x + y, [1,2,3], -3)`<br>\n",
    "`3`<br><br>\n",
    "`>>> from fractions import gcd`<br>\n",
    "`>>> reduce(gcd, [2,4,8], 3)`<br>\n",
    "`1`<br>\n",
    "\n",
    "### Input Format\n",
    "\n",
    "First line contains $n$, the number of rational numbers.\n",
    "The $i^{th}$ of next $n$ lines contain two integers each, the numerator( $N_{i}$ ) and denominator( $D_{i}$ ) of the $i^{th}$ rational number in the list.\n",
    "\n",
    "### Constraints\n",
    "\n",
    "* $ 1 ≤ n ≤ 100 $\n",
    "* $ 1 ≤ N_{i},D_{i} ≤ 10^9 $ \n",
    "\n",
    "### Output Format\n",
    "\n",
    "Print only one line containing the numerator and denominator of the product of the numbers in the list in its simplest form, i.e. numerator and denominator have no common divisor other than $1$.\n",
    "\n",
    "### Sample Input 0\n",
    "\n",
    "> `3`<br>\n",
    "`1 2`<br>\n",
    "`3 4`<br>\n",
    "`10 6`<br>\n",
    "\n",
    "### Sample Output 0\n",
    "\n",
    "> `5 8`\n",
    "\n",
    "### Explanation 0\n",
    "\n",
    "Required product is $\\frac{1}{2}\\frac{3}{4}\\frac{10}{6} = \\frac{5}{8}$"
   ]
  },
  {
   "cell_type": "code",
   "execution_count": 1,
   "metadata": {},
   "outputs": [
    {
     "name": "stdout",
     "output_type": "stream",
     "text": [
      "3\n",
      "1 2\n",
      "3 4\n",
      "10 6\n",
      "5 8\n"
     ]
    }
   ],
   "source": [
    "from fractions import Fraction\n",
    "from functools import reduce\n",
    "\n",
    "def product(fracs):\n",
    "    t = reduce(lambda x,y: x*y,fracs)\n",
    "    return t.numerator, t.denominator\n",
    "\n",
    "if __name__ == '__main__':\n",
    "    fracs = []\n",
    "    for _ in range(int(input())):\n",
    "        fracs.append(Fraction(*map(int, input().split())))\n",
    "    result = product(fracs)\n",
    "    print(*result)"
   ]
  }
 ],
 "metadata": {
  "kernelspec": {
   "display_name": "Python 3",
   "language": "python",
   "name": "python3"
  },
  "language_info": {
   "codemirror_mode": {
    "name": "ipython",
    "version": 3
   },
   "file_extension": ".py",
   "mimetype": "text/x-python",
   "name": "python",
   "nbconvert_exporter": "python",
   "pygments_lexer": "ipython3",
   "version": "3.8.5"
  }
 },
 "nbformat": 4,
 "nbformat_minor": 4
}
