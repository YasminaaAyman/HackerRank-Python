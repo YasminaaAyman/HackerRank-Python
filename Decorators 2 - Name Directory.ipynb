{
 "cells": [
  {
   "cell_type": "markdown",
   "metadata": {},
   "source": [
    "# Decorators 2 - Name Directory\n",
    "Let's use decorators to build a name directory! You are given some information about $N$ people. Each person has a first name, last name, age and sex. Print their names in a specific format sorted by their age in ascending order i.e. the youngest person's name should be printed first. For two people of the same age, print them in the order of their input.<br>\n",
    "For Henry Davids, the output should be:<br>\n",
    "\n",
    "> `Mr. Henry Davids`<br>\n",
    "\n",
    "For Mary George, the output should be:<br>\n",
    "\n",
    "> `Ms. Mary George`<br>\n",
    "\n",
    "### Input Format\n",
    "\n",
    "The first line contains the integer $N$, the number of people.\n",
    "$N$ lines follow each containing the space separated values of the first name, last name, age and sex, respectively.\n",
    "\n",
    "### Constraints\n",
    "\n",
    "$1 ≤ N ≤ 10$\n",
    "\n",
    "### Output Format\n",
    "\n",
    "Output $N$ names on separate lines in the format described above in ascending order of age.\n",
    "\n",
    "### Sample Input\n",
    "\n",
    "> `3`<br>\n",
    "`Mike Thomson 20 M`<br>\n",
    "`Robert Bustle 32 M`<br>\n",
    "`Andria Bustle 30 F`\n",
    "\n",
    "### Sample Output\n",
    "\n",
    "> `Mr. Mike Thomson`<br>\n",
    "`Ms. Andria Bustle`<br>\n",
    "`Mr. Robert Bustle`\n",
    "\n",
    "### Concept\n",
    "\n",
    "For sorting a nested list based on some parameter, you can use the itemgetter library. You can read more about it [here](https://stackoverflow.com/questions/409370/sorting-and-grouping-nested-lists-in-python?answertab=votes#tab-top).\n"
   ]
  },
  {
   "cell_type": "code",
   "execution_count": 1,
   "metadata": {},
   "outputs": [
    {
     "name": "stdout",
     "output_type": "stream",
     "text": [
      "3\n",
      "Mike Thomson 20 M\n",
      "Robert Bustle 32 M\n",
      "Andria Bustle 30 F\n",
      "Mr. Mike Thomson\n",
      "Ms. Andria Bustle\n",
      "Mr. Robert Bustle\n"
     ]
    }
   ],
   "source": [
    "import operator\n",
    "\n",
    "def person_lister(f):\n",
    "    def inner(people):\n",
    "        return map(f, sorted(people, key=lambda x: int(x[2])))\n",
    "    return inner\n",
    "\n",
    "@person_lister\n",
    "def name_format(person):\n",
    "    return (\"Mr. \" if person[3] == \"M\" else \"Ms. \") + person[0] + \" \" + person[1]\n",
    "\n",
    "if __name__ == '__main__':\n",
    "    people = [input().split() for i in range(int(input()))]\n",
    "    print(*name_format(people), sep='\\n')"
   ]
  }
 ],
 "metadata": {
  "kernelspec": {
   "display_name": "Python 3",
   "language": "python",
   "name": "python3"
  },
  "language_info": {
   "codemirror_mode": {
    "name": "ipython",
    "version": 3
   },
   "file_extension": ".py",
   "mimetype": "text/x-python",
   "name": "python",
   "nbconvert_exporter": "python",
   "pygments_lexer": "ipython3",
   "version": "3.8.5"
  }
 },
 "nbformat": 4,
 "nbformat_minor": 4
}
