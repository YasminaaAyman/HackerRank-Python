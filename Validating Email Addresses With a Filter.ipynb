{
 "cells": [
  {
   "cell_type": "markdown",
   "metadata": {},
   "source": [
    "# Validating Email Addresses With a Filter\n",
    "You are given an integer $N$ followed by $N$ email addresses. Your task is to print a list containing only valid email addresses in lexicographical order.<br>\n",
    "\n",
    "\n",
    "Valid email addresses must follow these rules:<br>\n",
    "\n",
    "* It must have the username@websitename.extension format type.\n",
    "* The username can only contain letters, digits, dashes and underscores $[a-z], [A-Z], [0-9], [_-]$.\n",
    "* The website name can only have letters and digits $[a-z], [A-Z], [0-9]$.\n",
    "* The extension can only contain letters $[a-z], [A-Z]$.\n",
    "* The maximum length of the extension is $3$.\n",
    "\n",
    "### Concept\n",
    "\n",
    "A filter takes a function returning True or False and applies it to a sequence, returning a list of only those members of the sequence where the function returned True. A Lambda function can be used with filters.<br>\n",
    "\n",
    "Let's say you have to make a list of the squares of integers from $0$ to $9$ (both included).<br>\n",
    "\n",
    "> `>> l = list(range(10))`\n",
    "`>> l = list(map(lambda x:x*x, l))`\n",
    "\n",
    "Now, you only require those elements that are greater than $10$ but less than $80$.\n",
    "\n",
    "> `>> l = list(filter(lambda x: x > 10 and x < 80, l))`<br>\n",
    "\n",
    "Easy, isn't it?\n",
    "\n",
    "### Example\n",
    "\n",
    "Complete the function fun in the editor below.<br>\n",
    "\n",
    "fun has the following paramters:<br>\n",
    "\n",
    "* string s: the string to test\n",
    "\n",
    "### Returns\n",
    "\n",
    "* boolean: whether the string is a valid email or not\n",
    "\n",
    "### Input Format\n",
    "\n",
    "The first line of input is the integer $N$, the number of email addresses.<br>\n",
    "$N$ lines follow, each containing a string.\n",
    "\n",
    "### Constraints\n",
    "\n",
    "Each line is a non-empty string.\n",
    "\n",
    "### Sample Input\n",
    "\n",
    "> `3`<br>\n",
    "`lara@hackerrank.com`<br>\n",
    "`brian-23@hackerrank.com`<br>\n",
    "`britts_54@hackerrank.com`<br>\n",
    "\n",
    "### Sample Output\n",
    "\n",
    "> `['brian-23@hackerrank.com', 'britts_54@hackerrank.com', 'lara@hackerrank.com']`<br>"
   ]
  },
  {
   "cell_type": "code",
   "execution_count": 1,
   "metadata": {},
   "outputs": [
    {
     "name": "stdout",
     "output_type": "stream",
     "text": [
      "3\n",
      "lara@hackerrank.com\n",
      "brian-23@hackerrank.com\n",
      "britts_54@hackerrank.com\n",
      "['brian-23@hackerrank.com', 'britts_54@hackerrank.com', 'lara@hackerrank.com']\n"
     ]
    }
   ],
   "source": [
    "import re\n",
    "\n",
    "def fun(s):\n",
    "    pattern = re.compile(\"^[\\\\w-]+@[0-9a-zA-Z]+\\\\.[a-z]{1,3}$\")\n",
    "    return pattern.match(s)\n",
    "    \n",
    "\n",
    "def filter_mail(emails):\n",
    "    return list(filter(fun, emails))\n",
    "\n",
    "if __name__ == '__main__':\n",
    "    n = int(input())\n",
    "    emails = []\n",
    "    for _ in range(n):\n",
    "        emails.append(input())\n",
    "\n",
    "filtered_emails = filter_mail(emails)\n",
    "filtered_emails.sort()\n",
    "print(filtered_emails)"
   ]
  }
 ],
 "metadata": {
  "kernelspec": {
   "display_name": "Python 3",
   "language": "python",
   "name": "python3"
  },
  "language_info": {
   "codemirror_mode": {
    "name": "ipython",
    "version": 3
   },
   "file_extension": ".py",
   "mimetype": "text/x-python",
   "name": "python",
   "nbconvert_exporter": "python",
   "pygments_lexer": "ipython3",
   "version": "3.8.5"
  }
 },
 "nbformat": 4,
 "nbformat_minor": 4
}
