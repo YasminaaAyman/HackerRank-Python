{
 "cells": [
  {
   "cell_type": "markdown",
   "metadata": {},
   "source": [
    "# Polynomials\n",
    "### [poly](https://numpy.org/doc/stable/reference/generated/numpy.poly.html)\n",
    "\n",
    "The poly tool returns the coefficients of a polynomial with the given sequence of roots.<br>\n",
    "\n",
    "> `print numpy.poly([-1, 1, 1, 10])        #Output : [  1 -11   9  11 -10]`<br>\n",
    "***\n",
    "\n",
    "### [roots](https://numpy.org/doc/stable/reference/generated/numpy.roots.html)\n",
    "\n",
    "The roots tool returns the roots of a polynomial with the given coefficients.<br>\n",
    "\n",
    "> `print numpy.roots([1, 0, -1])           #Output : [-1.  1.]`\n",
    "***\n",
    "\n",
    "### [polyint](https://numpy.org/doc/stable/reference/generated/numpy.polyint.html)\n",
    "\n",
    "The polyint tool returns an antiderivative (indefinite integral) of a polynomial.<br>\n",
    "\n",
    "> `print numpy.polyint([1, 1, 1])          #Output : [ 0.33333333  0.5         1.          0.        ]`<br>\n",
    "***\n",
    "\n",
    "### [polyder](https://numpy.org/doc/stable/reference/generated/numpy.polyder.html#numpy.polyder)\n",
    "\n",
    "The polyder tool returns the derivative of the specified order of a polynomial.<br>\n",
    "\n",
    "> `print numpy.polyder([1, 1, 1, 1])       #Output : [3 2 1]`<br>\n",
    "***\n",
    "\n",
    "### [polyval](https://numpy.org/doc/stable/reference/generated/numpy.polyval.html#numpy.polyval)\n",
    "\n",
    "The polyval tool evaluates the polynomial at specific value.<br>\n",
    "\n",
    "> `print numpy.polyval([1, -2, 0, 2], 4)   #Output : 34`<br>\n",
    "****\n",
    "\n",
    "### [polyfit](https://numpy.org/doc/stable/reference/generated/numpy.polyfit.html)\n",
    "\n",
    "The polyfit tool fits a polynomial of a specified order to a set of data using a least-squares approach.<br>\n",
    "\n",
    "> `print numpy.polyfit([0,1,-1, 2, -2], [0,1,1, 4, 4], 2)`<br>\n",
    "`#Output : [  1.00000000e+00   0.00000000e+00  -3.97205465e-16]`<br>\n",
    "\n",
    "The functions [polyadd](https://numpy.org/doc/stable/reference/generated/numpy.polyadd.html#numpy.polyadd), [polysub](https://numpy.org/doc/stable/reference/generated/numpy.polysub.html#numpy.polysub), [polymul](https://numpy.org/doc/stable/reference/generated/numpy.polymul.html), and [polydiv](https://numpy.org/doc/stable/reference/generated/numpy.polydiv.html#numpy.polydiv) also handle proper addition, subtraction, multiplication, and division of polynomial coefficients, respectively.<br>\n",
    "****\n",
    "\n",
    "### Task\n",
    "\n",
    "You are given the coefficients of a polynomial $P$.<br>\n",
    "Your task is to find the value of $P$ at point $x$.\n",
    "\n",
    "### Input Format\n",
    "\n",
    "The first line contains the space separated value of the coefficients in $P$.<br>\n",
    "The second line contains the value of $x$.\n",
    "\n",
    "### Output Format\n",
    "\n",
    "Print the desired value.\n",
    "\n",
    "### Sample Input\n",
    "\n",
    "> `1.1 2 3`<br>\n",
    "`0`\n",
    "\n",
    "### Sample Output\n",
    "\n",
    "> `3.0`"
   ]
  },
  {
   "cell_type": "code",
   "execution_count": 1,
   "metadata": {},
   "outputs": [
    {
     "name": "stdout",
     "output_type": "stream",
     "text": [
      "1.1 2 3\n",
      "0\n",
      "3.0\n"
     ]
    }
   ],
   "source": [
    "import numpy as np\n",
    "\n",
    "coff = np.array(input().split(), float)\n",
    "x = int(input())\n",
    "\n",
    "print(np.polyval(coff, x))"
   ]
  }
 ],
 "metadata": {
  "kernelspec": {
   "display_name": "Python 3",
   "language": "python",
   "name": "python3"
  },
  "language_info": {
   "codemirror_mode": {
    "name": "ipython",
    "version": 3
   },
   "file_extension": ".py",
   "mimetype": "text/x-python",
   "name": "python",
   "nbconvert_exporter": "python",
   "pygments_lexer": "ipython3",
   "version": "3.8.5"
  }
 },
 "nbformat": 4,
 "nbformat_minor": 4
}
