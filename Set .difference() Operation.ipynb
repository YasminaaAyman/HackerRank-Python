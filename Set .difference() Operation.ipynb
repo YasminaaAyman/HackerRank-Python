{
 "cells": [
  {
   "cell_type": "markdown",
   "metadata": {},
   "source": [
    "# Set .difference() Operation\n",
    "![image](https://s3.amazonaws.com/hr-challenge-images/9420/1437904659-11e4bef847-A-B.png)\n",
    "### .difference()\n",
    "The tool .difference() returns a set with all the elements from the set that are not in an iterable.<br>\n",
    "Sometimes the - operator is used in place of the .difference() tool, but it only operates on the set of elements in set.<br>\n",
    "Set is immutable to the .difference() operation (or the - operation).<br>\n",
    "\n",
    "> `>>> s = set(\"Hacker\")`<br>\n",
    "`>>> print s.difference(\"Rank\")`<br>\n",
    "`set(['c', 'r', 'e', 'H'])`<br><br>\n",
    "`>>> print s.difference(set(['R', 'a', 'n', 'k']))`<br>\n",
    "`set(['c', 'r', 'e', 'H'])`<br><br>\n",
    "`>>> print s.difference(['R', 'a', 'n', 'k'])`<br>\n",
    "`set(['c', 'r', 'e', 'H'])`<br><br>\n",
    "`>>> print s.difference(enumerate(['R', 'a', 'n', 'k']))`<br>\n",
    "`set(['a', 'c', 'r', 'e', 'H', 'k'])`<br><br>\n",
    "`>>> print s.difference({\"Rank\":1})`<br>\n",
    "`set(['a', 'c', 'e', 'H', 'k', 'r'])`<br><br>\n",
    "`>>> s - set(\"Rank\")`<br>\n",
    "`set(['H', 'c', 'r', 'e'])`<br><br>\n",
    "\n",
    "### Task\n",
    "Students of District College have a subscription to English and French newspapers. Some students have subscribed to only the English newspaper, some have subscribed to only the French newspaper, and some have subscribed to both newspapers.<br>\n",
    "\n",
    "You are given two sets of student roll numbers. One set has subscribed to the English newspaper, and one set has subscribed to the French newspaper. Your task is to find the total number of students who have subscribed to only English newspapers.<br>\n",
    "\n",
    "### Input Format\n",
    "\n",
    "The first line contains the number of students who have subscribed to the English newspaper.<br>\n",
    "The second line contains the space separated list of student roll numbers who have subscribed to the English newspaper.<br>\n",
    "The third line contains the number of students who have subscribed to the French newspaper.<br>\n",
    "The fourth line contains the space separated list of student roll numbers who have subscribed to the French newspaper.<br>\n",
    "\n",
    "### Constraints\n",
    "$ 0 < Total number of students in college < 1000 $\n",
    "\n",
    "### Output Format\n",
    "\n",
    "Output the total number of students who are subscribed to the English newspaper only."
   ]
  },
  {
   "cell_type": "code",
   "execution_count": 1,
   "metadata": {},
   "outputs": [
    {
     "name": "stdout",
     "output_type": "stream",
     "text": [
      "9\n",
      "1 2 3 4 5 6 7 8 9\n",
      "9\n",
      "10 1 2 3 11 21 55 6 8\n",
      "4\n"
     ]
    }
   ],
   "source": [
    "if __name__ == '__main__':\n",
    "    n = int(input())\n",
    "    set1 = set(map(int, input().split()))\n",
    "    b = int(input())\n",
    "    set2 = set(map(int, input().split()))\n",
    "    sets_diff = set1.difference(set2)\n",
    "    print(len(sets_diff))"
   ]
  }
 ],
 "metadata": {
  "kernelspec": {
   "display_name": "Python 3",
   "language": "python",
   "name": "python3"
  },
  "language_info": {
   "codemirror_mode": {
    "name": "ipython",
    "version": 3
   },
   "file_extension": ".py",
   "mimetype": "text/x-python",
   "name": "python",
   "nbconvert_exporter": "python",
   "pygments_lexer": "ipython3",
   "version": "3.8.5"
  }
 },
 "nbformat": 4,
 "nbformat_minor": 4
}
