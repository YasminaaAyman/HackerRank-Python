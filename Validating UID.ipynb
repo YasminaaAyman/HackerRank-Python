{
 "cells": [
  {
   "cell_type": "markdown",
   "metadata": {},
   "source": [
    "# Validating UID\n",
    "ABCXYZ company has up to $1000$ employees.<br>\n",
    "The company decides to create a unique identification number (UID) for each of its employees.<br>\n",
    "The company has assigned you the task of validating all the randomly generated UIDs.<br>\n",
    "\n",
    "A valid UID must follow the rules below:<br>\n",
    "\n",
    "* It must contain at least $2$ uppercase English alphabet characters.\n",
    "* It must contain at least $3$ digits ( $0-9$ ).\n",
    "* It should only contain alphanumeric characters ( $a-z$ ,  $A-Z$  &  $0-9$ ).\n",
    "* No character should repeat.\n",
    "* There must be exactly $10$ characters in a valid UID.\n",
    "\n",
    "### Input Format\n",
    "\n",
    "The first line contains an integer $T$, the number of test cases.<br>\n",
    "The next $T$ lines contains an employee's UID.\n",
    "\n",
    "### Output Format\n",
    "\n",
    "For each test case, print 'Valid' if the UID is valid. Otherwise, print 'Invalid', on separate lines. Do not print the quotation marks.\n",
    "\n",
    "### Sample Input\n",
    "\n",
    "> `2`<br>\n",
    "`B1CD102354`<br>\n",
    "`B1CDEF2354`\n",
    "\n",
    "### Sample Output\n",
    "\n",
    "> `Invalid`<br>\n",
    "`Valid`\n",
    "\n",
    "### Explanation\n",
    "\n",
    "**B1CD102354:** $1$ is repeating → Invalid <br>\n",
    "**B1CDEF2354:** Valid"
   ]
  },
  {
   "cell_type": "code",
   "execution_count": 1,
   "metadata": {},
   "outputs": [
    {
     "name": "stdout",
     "output_type": "stream",
     "text": [
      "2\n",
      "B1CD102354\n",
      "Invalid\n",
      "B1CDEF2354\n",
      "Valid\n"
     ]
    }
   ],
   "source": [
    "import re\n",
    "\n",
    "T = int(input())\n",
    "for _ in range(T):\n",
    "    try:\n",
    "        uid = ''.join(sorted(input()))\n",
    "        assert re.search(r'[A-Z]{2,}',uid)\n",
    "        assert re.search(r'[0-9]{3,}',uid)\n",
    "        assert re.search(r'[a-zA-Z0-9]',uid)\n",
    "        assert not re.search(r'(.)\\1',uid)\n",
    "        assert len(uid) == 10\n",
    "    except:\n",
    "        print(\"Invalid\")\n",
    "    else:\n",
    "        print(\"Valid\")"
   ]
  }
 ],
 "metadata": {
  "kernelspec": {
   "display_name": "Python 3",
   "language": "python",
   "name": "python3"
  },
  "language_info": {
   "codemirror_mode": {
    "name": "ipython",
    "version": 3
   },
   "file_extension": ".py",
   "mimetype": "text/x-python",
   "name": "python",
   "nbconvert_exporter": "python",
   "pygments_lexer": "ipython3",
   "version": "3.8.5"
  }
 },
 "nbformat": 4,
 "nbformat_minor": 4
}
