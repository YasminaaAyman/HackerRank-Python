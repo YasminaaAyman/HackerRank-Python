{
 "cells": [
  {
   "cell_type": "markdown",
   "metadata": {},
   "source": [
    "# Validating Postal Codes\n",
    "A valid postal code $P$ have to fullfil both below requirements:<br>\n",
    "\n",
    "1. $P$ must be a number in the range from $100000$ to $999999$ inclusive.\n",
    "2. $P$ must not contain more than one alternating repetitive digit pair.\n",
    "Alternating repetitive digits are digits which repeat immediately after the next digit. In other words, an alternating repetitive digit pair is formed by two equal digits that have just a single digit between them.<br>\n",
    "For example:<br>\n",
    "> `121426 # Here, 1 is an alternating repetitive digit.`<br>\n",
    "`523563 # Here, NO digit is an alternating repetitive digit.`<br>\n",
    "`552523 # Here, both 2 and 5 are alternating repetitive digits.`<br>\n",
    "\n",
    "Your task is to provide two regular expressions regex_integer_in_range and regex_alternating_repetitive_digit_pair. Where:<br>\n",
    "regex_integer_in_range should match only integers range from $100000$ to $999999$ inclusive<br>\n",
    "regex_alternating_repetitive_digit_pair should find alternating repetitive digits pairs in a given string.<br>\n",
    "Both these regular expressions will be used by the provided code template to check if the input string $P$ is a valid postal code using the following expression:<br>\n",
    "> `(bool(re.match(regex_integer_in_range, P))`<br>\n",
    "`and len(re.findall(regex_alternating_repetitive_digit_pair, P)) < 2)`\n",
    "\n",
    "### Input Format\n",
    "\n",
    "Locked stub code in the editor reads a single string denoting $P$ from stdin and uses provided expression and your regular expressions to validate if $P$ is a valid postal code.\n",
    "\n",
    "### Output Format\n",
    "\n",
    "You are not responsible for printing anything to stdout. Locked stub code in the editor does that.\n",
    "\n",
    "### Sample Input 0\n",
    "\n",
    "> `110000`\n",
    "\n",
    "### Sample Output 0\n",
    "\n",
    "> `False`\n",
    "\n",
    "#### Explanation 0\n",
    "\n",
    "1 1 0**0**0**0** : (0, 0) and (**0**, **0**) are two alternating digit pairs. Hence, it is an invalid postal code.<br>\n",
    "\n",
    "**Note:**<br>\n",
    "A score of $0$ will be awarded for using 'if' conditions in your code.<br>\n",
    "You have to pass all the testcases to get a positive score."
   ]
  },
  {
   "cell_type": "code",
   "execution_count": 1,
   "metadata": {},
   "outputs": [
    {
     "name": "stdout",
     "output_type": "stream",
     "text": [
      "110000\n",
      "False\n"
     ]
    }
   ],
   "source": [
    "regex_integer_in_range = r\"^[1-9]\\d{5}$\"\t\n",
    "regex_alternating_repetitive_digit_pair = r\"(\\d)(?=\\d\\1)\"\t\n",
    "\n",
    "\n",
    "import re\n",
    "P = input()\n",
    "\n",
    "print (bool(re.match(regex_integer_in_range, P)) \n",
    "and len(re.findall(regex_alternating_repetitive_digit_pair, P)) < 2)"
   ]
  }
 ],
 "metadata": {
  "kernelspec": {
   "display_name": "Python 3",
   "language": "python",
   "name": "python3"
  },
  "language_info": {
   "codemirror_mode": {
    "name": "ipython",
    "version": 3
   },
   "file_extension": ".py",
   "mimetype": "text/x-python",
   "name": "python",
   "nbconvert_exporter": "python",
   "pygments_lexer": "ipython3",
   "version": "3.8.5"
  }
 },
 "nbformat": 4,
 "nbformat_minor": 4
}
