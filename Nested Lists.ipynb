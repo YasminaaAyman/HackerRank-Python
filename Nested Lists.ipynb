{
 "cells": [
  {
   "cell_type": "markdown",
   "metadata": {},
   "source": [
    "# Nested Lists\n",
    "Given the names and grades for each student in a class of $N$ students, store them in a nested list and print the name(s) of any student(s) having the second lowest grade.<br>\n",
    "**Note:** If there are multiple students with the second lowest grade, order their names alphabetically and print each name on a new line.\n",
    "### Example\n",
    "$records = [[\"chi\",20.0],[\"beta\",50.0],[\"alpha\",50.0]]$<br>\n",
    "The ordered list of scores is $[20.0,50.0]$, so the second lowest score is $50.0$. There are two students with that score: $[\"alpha\", \"beta\"]$. Ordered alphabetically, the names are printed as:<br>\n",
    "`alpha`<br>\n",
    "`beta`\n",
    "\n",
    "### Input Formt\n",
    "The first line contains an integer, $N$, the number of students.<br>\n",
    "The $2N$ subsequent lines describe each student over $2$ lines.\n",
    "- The first line contains a student's name.\n",
    "- The second line contains their grade.\n",
    "\n",
    "### Constraints\n",
    "* $2 <= N <= 5$\n",
    "* There will always be one or more students having the second lowest grade.\n",
    "\n",
    "### Outpuit Format\n",
    "Print the name(s) of any student(s) having the second lowest grade in. If there are multiple students, order their names alphabetically and print each one on a new line."
   ]
  },
  {
   "cell_type": "code",
   "execution_count": 2,
   "metadata": {},
   "outputs": [
    {
     "name": "stdout",
     "output_type": "stream",
     "text": [
      "5\n",
      "Harry\n",
      "37.21\n",
      "Berry\n",
      "37.21\n",
      "Tina\n",
      "37.2\n",
      "Akriti\n",
      "41\n",
      "Harsh \n",
      "39\n",
      "Berry\n",
      "Harry\n"
     ]
    }
   ],
   "source": [
    "if __name__ == '__main__':\n",
    "    marksheet=[]\n",
    "    for _ in range(int(input())):\n",
    "        name = input()\n",
    "        score = float(input())\n",
    "        marksheet.append([name, score])\n",
    "    second_highest = sorted(list(set([marks for name, marks in marksheet])))[1]\n",
    "    print('\\n'.join([a for a,b in sorted(marksheet) if b == second_highest]))\n"
   ]
  }
 ],
 "metadata": {
  "kernelspec": {
   "display_name": "Python 3",
   "language": "python",
   "name": "python3"
  },
  "language_info": {
   "codemirror_mode": {
    "name": "ipython",
    "version": 3
   },
   "file_extension": ".py",
   "mimetype": "text/x-python",
   "name": "python",
   "nbconvert_exporter": "python",
   "pygments_lexer": "ipython3",
   "version": "3.8.5"
  }
 },
 "nbformat": 4,
 "nbformat_minor": 4
}
