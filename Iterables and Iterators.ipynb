{
 "cells": [
  {
   "cell_type": "markdown",
   "metadata": {},
   "source": [
    "# Iterables and Iterators\n",
    "The itertools module standardizes a core set of fast, memory efficient tools that are useful by themselves or in combination. Together, they form an iterator algebra making it possible to construct specialized tools succinctly and efficiently in pure Python.\n",
    "\n",
    "To read more about the functions in this module, check out their <a href=\"https://docs.python.org/2/library/itertools.html\">documentation here</a>.\n",
    "\n",
    "You are given a list of $N$ lowercase English letters. For a given integer $K$, you can select any $K$ indices (assume $1$-based indexing) with a uniform probability from the list.\n",
    "\n",
    "Find the probability that at least one of the $K$ indices selected will contain the letter: '$a$'.\n",
    "\n",
    "### Input Format\n",
    "\n",
    "The input consists of three lines. The first line contains the integer $N$, denoting the length of the list. The next line consists of $N$ space-separated lowercase English letters, denoting the elements of the list.\n",
    "\n",
    "The third and the last line of input contains the integer $K$, denoting the number of indices to be selected.\n",
    "\n",
    "### Output Format\n",
    "\n",
    "Output a single line consisting of the probability that at least one of the $K$ indices selected contains the letter:''.\n",
    "\n",
    "**Note:** The answer must be correct up to 3 decimal places.\n",
    "\n",
    "### Constraints\n",
    "\n",
    "$ 1 ≤ N ≤ 10 $<br>\n",
    "$ 1 ≤ K ≤ N $<br>\n",
    "\n",
    "All the letters in the list are lowercase English letters.\n",
    "\n",
    "### Sample Input\n",
    "\n",
    "> `4 `<br>\n",
    "`a a c d`<br>\n",
    "`2`<br>\n",
    "\n",
    "### Sample Output\n",
    "\n",
    "> `0.8333`<br>\n",
    "\n",
    "### Explanation\n",
    "\n",
    "All possible unordered tuples of length $2$ comprising of indices from $1$ to $4$ are:\n",
    "$ (1,2), (1,3), (1,4), (2,3), (2,4), (3,4) $\n",
    "\n",
    "Out of these $6$ combinations, $5$ of them contain either index $1$ or index $2$ which are the indices that contain the letter '$a$'.\n",
    "\n",
    "Hence, the answer is $\\frac{5}{6}$."
   ]
  },
  {
   "cell_type": "code",
   "execution_count": 1,
   "metadata": {},
   "outputs": [
    {
     "name": "stdout",
     "output_type": "stream",
     "text": [
      "4\n",
      "a a c d\n",
      "2\n",
      "0.8333\n"
     ]
    }
   ],
   "source": [
    "from itertools import combinations\n",
    "\n",
    "N = int(input())\n",
    "letters = input().split()\n",
    "K = int(input())\n",
    "\n",
    "possible_combinations = list(combinations(letters,K))\n",
    "\n",
    "letters_filtered = list(filter(lambda i: 'a' in i ,possible_combinations))\n",
    "\n",
    "print(round(len(letters_filtered)/len(possible_combinations),ndigits=4))\n"
   ]
  }
 ],
 "metadata": {
  "kernelspec": {
   "display_name": "Python 3",
   "language": "python",
   "name": "python3"
  },
  "language_info": {
   "codemirror_mode": {
    "name": "ipython",
    "version": 3
   },
   "file_extension": ".py",
   "mimetype": "text/x-python",
   "name": "python",
   "nbconvert_exporter": "python",
   "pygments_lexer": "ipython3",
   "version": "3.8.5"
  }
 },
 "nbformat": 4,
 "nbformat_minor": 4
}
