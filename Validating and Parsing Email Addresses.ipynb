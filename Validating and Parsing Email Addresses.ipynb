{
 "cells": [
  {
   "cell_type": "markdown",
   "metadata": {},
   "source": [
    "# Validating and Parsing Email Addresses\n",
    "A valid email address meets the following criteria:<br>\n",
    "\n",
    "* It's composed of a username, domain name, and extension assembled in this format: username@domain.extension\n",
    "* The username starts with an English alphabetical character, and any subsequent characters consist of one or more of the following: [alphanumeric characters](https://en.wikipedia.org/wiki/Alphanumeric), -,., and _.\n",
    "* The domain and extension contain only [English alphabetical characters](https://en.wikipedia.org/wiki/English_alphabet).\n",
    "* The extension is $1$, $2$, or $3$ characters in length.\n",
    "\n",
    "Given $n$ pairs of names and email addresses as input, print each name and email address pair having a valid email address on a new line.\n",
    "\n",
    "**Hint:** Try using [Email.utils()](https://docs.python.org/2/library/email.util.html#module-email.utils) to complete this challenge. For example, this code:<br>\n",
    "> `import email.utils`<br>\n",
    "`print email.utils.parseaddr('DOSHI <DOSHI@hackerrank.com>')`<br>\n",
    "`print email.utils.formataddr(('DOSHI', 'DOSHI@hackerrank.com'))`\n",
    "\n",
    "produces this output:<br>\n",
    "\n",
    "> `('DOSHI', 'DOSHI@hackerrank.com')`<br>\n",
    "`DOSHI <DOSHI@hackerrank.com>`\n",
    "\n",
    "### Input Format\n",
    "\n",
    "The first line contains a single integer, $n$, denoting the number of email address.\n",
    "Each line $i$ of the $n$ subsequent lines contains a name and an email address as two space-separated values following this format:<br>\n",
    "\n",
    "> `name <user@email.com>`\n",
    "\n",
    "### Constraints\n",
    "\n",
    "* $ 0 < n < 100 $\n",
    "\n",
    "### Output Format\n",
    "\n",
    "Print the space-separated name and email address pairs containing valid email addresses only. Each pair must be printed on a new line in the following format:<br>\n",
    "\n",
    "> `name <user@email.com>`<br>\n",
    "\n",
    "You must print each valid email address in the same order as it was received as input.\n",
    "\n",
    "### Sample Input\n",
    "\n",
    "> `2`<br>\n",
    "`DEXTER <dexter@hotmail.com>`<br>\n",
    "`VIRUS <virus!@variable.:p>`\n",
    "\n",
    "### Sample Output\n",
    "\n",
    "> `DEXTER <dexter@hotmail.com>`\n",
    "\n",
    "### Explanation\n",
    "\n",
    "dexter@hotmail.com is a valid email address, so we print the name and email address pair received as input on a new line.\n",
    "virus!@variable.:p is not a valid email address because the username contains an exclamation point (!) and the extension contains a colon (:). As this email is not valid, we print nothing."
   ]
  },
  {
   "cell_type": "code",
   "execution_count": 1,
   "metadata": {},
   "outputs": [
    {
     "name": "stdout",
     "output_type": "stream",
     "text": [
      "2\n",
      "DEXTER <dexter@hotmail.com>\n",
      "DEXTER <dexter@hotmail.com>\n",
      "VIRUS <virus!@variable.:p>\n"
     ]
    }
   ],
   "source": [
    "import email.utils\n",
    "import re\n",
    "\n",
    "\n",
    "pattern = re.compile(r\"^[a-zA-Z][\\w\\-.]*@[a-zA-Z]+\\.[a-zA-Z]{1,3}$\")\n",
    "for _ in range(int(input())):\n",
    "    u_name, u_email = email.utils.parseaddr(input())\n",
    "    if pattern.match(u_email):\n",
    "      print(email.utils.formataddr((u_name, u_email)))"
   ]
  }
 ],
 "metadata": {
  "kernelspec": {
   "display_name": "Python 3",
   "language": "python",
   "name": "python3"
  },
  "language_info": {
   "codemirror_mode": {
    "name": "ipython",
    "version": 3
   },
   "file_extension": ".py",
   "mimetype": "text/x-python",
   "name": "python",
   "nbconvert_exporter": "python",
   "pygments_lexer": "ipython3",
   "version": "3.8.5"
  }
 },
 "nbformat": 4,
 "nbformat_minor": 4
}
