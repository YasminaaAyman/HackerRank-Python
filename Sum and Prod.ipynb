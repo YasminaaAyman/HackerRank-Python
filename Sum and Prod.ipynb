{
 "cells": [
  {
   "cell_type": "markdown",
   "metadata": {},
   "source": [
    "# Sum and Prod\n",
    "### [sum](https://numpy.org/doc/stable/reference/generated/numpy.sum.html)\n",
    "\n",
    "The sum tool returns the sum of array elements over a given axis.<br>\n",
    "\n",
    "> `import numpy`<br><br>\n",
    "`my_array = numpy.array([ [1, 2], [3, 4] ])`<br><br>\n",
    "`print numpy.sum(my_array, axis = 0)         #Output : [4 6]`<br>\n",
    "`print numpy.sum(my_array, axis = 1)         #Output : [3 7]`<br>\n",
    "`print numpy.sum(my_array, axis = None)      #Output : 10`<br>\n",
    "`print numpy.sum(my_array)                   #Output : 10`<br>\n",
    "\n",
    "By default, the axis value is None. Therefore, it performs a sum over all the dimensions of the input array.\n",
    "\n",
    "### [prod](https://numpy.org/doc/stable/reference/generated/numpy.prod.html)\n",
    "\n",
    "The prod tool returns the product of array elements over a given axis.<br>\n",
    "\n",
    "> `import numpy`<br><br>\n",
    "`my_array = numpy.array([ [1, 2], [3, 4] ])`<br><br>\n",
    "`print numpy.prod(my_array, axis = 0)            #Output : [3 8]`<br>\n",
    "`print numpy.prod(my_array, axis = 1)            #Output : [ 2 12]`<br>\n",
    "`print numpy.prod(my_array, axis = None)         #Output : 24`<br>\n",
    "`print numpy.prod(my_array)                      #Output : 24`<br>\n",
    "\n",
    "By default, the axis value is None. Therefore, it performs the product over all the dimensions of the input array.<br>\n",
    "****\n",
    "\n",
    "### Task\n",
    "\n",
    "You are given a 2-D array with dimensions $N$X$M$.<br>\n",
    "Your task is to perform the $sum$ tool over axis $0$ and then find the $product$ of that result.\n",
    "\n",
    "### Input Format\n",
    "\n",
    "The first line of input contains space separated values of $N$ and $M$.<br>\n",
    "The next $N$ lines contains $M$ space separated integers.\n",
    "\n",
    "### Output Format\n",
    "\n",
    "Compute the sum along axis $0$. Then, print the product of that sum.\n",
    "\n",
    "### Sample Input\n",
    "\n",
    "> `2 2`<br>\n",
    "`1 2`<br>\n",
    "`3 4`\n",
    "\n",
    "### Sample Output\n",
    "\n",
    "> `24`\n",
    "\n",
    "### Explanation\n",
    "\n",
    "The sum along axis $0$ = [$4$ $6$]<br>\n",
    "The product of this sum = $24$"
   ]
  },
  {
   "cell_type": "code",
   "execution_count": 2,
   "metadata": {},
   "outputs": [
    {
     "name": "stdout",
     "output_type": "stream",
     "text": [
      "2 2\n",
      "1 2\n",
      "3 4\n",
      "24\n"
     ]
    }
   ],
   "source": [
    "import numpy as np\n",
    "\n",
    "n, m = map(int, input().split())\n",
    "arr = np.array([input().split() for _ in range(n)],int)\n",
    "print(np.prod(np.sum(arr, axis=0)))"
   ]
  }
 ],
 "metadata": {
  "kernelspec": {
   "display_name": "Python 3",
   "language": "python",
   "name": "python3"
  },
  "language_info": {
   "codemirror_mode": {
    "name": "ipython",
    "version": 3
   },
   "file_extension": ".py",
   "mimetype": "text/x-python",
   "name": "python",
   "nbconvert_exporter": "python",
   "pygments_lexer": "ipython3",
   "version": "3.8.5"
  }
 },
 "nbformat": 4,
 "nbformat_minor": 4
}
