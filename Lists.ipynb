{
 "cells": [
  {
   "cell_type": "markdown",
   "metadata": {},
   "source": [
    "# Lists\n",
    "Consider a list (list = []). You can perform the following commands:\n",
    "\n",
    "1. insert i e: Insert integer $e$ at position $i$.\n",
    "2. print: Print the list.\n",
    "3. remove e: Delete the first occurrence of integer $e$.\n",
    "4. append e: Insert integer $e$ at the end of the list.\n",
    "5. sort: Sort the list.\n",
    "6. pop: Pop the last element from the list.\n",
    "7. reverse: Reverse the list. <br>\n",
    "\n",
    "Initialize your list and read in the value of $n$ followed by $n$ lines of commands where each command will be of the $7$ types listed above. Iterate through each command in order and perform the corresponding operation on your list.\n",
    "### Example\n",
    "$N = 4$<br>\n",
    "$append 1$<br>\n",
    "$append 2$<br>\n",
    "$insert 3 1$<br>\n",
    "$print$<br>\n",
    "* **append 1:** Append $1$ to the list, $arr=[1]$. \n",
    "* **append 2:** Append $2$ to the list, $arr=[1,2]$\n",
    "* **insert 3 1:** Insert $3$ at index $1$, $arr=[1,3,2]$  \n",
    "* **print:** Print the array.\n",
    "\n",
    "**output**<br>\n",
    "`[1,2,3]`\n",
    "### Input Format \n",
    "The first line contains an integer, $n$, denoting the number of commands.\n",
    "Each line $i$ of the $n$ subsequent lines contains one of the commands described above.\n",
    "### Constraints\n",
    "The elements added to the list must be integers.\n",
    "### Output Format\n",
    "For each command of type print, print the list on a new line."
   ]
  },
  {
   "cell_type": "code",
   "execution_count": 1,
   "metadata": {},
   "outputs": [
    {
     "name": "stdout",
     "output_type": "stream",
     "text": [
      "4\n",
      "append 1\n",
      "append 2\n",
      "insert 3 1\n",
      "print\n",
      "[1, 2, 1]\n"
     ]
    }
   ],
   "source": [
    "if __name__ == '__main__':\n",
    "    N = int(input())\n",
    "    l = []\n",
    "    for _ in range(N):\n",
    "        user_input = input().split()\n",
    "        cmd = user_input[0]\n",
    "        args = user_input[1:]\n",
    "        if cmd !=\"print\":\n",
    "            cmd += \"(\"+ \",\".join(args) +\")\"\n",
    "            eval(\"l.\"+cmd)\n",
    "        else:\n",
    "            print(l)\n",
    "    \n",
    "        \n"
   ]
  }
 ],
 "metadata": {
  "kernelspec": {
   "display_name": "Python 3",
   "language": "python",
   "name": "python3"
  },
  "language_info": {
   "codemirror_mode": {
    "name": "ipython",
    "version": 3
   },
   "file_extension": ".py",
   "mimetype": "text/x-python",
   "name": "python",
   "nbconvert_exporter": "python",
   "pygments_lexer": "ipython3",
   "version": "3.8.5"
  }
 },
 "nbformat": 4,
 "nbformat_minor": 4
}
