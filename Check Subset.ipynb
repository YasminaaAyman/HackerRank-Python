{
 "cells": [
  {
   "cell_type": "markdown",
   "metadata": {},
   "source": [
    "# Check Subset\n",
    "You are given two sets, **A** and **B**.<br>\n",
    "Your job is to find whether set **A** is a subset of set **B**.<br>\n",
    "\n",
    "If set **A** is subset of set **B**, print **True**.<br>\n",
    "If set **A** is not a subset of set **B**, print **False**.<br>\n",
    "\n",
    "### Input Format\n",
    "\n",
    "The first line will contain the number of test cases, **T**.<br>\n",
    "The first line of each test case contains the number of elements in set **A**.<br>\n",
    "The second line of each test case contains the space separated elements of set **A**.<br>\n",
    "The third line of each test case contains the number of elements in set **B**.<br>\n",
    "The fourth line of each test case contains the space separated elements of set **B**.<br>\n",
    "\n",
    "### Constraints\n",
    "\n",
    "$ 0 < T < 21 $<br>\n",
    "$ 0 < Number of elements in each set < 1001 $<br>\n",
    "\n",
    "\n",
    "### Output Format\n",
    "\n",
    "Output **True** or **False** for each test case on separate lines."
   ]
  },
  {
   "cell_type": "code",
   "execution_count": 1,
   "metadata": {},
   "outputs": [
    {
     "name": "stdout",
     "output_type": "stream",
     "text": [
      "3\n",
      "5\n",
      "1 2 3 5 6\n",
      "9\n",
      "9 8 5 6 3 2 1 4 7\n",
      "True\n",
      "1\n",
      "2\n",
      "5\n",
      "3 6 5 4 1\n",
      "False\n",
      "7\n",
      "1 2 3 5 6 8 9\n",
      "3\n",
      "9 8 2\n",
      "False\n"
     ]
    }
   ],
   "source": [
    "if __name__ == \"__main__\":\n",
    "    t = int(input())\n",
    "    for i in range(t):\n",
    "        a = int(input())\n",
    "        set_A = set(map(int, input().split()))\n",
    "        b = int(input())\n",
    "        set_B = set(map(int, input().split()))\n",
    "        print(set_A.issubset(set_B))"
   ]
  }
 ],
 "metadata": {
  "kernelspec": {
   "display_name": "Python 3",
   "language": "python",
   "name": "python3"
  },
  "language_info": {
   "codemirror_mode": {
    "name": "ipython",
    "version": 3
   },
   "file_extension": ".py",
   "mimetype": "text/x-python",
   "name": "python",
   "nbconvert_exporter": "python",
   "pygments_lexer": "ipython3",
   "version": "3.8.5"
  }
 },
 "nbformat": 4,
 "nbformat_minor": 4
}
