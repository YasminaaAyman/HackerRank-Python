{
 "cells": [
  {
   "cell_type": "markdown",
   "metadata": {},
   "source": [
    "# Python If-Else\n",
    "### Task \n",
    "Given an integer,`n`, perform the following conditional actions:\n",
    "- If `n` is odd, print Weird\n",
    "- If `n` is even and in the inclusive range of 2 to 5, print Not Weird\n",
    "- If `n` is even and in the inclusive range of 6 to 20, print Weird\n",
    "- If `n` is even and greater than 20, print Not Weird\n",
    "\n",
    "### Input Format\n",
    "A single line containing a positive integer, `n`.\n",
    "### Constraints\n",
    "1 <= `n` <= 100\n",
    "### Output Format\n",
    "Print Weird if the number is weird. Otherwise, print Not Weird."
   ]
  },
  {
   "cell_type": "code",
   "execution_count": null,
   "metadata": {},
   "outputs": [],
   "source": [
    "#!/bin/python3\n",
    "\n",
    "import math\n",
    "import os\n",
    "import random\n",
    "import re\n",
    "import sys\n",
    "\n",
    "\n",
    "\n",
    "if __name__ == '__main__':\n",
    "    n = int(input().strip())\n",
    "    if (n % 2 != 0) or ((n % 2 == 0) and (n in range(6,21))):\n",
    "        print(\"Weird\")\n",
    "    elif (n % 2 == 0) and ((n in range(2,6)) or (n > 20)):\n",
    "        print(\"Not Weird\")\n"
   ]
  }
 ],
 "metadata": {
  "kernelspec": {
   "display_name": "Python 3",
   "language": "python",
   "name": "python3"
  },
  "language_info": {
   "codemirror_mode": {
    "name": "ipython",
    "version": 3
   },
   "file_extension": ".py",
   "mimetype": "text/x-python",
   "name": "python",
   "nbconvert_exporter": "python",
   "pygments_lexer": "ipython3",
   "version": "3.8.5"
  }
 },
 "nbformat": 4,
 "nbformat_minor": 4
}
