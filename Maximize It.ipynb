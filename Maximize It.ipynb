{
 "cells": [
  {
   "cell_type": "markdown",
   "metadata": {},
   "source": [
    "# Maximize It!\n",
    "You are given a function $f(X) = X^2$. You are also given $K$ lists. The $i^{th}$ list consists of $N_{i}$ elements.\n",
    "\n",
    "You have to pick one element from each list so that the value from the equation below is maximized:\n",
    "\n",
    "$ S = (f(X_{1}) + f(X_{2}) + ... + f(X_{k})) \\% M $\n",
    "\n",
    "$X_{i}$ denotes the element picked from the $i^{th}$ list . Find the maximized value $S_{max}$ obtained.\n",
    "\n",
    "$\\%$ denotes the modulo operator.\n",
    "\n",
    "Note that you need to take exactly one element from each list, not necessarily the largest element. You add the squares of the chosen elements and perform the modulo operation. The maximum value that you can obtain, will be the answer to the problem.\n",
    "\n",
    "### Input Format\n",
    "\n",
    "The first line contains $2$ space separated integers $K$ and $M$.<br>\n",
    "The next $K$ lines each contains an integer $N_{i}$, denoting the number of elements in the $i^{th}$ list, followed by $N_{i}$ space separated integers denoting the elements in the list.\n",
    "\n",
    "### Constraints\n",
    "\n",
    "$ 1 ≤ K ≤ 7 $<br>\n",
    "$ 1 ≤ M ≤ 1000 $<br>\n",
    "$ 1 ≤ N_{i} ≤ 7 $<br>\n",
    "$ 1 ≤ Magnitude of elements in list ≤ 10^9 $<br>\n",
    "\n",
    "### Output Format\n",
    "\n",
    "Output a single integer denoting the value $S_{max}$.\n",
    "\n",
    "### Sample Input\n",
    "\n",
    "> `3 1000`<br>\n",
    "`2 5 4`<br>\n",
    "`3 7 8 9 `<br>\n",
    "`5 5 7 8 9 10 `<br>\n",
    "\n",
    "### Sample Output\n",
    "\n",
    "> `206`<br>\n",
    "\n",
    "### Explanation\n",
    "\n",
    "Picking $5$ from the $1^{st}$ list, $9$ from the $2^{nd}$ list and $10$ from the $3^{rd}$ list gives the maximum $S$ value equal to $ (5^2 + 9^2 + 10^2) \\% 1000 = 206$."
   ]
  },
  {
   "cell_type": "code",
   "execution_count": 1,
   "metadata": {},
   "outputs": [
    {
     "name": "stdout",
     "output_type": "stream",
     "text": [
      "3 1000\n",
      "2 5 4\n",
      "3 7 8 9\n",
      "5 5 7 8 9 10\n",
      "206\n"
     ]
    }
   ],
   "source": [
    "from itertools import product\n",
    "\n",
    "K, M = map(int, input().split())\n",
    "\n",
    "target_list = [list(map(int, input().split()))[1:] for i in range(K)]\n",
    "\n",
    "equation = map(lambda i: sum(j**2 for j in i)%M ,product(*target_list))\n",
    "\n",
    "print(max(equation))"
   ]
  }
 ],
 "metadata": {
  "kernelspec": {
   "display_name": "Python 3",
   "language": "python",
   "name": "python3"
  },
  "language_info": {
   "codemirror_mode": {
    "name": "ipython",
    "version": 3
   },
   "file_extension": ".py",
   "mimetype": "text/x-python",
   "name": "python",
   "nbconvert_exporter": "python",
   "pygments_lexer": "ipython3",
   "version": "3.8.5"
  }
 },
 "nbformat": 4,
 "nbformat_minor": 4
}
