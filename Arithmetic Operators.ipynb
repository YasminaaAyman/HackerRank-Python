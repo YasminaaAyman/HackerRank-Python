{
 "cells": [
  {
   "cell_type": "markdown",
   "metadata": {},
   "source": [
    "# Arithmetic Operators\n",
    "### Task\n",
    "The provided code stub reads two integers from STDIN, `a` and `b`. Add code to print three lines where:\n",
    "1. The first line contains the sum of the two numbers.\n",
    "2. The second line contains the difference of the two numbers (first - second).\n",
    "3. The third line contains the product of the two numbers.\n",
    "\n",
    "### Example\n",
    "`a` = 3<br>\n",
    "`b` = 5<br>\n",
    "`output`<br>\n",
    "8<br>-2<br>15<br>\n",
    "### Input Format\n",
    "The first line contains the first integer, `a`.\n",
    "The second line contains the second integer, `b`.\n",
    "### Constraints\n",
    "$ 1 <= a <= 10^{10} $ <br>\n",
    "$ 1 <= b <= 10^{10} $\n",
    "### Output Format\n",
    "Print the three lines as explained above.\n",
    "***"
   ]
  },
  {
   "cell_type": "code",
   "execution_count": 2,
   "metadata": {},
   "outputs": [
    {
     "name": "stdout",
     "output_type": "stream",
     "text": [
      "6\n",
      "7\n",
      "13\n",
      "-1\n",
      "42\n"
     ]
    }
   ],
   "source": [
    "if __name__ == '__main__':\n",
    "    a = int(input())\n",
    "    b = int(input())\n",
    "    print('{0}\\n{1}\\n{2}'.format((a+b), (a-b), (a*b)))"
   ]
  },
  {
   "cell_type": "code",
   "execution_count": null,
   "metadata": {},
   "outputs": [],
   "source": []
  }
 ],
 "metadata": {
  "kernelspec": {
   "display_name": "Python 3",
   "language": "python",
   "name": "python3"
  },
  "language_info": {
   "codemirror_mode": {
    "name": "ipython",
    "version": 3
   },
   "file_extension": ".py",
   "mimetype": "text/x-python",
   "name": "python",
   "nbconvert_exporter": "python",
   "pygments_lexer": "ipython3",
   "version": "3.8.5"
  }
 },
 "nbformat": 4,
 "nbformat_minor": 4
}
