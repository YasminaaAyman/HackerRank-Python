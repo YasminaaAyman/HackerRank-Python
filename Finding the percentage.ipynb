{
 "cells": [
  {
   "cell_type": "markdown",
   "metadata": {},
   "source": [
    "# Finding the percentage\n",
    "The provided code stub will read in a dictionary containing key/value pairs of name:[marks] for a list of students. Print the average of the marks array for the student name provided, showing 2 places after the decimal.\n",
    "### Example\n",
    "$marks key: value pairs are$<br>$'alpha': [20,30,40]$<br>$'beta': [30,50,70]$<br>$query_name='beta'$<br>\n",
    "The **query_name** is 'beta'. beta's average score is $(30+50+70)/3 = 50.0$\n",
    "### Input Format\n",
    "The first line contains the integer $n$, the number of students' records. The next $n$ lines contain the names and marks obtained by a student, each value separated by a space. The final line contains query_name, the name of a student to query.\n",
    "### Constraints\n",
    "* $2 <= n <= 10$\n",
    "* $0 <= marks[i] <= 100$\n",
    "* length of marks arrays = 3\n",
    "\n",
    "### Output Format\n",
    "Print one line: The average of the marks obtained by the particular student correct to 2 decimal places."
   ]
  },
  {
   "cell_type": "code",
   "execution_count": 1,
   "metadata": {},
   "outputs": [
    {
     "name": "stdout",
     "output_type": "stream",
     "text": [
      "2\n",
      "alpha 20 30 40\n",
      "beta 30 50 70\n",
      "beta\n",
      "50.00\n"
     ]
    }
   ],
   "source": [
    "if __name__ == '__main__':\n",
    "    n = int(input())\n",
    "    student_marks = {}\n",
    "    for _ in range(n):\n",
    "        name, *line = input().split()\n",
    "        scores = list(map(float, line))\n",
    "        student_marks[name] = scores\n",
    "    query_name = input()\n",
    "    target = sum(student_marks[query_name])/3\n",
    "    print(\"%.2f\" % target)\n"
   ]
  }
 ],
 "metadata": {
  "kernelspec": {
   "display_name": "Python 3",
   "language": "python",
   "name": "python3"
  },
  "language_info": {
   "codemirror_mode": {
    "name": "ipython",
    "version": 3
   },
   "file_extension": ".py",
   "mimetype": "text/x-python",
   "name": "python",
   "nbconvert_exporter": "python",
   "pygments_lexer": "ipython3",
   "version": "3.8.5"
  }
 },
 "nbformat": 4,
 "nbformat_minor": 4
}
