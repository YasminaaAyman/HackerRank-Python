{
 "cells": [
  {
   "cell_type": "markdown",
   "metadata": {},
   "source": [
    "# Set .union() Operation\n",
    "![image](https://s3.amazonaws.com/hr-challenge-images/9417/1437829708-707212e33e-AuB.png)\n",
    "\n",
    "### .union()\n",
    "\n",
    "The .union() operator returns the union of a set and the set of elements in an iterable.<br>\n",
    "Sometimes, the | operator is used in place of .union() operator, but it operates only on the set of elements in set.<br>\n",
    "Set is immutable to the .union() operation (or | operation).<br>\n",
    "\n",
    "### Example\n",
    "\n",
    "> `>>> s = set(\"Hacker\")`<br>\n",
    "`>>> print s.union(\"Rank\")`<br>\n",
    "`set(['a', 'R', 'c', 'r', 'e', 'H', 'k', 'n'])`<br><br>\n",
    "`>>> print s.union(set(['R', 'a', 'n', 'k']))`<br>\n",
    "`set(['a', 'R', 'c', 'r', 'e', 'H', 'k', 'n'])`<br><br>\n",
    "`>>> print s.union(['R', 'a', 'n', 'k'])`<br>\n",
    "`set(['a', 'R', 'c', 'r', 'e', 'H', 'k', 'n'])`<br><br>\n",
    "`>>> print s.union(enumerate(['R', 'a', 'n', 'k']))`<br>\n",
    "`set(['a', 'c', 'r', 'e', (1, 'a'), (2, 'n'), 'H', 'k', (3, 'k'), (0, 'R')])`<br><br>\n",
    "`>>> print s.union({\"Rank\":1})`<br>\n",
    "`set(['a', 'c', 'r', 'e', 'H', 'k', 'Rank'])`<br><br>\n",
    "`>>> s | set(\"Rank\")`<br>\n",
    "`set(['a', 'R', 'c', 'r', 'e', 'H', 'k', 'n'])`<br><br>\n",
    "\n",
    "### Task\n",
    "The students of District College have subscriptions to English and French newspapers. Some students have subscribed only to English, some have subscribed to only French and some have subscribed to both newspapers.<br>\n",
    "\n",
    "You are given two sets of student roll numbers. One set has subscribed to the English newspaper, and the other set is subscribed to the French newspaper. The same student could be in both sets. Your task is to find the total number of students who have subscribed to at least one newspaper.<br>\n",
    "\n",
    "### Input Format\n",
    "\n",
    "The first line contains an integer, **n**, the number of students who have subscribed to the English newspaper.<br>\n",
    "The second line contains **n** space separated roll numbers of those students.<br>\n",
    "The third line contains **b**, the number of students who have subscribed to the French newspaper.<br>\n",
    "The fourth line contains **b** space separated roll numbers of those students.<br>\n",
    "\n",
    "### Constraints\n",
    "$ 0 < Total number of students in college < 1000 $ \n",
    "\n",
    "### Output Format\n",
    "\n",
    "Output the total number of students who have at least one subscription."
   ]
  },
  {
   "cell_type": "code",
   "execution_count": 1,
   "metadata": {},
   "outputs": [
    {
     "name": "stdout",
     "output_type": "stream",
     "text": [
      "9\n",
      "1 2 3 4 5 6 7 8 9\n",
      "9\n",
      "10 1 2 3 11 21 55 6 8\n",
      "13\n"
     ]
    }
   ],
   "source": [
    "if __name__ == '__main__':\n",
    "    n = int(input())\n",
    "    set1 = set(map(int, input().split()))\n",
    "    b = int(input())\n",
    "    set2 = set(map(int, input().split()))\n",
    "    sets_union = set1.union(set2)\n",
    "    print(len(sets_union))\n",
    "    "
   ]
  }
 ],
 "metadata": {
  "kernelspec": {
   "display_name": "Python 3",
   "language": "python",
   "name": "python3"
  },
  "language_info": {
   "codemirror_mode": {
    "name": "ipython",
    "version": 3
   },
   "file_extension": ".py",
   "mimetype": "text/x-python",
   "name": "python",
   "nbconvert_exporter": "python",
   "pygments_lexer": "ipython3",
   "version": "3.8.5"
  }
 },
 "nbformat": 4,
 "nbformat_minor": 4
}
