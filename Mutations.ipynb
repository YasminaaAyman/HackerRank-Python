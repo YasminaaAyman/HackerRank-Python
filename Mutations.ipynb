{
 "cells": [
  {
   "cell_type": "markdown",
   "metadata": {},
   "source": [
    "# Mutations\n",
    "We have seen that lists are mutable (they can be changed), and tuples are immutable (they cannot be changed).<br>\n",
    "Let's try to understand this with an example.<br>\n",
    "You are given an immutable string, and you want to make changes to it.<br>\n",
    "### Example \n",
    "> `>>> string = \"abracadabra\"`<br>\n",
    "\n",
    "You can access an index by:<br>\n",
    "> `>>> print string[5]`<br> `a`<br>\n",
    "\n",
    "What if you would like to assign a value?<br>\n",
    "> `>>> string[5] = 'k'`<br>\n",
    "`Traceback (most recent call last):`<br>\n",
    "  `File \"<stdin>\", line 1, in <module>`<br>\n",
    "`TypeError: 'str' object does not support item assignment`<br>\n",
    "\n",
    "How would you approach this?<br>\n",
    "* One solution is to convert the string to a list and then change the value.\n",
    "\n",
    "### Example\n",
    "> `>>> string = \"abracadabra\"`<br>\n",
    "`>>> l = list(string)`<br>\n",
    "`>>> l[5] = 'k'`<br>\n",
    "`>>> string = ''.join(l)`<br>\n",
    "`>>> print string`<br>\n",
    "`abrackdabra`<br>\n",
    "\n",
    "* Another approach is to slice the string and join it back.\n",
    "\n",
    "Example:\n",
    "> `>>> string = string[:5] + \"k\" + string[6:]`<br>\n",
    "`>>> print string`<br>\n",
    "`abrackdabra`<br>\n",
    "### Task\n",
    "Read a given string, change the character at a given index and then print the modified string.\n",
    "### Function Description\n",
    "Complete the mutate_string function in the editor below.<br>\n",
    "mutate_string has the following parameters:<br>\n",
    "* string string: the string to change\n",
    "* int position: the index to insert the character at\n",
    "* string character: the character to insert\n",
    "\n",
    "### Returns\n",
    "* string: the altered string\n",
    " \n",
    "### Input Format\n",
    "The first line contains a string, $string$.<br>\n",
    "The next line contains an integer $position$, the index location and a string $character$, separated by a space."
   ]
  },
  {
   "cell_type": "code",
   "execution_count": 1,
   "metadata": {},
   "outputs": [
    {
     "name": "stdout",
     "output_type": "stream",
     "text": [
      "abracadabra\n",
      "5 k\n",
      "abrackdabra\n"
     ]
    }
   ],
   "source": [
    "def mutate_string(string, position, character):\n",
    "    newstring = string[:position] + character + string[position+1:]\n",
    "    return newstring\n",
    "\n",
    "if __name__ == '__main__':\n",
    "    s = input()\n",
    "    i, c = input().split()\n",
    "    s_new = mutate_string(s, int(i), c)\n",
    "    print(s_new)"
   ]
  }
 ],
 "metadata": {
  "kernelspec": {
   "display_name": "Python 3",
   "language": "python",
   "name": "python3"
  },
  "language_info": {
   "codemirror_mode": {
    "name": "ipython",
    "version": 3
   },
   "file_extension": ".py",
   "mimetype": "text/x-python",
   "name": "python",
   "nbconvert_exporter": "python",
   "pygments_lexer": "ipython3",
   "version": "3.8.5"
  }
 },
 "nbformat": 4,
 "nbformat_minor": 4
}
