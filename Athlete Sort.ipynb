{
 "cells": [
  {
   "cell_type": "markdown",
   "metadata": {},
   "source": [
    "# Athlete Sort\n",
    "You are given a spreadsheet that contains a list of $N$ athletes and their details (such as age, height, weight and so on). You are required to sort the data based on the $K^{th}$ attribute and print the final resulting table. Follow the example given below for better understanding.<br>\n",
    "![image](https://s3.amazonaws.com/hr-assets/0/1514874268-6fabad07aa-AthleteSort2.png)<br>\n",
    "Note that $K$ is indexed from $0$ to $M - 1$, where $M$ is the number of attributes.<br>\n",
    "\n",
    "**Note:** If two attributes are the same for different rows, for example, if two atheletes are of the same age, print the row that appeared first in the input.<br>\n",
    "\n",
    "### Input Format\n",
    "\n",
    "The first line contains $N$ and $M$ separated by a space.<br>\n",
    "The next $N$ lines each contain $M$ elements.<br>\n",
    "The last line contains $K$.\n",
    "\n",
    "### Constraints\n",
    "\n",
    "$ 1 ≤ N,M ≤ 1000 $<br>\n",
    "$ 0 ≤ k < M $<br>\n",
    "Each element $≤ 1000$\n",
    "\n",
    "### Output Format\n",
    "\n",
    "Print the $N$ lines of the sorted table. Each line should contain the space separated elements. Check the sample below for clarity.\n",
    "\n",
    "### Sample Input 0\n",
    "\n",
    "> `5 3`<br>\n",
    "`10 2 5`<br>\n",
    "`7 1 0`<br>\n",
    "`9 9 9`<br>\n",
    "`1 23 12`<br>\n",
    "`6 5 9`<br>\n",
    "`1`<br>\n",
    "### Sample Output 0\n",
    "\n",
    "> `7 1 0`<br>\n",
    "`10 2 5`<br>\n",
    "`6 5 9`<br>\n",
    "`9 9 9`<br>\n",
    "`1 23 12`<br>\n",
    "\n",
    "### Explanation 0\n",
    "\n",
    "The details are sorted based on the second attribute, since  $K$is zero-indexed."
   ]
  },
  {
   "cell_type": "code",
   "execution_count": 1,
   "metadata": {},
   "outputs": [
    {
     "name": "stdout",
     "output_type": "stream",
     "text": [
      "5 3\n",
      "10 2 5\n",
      "7 1 0\n",
      "9 9 9\n",
      "1 23 12\n",
      "6 5 9\n",
      "1\n",
      "7 1 0\n",
      "10 2 5\n",
      "6 5 9\n",
      "9 9 9\n",
      "1 23 12\n"
     ]
    }
   ],
   "source": [
    "N, M = map(int, input().split())\n",
    "athlete_rows = [list(map(int, input().split())) for i in range(N)]\n",
    "K = int(input())\n",
    "\n",
    "athlete_rows.sort(key=lambda x: x[K])\n",
    "\n",
    "for row in athlete_rows:\n",
    "    print(*row)"
   ]
  }
 ],
 "metadata": {
  "kernelspec": {
   "display_name": "Python 3",
   "language": "python",
   "name": "python3"
  },
  "language_info": {
   "codemirror_mode": {
    "name": "ipython",
    "version": 3
   },
   "file_extension": ".py",
   "mimetype": "text/x-python",
   "name": "python",
   "nbconvert_exporter": "python",
   "pygments_lexer": "ipython3",
   "version": "3.8.5"
  }
 },
 "nbformat": 4,
 "nbformat_minor": 4
}
