{
 "cells": [
  {
   "cell_type": "markdown",
   "metadata": {},
   "source": [
    "# itertools.permutations()\n",
    "This tool returns successive $ r $ length permutations of elements in an iterable.<br>\n",
    "\n",
    "If $ r $ is not specified or is None, then $ r $ defaults to the length of the iterable, and all possible full length permutations are generated.<br>\n",
    "\n",
    "Permutations are printed in a lexicographic sorted order. So, if the input iterable is sorted, the permutation tuples will be produced in a sorted order.<br>\n",
    "\n",
    "#### Sample code\n",
    "> `>>> from itertools import permutations`<br>\n",
    "`>>> print permutations(['1','2','3'])`<br>\n",
    "`<itertools.permutations object at 0x02A45210>`<br>\n",
    "`>>>`<br>\n",
    "`>>> print list(permutations(['1','2','3']))`<br>\n",
    "`[('1', '2', '3'), ('1', '3', '2'), ('2', '1', '3'), ('2', '3', '1'), ('3', '1', '2'), ('3', '2', '1')]`<br>\n",
    "`>>>`<br>\n",
    "`>>> print list(permutations(['1','2','3'],2))`<br>\n",
    "`[('1', '2'), ('1', '3'), ('2', '1'), ('2', '3'), ('3', '1'), ('3', '2')]`<br>\n",
    "`>>>`<br>\n",
    "`>>> print list(permutations('abc',3))`<br>\n",
    "`[('a', 'b', 'c'), ('a', 'c', 'b'), ('b', 'a', 'c'), ('b', 'c', 'a'), ('c', 'a', 'b'), ('c', 'b', 'a')]`<br>\n",
    "\n",
    "## Task\n",
    "\n",
    "You are given a string $ S $.<br>\n",
    "Your task is to print all possible permutations of size $ K $ of the string in lexicographic sorted order.\n",
    "\n",
    "### Input Format\n",
    "\n",
    "A single line containing the space separated string $ S $ and the integer value $ K $.\n",
    "\n",
    "### Constraints\n",
    "\n",
    "$ 0 < K ⩽ len(S) $<br>\n",
    "The string contains only UPPERCASE characters.\n",
    "\n",
    "### Output Format\n",
    "\n",
    "Print the permutations of the string $ S $ on separate lines."
   ]
  },
  {
   "cell_type": "code",
   "execution_count": 1,
   "metadata": {},
   "outputs": [
    {
     "name": "stdout",
     "output_type": "stream",
     "text": [
      "HACK 2\n",
      "AC\n",
      "AH\n",
      "AK\n",
      "CA\n",
      "CH\n",
      "CK\n",
      "HA\n",
      "HC\n",
      "HK\n",
      "KA\n",
      "KC\n",
      "KH\n"
     ]
    }
   ],
   "source": [
    "from itertools import permutations\n",
    "S, k = input().split()\n",
    "sorted_string = sorted(S)\n",
    "possible_permutations = list(permutations(sorted_string,int(k)))\n",
    "for i in possible_permutations:\n",
    "    print(''.join(i))"
   ]
  }
 ],
 "metadata": {
  "kernelspec": {
   "display_name": "Python 3",
   "language": "python",
   "name": "python3"
  },
  "language_info": {
   "codemirror_mode": {
    "name": "ipython",
    "version": 3
   },
   "file_extension": ".py",
   "mimetype": "text/x-python",
   "name": "python",
   "nbconvert_exporter": "python",
   "pygments_lexer": "ipython3",
   "version": "3.8.5"
  }
 },
 "nbformat": 4,
 "nbformat_minor": 4
}
